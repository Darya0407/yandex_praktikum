{
 "cells": [
  {
   "cell_type": "markdown",
   "metadata": {},
   "source": [
    "# Сборный проект"
   ]
  },
  {
   "cell_type": "markdown",
   "metadata": {},
   "source": [
    " Исследование продаж в интернет-магазине «Стримчик» для выявления закономерностей в продажах успешных компьютерных игр.  Это позволит сделать ставку на потенциально популярный продукт и спланировать рекламные кампании."
   ]
  },
  {
   "cell_type": "markdown",
   "metadata": {},
   "source": [
    "\n",
    "Из открытых источников доступны исторические данные о продажах игр, оценки пользователей и экспертов, жанры и платформы (например, Xbox или PlayStation). Также попадается аббревиатура ESRB (Entertainment Software Rating Board) — это ассоциация, определяющая возрастной рейтинг компьютерных игр. ESRB оценивает игровой контент и присваивает ему подходящую возрастную категорию, например, «Для взрослых», «Для детей младшего возраста» или «Для подростков». Необходимо выявить определяющие успешность игры закономерности. Это позволит сделать ставку на потенциально популярный продукт и спланировать рекламные кампании.\\\n",
    "Что нужно сделать:\n",
    "- 1. Подготовить данные\n",
    "- 2. Провести исследовательский анализ данных:\n",
    "    - Посмотреть, сколько игр выпускалось в разные годы\n",
    "    - Посмотреть, как менялись продажи по платформам\n",
    "    - Определить лидеров продаж в актуальный период и посмотреть влияют ли оценки на продажи\n",
    "    - Определить какой жанр больше всего пользуется популярностью\n",
    "- 3. Описать портрет типичного пользователя: Северной Америки, Европы и Японии, а именно:\n",
    "    - топ платформ\n",
    "    - топ жанры\n",
    "    - топ рейтинг игры\n",
    "- 4. Проверка гипотез:\n",
    "    - Средние пользовательские рейтинги платформ Xbox One и PC одинаковые;\n",
    "    - Средние пользовательские рейтинги жанров Action и Sports  разные."
   ]
  },
  {
   "cell_type": "markdown",
   "metadata": {},
   "source": [
    "## Общая информация"
   ]
  },
  {
   "cell_type": "code",
   "execution_count": 1,
   "metadata": {},
   "outputs": [],
   "source": [
    "# имбортируем библиотеки\n",
    "import pandas as pd\n",
    "import matplotlib.pyplot as plt\n",
    "import seaborn as sns\n",
    "from scipy import stats as st\n",
    "import numpy as np"
   ]
  },
  {
   "cell_type": "code",
   "execution_count": 2,
   "metadata": {},
   "outputs": [],
   "source": [
    "# считываем файл\n",
    "data = pd.read_csv('C:\\\\Users\\\\Дмитрий\\\\Downloads\\\\games.csv')"
   ]
  },
  {
   "cell_type": "code",
   "execution_count": 3,
   "metadata": {
    "scrolled": true
   },
   "outputs": [
    {
     "data": {
      "text/html": [
       "<div>\n",
       "<style scoped>\n",
       "    .dataframe tbody tr th:only-of-type {\n",
       "        vertical-align: middle;\n",
       "    }\n",
       "\n",
       "    .dataframe tbody tr th {\n",
       "        vertical-align: top;\n",
       "    }\n",
       "\n",
       "    .dataframe thead th {\n",
       "        text-align: right;\n",
       "    }\n",
       "</style>\n",
       "<table border=\"1\" class=\"dataframe\">\n",
       "  <thead>\n",
       "    <tr style=\"text-align: right;\">\n",
       "      <th></th>\n",
       "      <th>Name</th>\n",
       "      <th>Platform</th>\n",
       "      <th>Year_of_Release</th>\n",
       "      <th>Genre</th>\n",
       "      <th>NA_sales</th>\n",
       "      <th>EU_sales</th>\n",
       "      <th>JP_sales</th>\n",
       "      <th>Other_sales</th>\n",
       "      <th>Critic_Score</th>\n",
       "      <th>User_Score</th>\n",
       "      <th>Rating</th>\n",
       "    </tr>\n",
       "  </thead>\n",
       "  <tbody>\n",
       "    <tr>\n",
       "      <th>0</th>\n",
       "      <td>Wii Sports</td>\n",
       "      <td>Wii</td>\n",
       "      <td>2006.0</td>\n",
       "      <td>Sports</td>\n",
       "      <td>41.36</td>\n",
       "      <td>28.96</td>\n",
       "      <td>3.77</td>\n",
       "      <td>8.45</td>\n",
       "      <td>76.0</td>\n",
       "      <td>8</td>\n",
       "      <td>E</td>\n",
       "    </tr>\n",
       "    <tr>\n",
       "      <th>1</th>\n",
       "      <td>Super Mario Bros.</td>\n",
       "      <td>NES</td>\n",
       "      <td>1985.0</td>\n",
       "      <td>Platform</td>\n",
       "      <td>29.08</td>\n",
       "      <td>3.58</td>\n",
       "      <td>6.81</td>\n",
       "      <td>0.77</td>\n",
       "      <td>NaN</td>\n",
       "      <td>NaN</td>\n",
       "      <td>NaN</td>\n",
       "    </tr>\n",
       "    <tr>\n",
       "      <th>2</th>\n",
       "      <td>Mario Kart Wii</td>\n",
       "      <td>Wii</td>\n",
       "      <td>2008.0</td>\n",
       "      <td>Racing</td>\n",
       "      <td>15.68</td>\n",
       "      <td>12.76</td>\n",
       "      <td>3.79</td>\n",
       "      <td>3.29</td>\n",
       "      <td>82.0</td>\n",
       "      <td>8.3</td>\n",
       "      <td>E</td>\n",
       "    </tr>\n",
       "    <tr>\n",
       "      <th>3</th>\n",
       "      <td>Wii Sports Resort</td>\n",
       "      <td>Wii</td>\n",
       "      <td>2009.0</td>\n",
       "      <td>Sports</td>\n",
       "      <td>15.61</td>\n",
       "      <td>10.93</td>\n",
       "      <td>3.28</td>\n",
       "      <td>2.95</td>\n",
       "      <td>80.0</td>\n",
       "      <td>8</td>\n",
       "      <td>E</td>\n",
       "    </tr>\n",
       "    <tr>\n",
       "      <th>4</th>\n",
       "      <td>Pokemon Red/Pokemon Blue</td>\n",
       "      <td>GB</td>\n",
       "      <td>1996.0</td>\n",
       "      <td>Role-Playing</td>\n",
       "      <td>11.27</td>\n",
       "      <td>8.89</td>\n",
       "      <td>10.22</td>\n",
       "      <td>1.00</td>\n",
       "      <td>NaN</td>\n",
       "      <td>NaN</td>\n",
       "      <td>NaN</td>\n",
       "    </tr>\n",
       "    <tr>\n",
       "      <th>5</th>\n",
       "      <td>Tetris</td>\n",
       "      <td>GB</td>\n",
       "      <td>1989.0</td>\n",
       "      <td>Puzzle</td>\n",
       "      <td>23.20</td>\n",
       "      <td>2.26</td>\n",
       "      <td>4.22</td>\n",
       "      <td>0.58</td>\n",
       "      <td>NaN</td>\n",
       "      <td>NaN</td>\n",
       "      <td>NaN</td>\n",
       "    </tr>\n",
       "    <tr>\n",
       "      <th>6</th>\n",
       "      <td>New Super Mario Bros.</td>\n",
       "      <td>DS</td>\n",
       "      <td>2006.0</td>\n",
       "      <td>Platform</td>\n",
       "      <td>11.28</td>\n",
       "      <td>9.14</td>\n",
       "      <td>6.50</td>\n",
       "      <td>2.88</td>\n",
       "      <td>89.0</td>\n",
       "      <td>8.5</td>\n",
       "      <td>E</td>\n",
       "    </tr>\n",
       "    <tr>\n",
       "      <th>7</th>\n",
       "      <td>Wii Play</td>\n",
       "      <td>Wii</td>\n",
       "      <td>2006.0</td>\n",
       "      <td>Misc</td>\n",
       "      <td>13.96</td>\n",
       "      <td>9.18</td>\n",
       "      <td>2.93</td>\n",
       "      <td>2.84</td>\n",
       "      <td>58.0</td>\n",
       "      <td>6.6</td>\n",
       "      <td>E</td>\n",
       "    </tr>\n",
       "    <tr>\n",
       "      <th>8</th>\n",
       "      <td>New Super Mario Bros. Wii</td>\n",
       "      <td>Wii</td>\n",
       "      <td>2009.0</td>\n",
       "      <td>Platform</td>\n",
       "      <td>14.44</td>\n",
       "      <td>6.94</td>\n",
       "      <td>4.70</td>\n",
       "      <td>2.24</td>\n",
       "      <td>87.0</td>\n",
       "      <td>8.4</td>\n",
       "      <td>E</td>\n",
       "    </tr>\n",
       "    <tr>\n",
       "      <th>9</th>\n",
       "      <td>Duck Hunt</td>\n",
       "      <td>NES</td>\n",
       "      <td>1984.0</td>\n",
       "      <td>Shooter</td>\n",
       "      <td>26.93</td>\n",
       "      <td>0.63</td>\n",
       "      <td>0.28</td>\n",
       "      <td>0.47</td>\n",
       "      <td>NaN</td>\n",
       "      <td>NaN</td>\n",
       "      <td>NaN</td>\n",
       "    </tr>\n",
       "  </tbody>\n",
       "</table>\n",
       "</div>"
      ],
      "text/plain": [
       "                        Name Platform  Year_of_Release         Genre  \\\n",
       "0                 Wii Sports      Wii           2006.0        Sports   \n",
       "1          Super Mario Bros.      NES           1985.0      Platform   \n",
       "2             Mario Kart Wii      Wii           2008.0        Racing   \n",
       "3          Wii Sports Resort      Wii           2009.0        Sports   \n",
       "4   Pokemon Red/Pokemon Blue       GB           1996.0  Role-Playing   \n",
       "5                     Tetris       GB           1989.0        Puzzle   \n",
       "6      New Super Mario Bros.       DS           2006.0      Platform   \n",
       "7                   Wii Play      Wii           2006.0          Misc   \n",
       "8  New Super Mario Bros. Wii      Wii           2009.0      Platform   \n",
       "9                  Duck Hunt      NES           1984.0       Shooter   \n",
       "\n",
       "   NA_sales  EU_sales  JP_sales  Other_sales  Critic_Score User_Score Rating  \n",
       "0     41.36     28.96      3.77         8.45          76.0          8      E  \n",
       "1     29.08      3.58      6.81         0.77           NaN        NaN    NaN  \n",
       "2     15.68     12.76      3.79         3.29          82.0        8.3      E  \n",
       "3     15.61     10.93      3.28         2.95          80.0          8      E  \n",
       "4     11.27      8.89     10.22         1.00           NaN        NaN    NaN  \n",
       "5     23.20      2.26      4.22         0.58           NaN        NaN    NaN  \n",
       "6     11.28      9.14      6.50         2.88          89.0        8.5      E  \n",
       "7     13.96      9.18      2.93         2.84          58.0        6.6      E  \n",
       "8     14.44      6.94      4.70         2.24          87.0        8.4      E  \n",
       "9     26.93      0.63      0.28         0.47           NaN        NaN    NaN  "
      ]
     },
     "metadata": {},
     "output_type": "display_data"
    },
    {
     "data": {
      "text/html": [
       "<div>\n",
       "<style scoped>\n",
       "    .dataframe tbody tr th:only-of-type {\n",
       "        vertical-align: middle;\n",
       "    }\n",
       "\n",
       "    .dataframe tbody tr th {\n",
       "        vertical-align: top;\n",
       "    }\n",
       "\n",
       "    .dataframe thead th {\n",
       "        text-align: right;\n",
       "    }\n",
       "</style>\n",
       "<table border=\"1\" class=\"dataframe\">\n",
       "  <thead>\n",
       "    <tr style=\"text-align: right;\">\n",
       "      <th></th>\n",
       "      <th>Name</th>\n",
       "      <th>Platform</th>\n",
       "      <th>Year_of_Release</th>\n",
       "      <th>Genre</th>\n",
       "      <th>NA_sales</th>\n",
       "      <th>EU_sales</th>\n",
       "      <th>JP_sales</th>\n",
       "      <th>Other_sales</th>\n",
       "      <th>Critic_Score</th>\n",
       "      <th>User_Score</th>\n",
       "      <th>Rating</th>\n",
       "    </tr>\n",
       "  </thead>\n",
       "  <tbody>\n",
       "    <tr>\n",
       "      <th>16705</th>\n",
       "      <td>15 Days</td>\n",
       "      <td>PC</td>\n",
       "      <td>2009.0</td>\n",
       "      <td>Adventure</td>\n",
       "      <td>0.00</td>\n",
       "      <td>0.01</td>\n",
       "      <td>0.00</td>\n",
       "      <td>0.0</td>\n",
       "      <td>63.0</td>\n",
       "      <td>5.8</td>\n",
       "      <td>NaN</td>\n",
       "    </tr>\n",
       "    <tr>\n",
       "      <th>16706</th>\n",
       "      <td>Men in Black II: Alien Escape</td>\n",
       "      <td>GC</td>\n",
       "      <td>2003.0</td>\n",
       "      <td>Shooter</td>\n",
       "      <td>0.01</td>\n",
       "      <td>0.00</td>\n",
       "      <td>0.00</td>\n",
       "      <td>0.0</td>\n",
       "      <td>NaN</td>\n",
       "      <td>tbd</td>\n",
       "      <td>T</td>\n",
       "    </tr>\n",
       "    <tr>\n",
       "      <th>16707</th>\n",
       "      <td>Aiyoku no Eustia</td>\n",
       "      <td>PSV</td>\n",
       "      <td>2014.0</td>\n",
       "      <td>Misc</td>\n",
       "      <td>0.00</td>\n",
       "      <td>0.00</td>\n",
       "      <td>0.01</td>\n",
       "      <td>0.0</td>\n",
       "      <td>NaN</td>\n",
       "      <td>NaN</td>\n",
       "      <td>NaN</td>\n",
       "    </tr>\n",
       "    <tr>\n",
       "      <th>16708</th>\n",
       "      <td>Woody Woodpecker in Crazy Castle 5</td>\n",
       "      <td>GBA</td>\n",
       "      <td>2002.0</td>\n",
       "      <td>Platform</td>\n",
       "      <td>0.01</td>\n",
       "      <td>0.00</td>\n",
       "      <td>0.00</td>\n",
       "      <td>0.0</td>\n",
       "      <td>NaN</td>\n",
       "      <td>NaN</td>\n",
       "      <td>NaN</td>\n",
       "    </tr>\n",
       "    <tr>\n",
       "      <th>16709</th>\n",
       "      <td>SCORE International Baja 1000: The Official Game</td>\n",
       "      <td>PS2</td>\n",
       "      <td>2008.0</td>\n",
       "      <td>Racing</td>\n",
       "      <td>0.00</td>\n",
       "      <td>0.00</td>\n",
       "      <td>0.00</td>\n",
       "      <td>0.0</td>\n",
       "      <td>NaN</td>\n",
       "      <td>NaN</td>\n",
       "      <td>NaN</td>\n",
       "    </tr>\n",
       "    <tr>\n",
       "      <th>16710</th>\n",
       "      <td>Samurai Warriors: Sanada Maru</td>\n",
       "      <td>PS3</td>\n",
       "      <td>2016.0</td>\n",
       "      <td>Action</td>\n",
       "      <td>0.00</td>\n",
       "      <td>0.00</td>\n",
       "      <td>0.01</td>\n",
       "      <td>0.0</td>\n",
       "      <td>NaN</td>\n",
       "      <td>NaN</td>\n",
       "      <td>NaN</td>\n",
       "    </tr>\n",
       "    <tr>\n",
       "      <th>16711</th>\n",
       "      <td>LMA Manager 2007</td>\n",
       "      <td>X360</td>\n",
       "      <td>2006.0</td>\n",
       "      <td>Sports</td>\n",
       "      <td>0.00</td>\n",
       "      <td>0.01</td>\n",
       "      <td>0.00</td>\n",
       "      <td>0.0</td>\n",
       "      <td>NaN</td>\n",
       "      <td>NaN</td>\n",
       "      <td>NaN</td>\n",
       "    </tr>\n",
       "    <tr>\n",
       "      <th>16712</th>\n",
       "      <td>Haitaka no Psychedelica</td>\n",
       "      <td>PSV</td>\n",
       "      <td>2016.0</td>\n",
       "      <td>Adventure</td>\n",
       "      <td>0.00</td>\n",
       "      <td>0.00</td>\n",
       "      <td>0.01</td>\n",
       "      <td>0.0</td>\n",
       "      <td>NaN</td>\n",
       "      <td>NaN</td>\n",
       "      <td>NaN</td>\n",
       "    </tr>\n",
       "    <tr>\n",
       "      <th>16713</th>\n",
       "      <td>Spirits &amp; Spells</td>\n",
       "      <td>GBA</td>\n",
       "      <td>2003.0</td>\n",
       "      <td>Platform</td>\n",
       "      <td>0.01</td>\n",
       "      <td>0.00</td>\n",
       "      <td>0.00</td>\n",
       "      <td>0.0</td>\n",
       "      <td>NaN</td>\n",
       "      <td>NaN</td>\n",
       "      <td>NaN</td>\n",
       "    </tr>\n",
       "    <tr>\n",
       "      <th>16714</th>\n",
       "      <td>Winning Post 8 2016</td>\n",
       "      <td>PSV</td>\n",
       "      <td>2016.0</td>\n",
       "      <td>Simulation</td>\n",
       "      <td>0.00</td>\n",
       "      <td>0.00</td>\n",
       "      <td>0.01</td>\n",
       "      <td>0.0</td>\n",
       "      <td>NaN</td>\n",
       "      <td>NaN</td>\n",
       "      <td>NaN</td>\n",
       "    </tr>\n",
       "  </tbody>\n",
       "</table>\n",
       "</div>"
      ],
      "text/plain": [
       "                                                   Name Platform  \\\n",
       "16705                                           15 Days       PC   \n",
       "16706                     Men in Black II: Alien Escape       GC   \n",
       "16707                                  Aiyoku no Eustia      PSV   \n",
       "16708                Woody Woodpecker in Crazy Castle 5      GBA   \n",
       "16709  SCORE International Baja 1000: The Official Game      PS2   \n",
       "16710                     Samurai Warriors: Sanada Maru      PS3   \n",
       "16711                                  LMA Manager 2007     X360   \n",
       "16712                           Haitaka no Psychedelica      PSV   \n",
       "16713                                  Spirits & Spells      GBA   \n",
       "16714                               Winning Post 8 2016      PSV   \n",
       "\n",
       "       Year_of_Release       Genre  NA_sales  EU_sales  JP_sales  Other_sales  \\\n",
       "16705           2009.0   Adventure      0.00      0.01      0.00          0.0   \n",
       "16706           2003.0     Shooter      0.01      0.00      0.00          0.0   \n",
       "16707           2014.0        Misc      0.00      0.00      0.01          0.0   \n",
       "16708           2002.0    Platform      0.01      0.00      0.00          0.0   \n",
       "16709           2008.0      Racing      0.00      0.00      0.00          0.0   \n",
       "16710           2016.0      Action      0.00      0.00      0.01          0.0   \n",
       "16711           2006.0      Sports      0.00      0.01      0.00          0.0   \n",
       "16712           2016.0   Adventure      0.00      0.00      0.01          0.0   \n",
       "16713           2003.0    Platform      0.01      0.00      0.00          0.0   \n",
       "16714           2016.0  Simulation      0.00      0.00      0.01          0.0   \n",
       "\n",
       "       Critic_Score User_Score Rating  \n",
       "16705          63.0        5.8    NaN  \n",
       "16706           NaN        tbd      T  \n",
       "16707           NaN        NaN    NaN  \n",
       "16708           NaN        NaN    NaN  \n",
       "16709           NaN        NaN    NaN  \n",
       "16710           NaN        NaN    NaN  \n",
       "16711           NaN        NaN    NaN  \n",
       "16712           NaN        NaN    NaN  \n",
       "16713           NaN        NaN    NaN  \n",
       "16714           NaN        NaN    NaN  "
      ]
     },
     "metadata": {},
     "output_type": "display_data"
    }
   ],
   "source": [
    "# на экран\n",
    "display(data.head(10))\n",
    "display(data.tail(10))"
   ]
  },
  {
   "cell_type": "markdown",
   "metadata": {},
   "source": [
    "столбцы с заглавных букв - неудобно, пропуски,  в столбце с оценкой пользователей какое-то непонятное - 'tbd'"
   ]
  },
  {
   "cell_type": "code",
   "execution_count": 4,
   "metadata": {
    "scrolled": true
   },
   "outputs": [
    {
     "name": "stdout",
     "output_type": "stream",
     "text": [
      "<class 'pandas.core.frame.DataFrame'>\n",
      "RangeIndex: 16715 entries, 0 to 16714\n",
      "Data columns (total 11 columns):\n",
      " #   Column           Non-Null Count  Dtype  \n",
      "---  ------           --------------  -----  \n",
      " 0   Name             16713 non-null  object \n",
      " 1   Platform         16715 non-null  object \n",
      " 2   Year_of_Release  16446 non-null  float64\n",
      " 3   Genre            16713 non-null  object \n",
      " 4   NA_sales         16715 non-null  float64\n",
      " 5   EU_sales         16715 non-null  float64\n",
      " 6   JP_sales         16715 non-null  float64\n",
      " 7   Other_sales      16715 non-null  float64\n",
      " 8   Critic_Score     8137 non-null   float64\n",
      " 9   User_Score       10014 non-null  object \n",
      " 10  Rating           9949 non-null   object \n",
      "dtypes: float64(6), object(5)\n",
      "memory usage: 1.4+ MB\n"
     ]
    }
   ],
   "source": [
    "# общая инфо\n",
    "data.info()"
   ]
  },
  {
   "cell_type": "markdown",
   "metadata": {},
   "source": [
    "в столбцах: User_Score, Critic_Score  и Rating много пропусков, в  Year_of_Release тоже пропуски есть, но не много. В столбцах: Year_of_Release, User_Score, Critic_Score неправильный тип данных"
   ]
  },
  {
   "cell_type": "code",
   "execution_count": 5,
   "metadata": {},
   "outputs": [
    {
     "data": {
      "text/html": [
       "<div>\n",
       "<style scoped>\n",
       "    .dataframe tbody tr th:only-of-type {\n",
       "        vertical-align: middle;\n",
       "    }\n",
       "\n",
       "    .dataframe tbody tr th {\n",
       "        vertical-align: top;\n",
       "    }\n",
       "\n",
       "    .dataframe thead th {\n",
       "        text-align: right;\n",
       "    }\n",
       "</style>\n",
       "<table border=\"1\" class=\"dataframe\">\n",
       "  <thead>\n",
       "    <tr style=\"text-align: right;\">\n",
       "      <th></th>\n",
       "      <th>Year_of_Release</th>\n",
       "      <th>NA_sales</th>\n",
       "      <th>EU_sales</th>\n",
       "      <th>JP_sales</th>\n",
       "      <th>Other_sales</th>\n",
       "      <th>Critic_Score</th>\n",
       "    </tr>\n",
       "  </thead>\n",
       "  <tbody>\n",
       "    <tr>\n",
       "      <th>count</th>\n",
       "      <td>16446.000000</td>\n",
       "      <td>16715.000000</td>\n",
       "      <td>16715.000000</td>\n",
       "      <td>16715.000000</td>\n",
       "      <td>16715.000000</td>\n",
       "      <td>8137.000000</td>\n",
       "    </tr>\n",
       "    <tr>\n",
       "      <th>mean</th>\n",
       "      <td>2006.484616</td>\n",
       "      <td>0.263377</td>\n",
       "      <td>0.145060</td>\n",
       "      <td>0.077617</td>\n",
       "      <td>0.047342</td>\n",
       "      <td>68.967679</td>\n",
       "    </tr>\n",
       "    <tr>\n",
       "      <th>std</th>\n",
       "      <td>5.877050</td>\n",
       "      <td>0.813604</td>\n",
       "      <td>0.503339</td>\n",
       "      <td>0.308853</td>\n",
       "      <td>0.186731</td>\n",
       "      <td>13.938165</td>\n",
       "    </tr>\n",
       "    <tr>\n",
       "      <th>min</th>\n",
       "      <td>1980.000000</td>\n",
       "      <td>0.000000</td>\n",
       "      <td>0.000000</td>\n",
       "      <td>0.000000</td>\n",
       "      <td>0.000000</td>\n",
       "      <td>13.000000</td>\n",
       "    </tr>\n",
       "    <tr>\n",
       "      <th>25%</th>\n",
       "      <td>2003.000000</td>\n",
       "      <td>0.000000</td>\n",
       "      <td>0.000000</td>\n",
       "      <td>0.000000</td>\n",
       "      <td>0.000000</td>\n",
       "      <td>60.000000</td>\n",
       "    </tr>\n",
       "    <tr>\n",
       "      <th>50%</th>\n",
       "      <td>2007.000000</td>\n",
       "      <td>0.080000</td>\n",
       "      <td>0.020000</td>\n",
       "      <td>0.000000</td>\n",
       "      <td>0.010000</td>\n",
       "      <td>71.000000</td>\n",
       "    </tr>\n",
       "    <tr>\n",
       "      <th>75%</th>\n",
       "      <td>2010.000000</td>\n",
       "      <td>0.240000</td>\n",
       "      <td>0.110000</td>\n",
       "      <td>0.040000</td>\n",
       "      <td>0.030000</td>\n",
       "      <td>79.000000</td>\n",
       "    </tr>\n",
       "    <tr>\n",
       "      <th>max</th>\n",
       "      <td>2016.000000</td>\n",
       "      <td>41.360000</td>\n",
       "      <td>28.960000</td>\n",
       "      <td>10.220000</td>\n",
       "      <td>10.570000</td>\n",
       "      <td>98.000000</td>\n",
       "    </tr>\n",
       "  </tbody>\n",
       "</table>\n",
       "</div>"
      ],
      "text/plain": [
       "       Year_of_Release      NA_sales      EU_sales      JP_sales  \\\n",
       "count     16446.000000  16715.000000  16715.000000  16715.000000   \n",
       "mean       2006.484616      0.263377      0.145060      0.077617   \n",
       "std           5.877050      0.813604      0.503339      0.308853   \n",
       "min        1980.000000      0.000000      0.000000      0.000000   \n",
       "25%        2003.000000      0.000000      0.000000      0.000000   \n",
       "50%        2007.000000      0.080000      0.020000      0.000000   \n",
       "75%        2010.000000      0.240000      0.110000      0.040000   \n",
       "max        2016.000000     41.360000     28.960000     10.220000   \n",
       "\n",
       "        Other_sales  Critic_Score  \n",
       "count  16715.000000   8137.000000  \n",
       "mean       0.047342     68.967679  \n",
       "std        0.186731     13.938165  \n",
       "min        0.000000     13.000000  \n",
       "25%        0.000000     60.000000  \n",
       "50%        0.010000     71.000000  \n",
       "75%        0.030000     79.000000  \n",
       "max       10.570000     98.000000  "
      ]
     },
     "execution_count": 5,
     "metadata": {},
     "output_type": "execute_result"
    }
   ],
   "source": [
    "data.describe()"
   ]
  },
  {
   "cell_type": "code",
   "execution_count": 6,
   "metadata": {},
   "outputs": [
    {
     "data": {
      "text/plain": [
       "0"
      ]
     },
     "execution_count": 6,
     "metadata": {},
     "output_type": "execute_result"
    }
   ],
   "source": [
    "# проверим явные дубоикаты\n",
    "data.duplicated().sum()\n",
    "\n",
    "# дубликатов, к счастью, нет"
   ]
  },
  {
   "cell_type": "markdown",
   "metadata": {},
   "source": [
    "## Подготовка данных"
   ]
  },
  {
   "cell_type": "code",
   "execution_count": 7,
   "metadata": {},
   "outputs": [],
   "source": [
    "# столбцы к нижнему регистру\n",
    "data.columns = data.columns.str.lower()"
   ]
  },
  {
   "cell_type": "code",
   "execution_count": 8,
   "metadata": {
    "scrolled": false
   },
   "outputs": [
    {
     "data": {
      "text/html": [
       "<div>\n",
       "<style scoped>\n",
       "    .dataframe tbody tr th:only-of-type {\n",
       "        vertical-align: middle;\n",
       "    }\n",
       "\n",
       "    .dataframe tbody tr th {\n",
       "        vertical-align: top;\n",
       "    }\n",
       "\n",
       "    .dataframe thead th {\n",
       "        text-align: right;\n",
       "    }\n",
       "</style>\n",
       "<table border=\"1\" class=\"dataframe\">\n",
       "  <thead>\n",
       "    <tr style=\"text-align: right;\">\n",
       "      <th></th>\n",
       "      <th>name</th>\n",
       "      <th>platform</th>\n",
       "      <th>year_of_release</th>\n",
       "      <th>genre</th>\n",
       "      <th>na_sales</th>\n",
       "      <th>eu_sales</th>\n",
       "      <th>jp_sales</th>\n",
       "      <th>other_sales</th>\n",
       "      <th>critic_score</th>\n",
       "      <th>user_score</th>\n",
       "      <th>rating</th>\n",
       "    </tr>\n",
       "  </thead>\n",
       "  <tbody>\n",
       "    <tr>\n",
       "      <th>0</th>\n",
       "      <td>Wii Sports</td>\n",
       "      <td>Wii</td>\n",
       "      <td>2006.0</td>\n",
       "      <td>Sports</td>\n",
       "      <td>41.36</td>\n",
       "      <td>28.96</td>\n",
       "      <td>3.77</td>\n",
       "      <td>8.45</td>\n",
       "      <td>76.0</td>\n",
       "      <td>8</td>\n",
       "      <td>E</td>\n",
       "    </tr>\n",
       "    <tr>\n",
       "      <th>1</th>\n",
       "      <td>Super Mario Bros.</td>\n",
       "      <td>NES</td>\n",
       "      <td>1985.0</td>\n",
       "      <td>Platform</td>\n",
       "      <td>29.08</td>\n",
       "      <td>3.58</td>\n",
       "      <td>6.81</td>\n",
       "      <td>0.77</td>\n",
       "      <td>NaN</td>\n",
       "      <td>NaN</td>\n",
       "      <td>NaN</td>\n",
       "    </tr>\n",
       "    <tr>\n",
       "      <th>2</th>\n",
       "      <td>Mario Kart Wii</td>\n",
       "      <td>Wii</td>\n",
       "      <td>2008.0</td>\n",
       "      <td>Racing</td>\n",
       "      <td>15.68</td>\n",
       "      <td>12.76</td>\n",
       "      <td>3.79</td>\n",
       "      <td>3.29</td>\n",
       "      <td>82.0</td>\n",
       "      <td>8.3</td>\n",
       "      <td>E</td>\n",
       "    </tr>\n",
       "    <tr>\n",
       "      <th>3</th>\n",
       "      <td>Wii Sports Resort</td>\n",
       "      <td>Wii</td>\n",
       "      <td>2009.0</td>\n",
       "      <td>Sports</td>\n",
       "      <td>15.61</td>\n",
       "      <td>10.93</td>\n",
       "      <td>3.28</td>\n",
       "      <td>2.95</td>\n",
       "      <td>80.0</td>\n",
       "      <td>8</td>\n",
       "      <td>E</td>\n",
       "    </tr>\n",
       "    <tr>\n",
       "      <th>4</th>\n",
       "      <td>Pokemon Red/Pokemon Blue</td>\n",
       "      <td>GB</td>\n",
       "      <td>1996.0</td>\n",
       "      <td>Role-Playing</td>\n",
       "      <td>11.27</td>\n",
       "      <td>8.89</td>\n",
       "      <td>10.22</td>\n",
       "      <td>1.00</td>\n",
       "      <td>NaN</td>\n",
       "      <td>NaN</td>\n",
       "      <td>NaN</td>\n",
       "    </tr>\n",
       "  </tbody>\n",
       "</table>\n",
       "</div>"
      ],
      "text/plain": [
       "                       name platform  year_of_release         genre  na_sales  \\\n",
       "0                Wii Sports      Wii           2006.0        Sports     41.36   \n",
       "1         Super Mario Bros.      NES           1985.0      Platform     29.08   \n",
       "2            Mario Kart Wii      Wii           2008.0        Racing     15.68   \n",
       "3         Wii Sports Resort      Wii           2009.0        Sports     15.61   \n",
       "4  Pokemon Red/Pokemon Blue       GB           1996.0  Role-Playing     11.27   \n",
       "\n",
       "   eu_sales  jp_sales  other_sales  critic_score user_score rating  \n",
       "0     28.96      3.77         8.45          76.0          8      E  \n",
       "1      3.58      6.81         0.77           NaN        NaN    NaN  \n",
       "2     12.76      3.79         3.29          82.0        8.3      E  \n",
       "3     10.93      3.28         2.95          80.0          8      E  \n",
       "4      8.89     10.22         1.00           NaN        NaN    NaN  "
      ]
     },
     "execution_count": 8,
     "metadata": {},
     "output_type": "execute_result"
    }
   ],
   "source": [
    "#check\n",
    "data.head()\n",
    "\n",
    "#все норм"
   ]
  },
  {
   "cell_type": "code",
   "execution_count": 9,
   "metadata": {},
   "outputs": [
    {
     "data": {
      "text/plain": [
       "array(['8', nan, '8.3', '8.5', '6.6', '8.4', '8.6', '7.7', '6.3', '7.4',\n",
       "       '8.2', '9', '7.9', '8.1', '8.7', '7.1', '3.4', '5.3', '4.8', '3.2',\n",
       "       '8.9', '6.4', '7.8', '7.5', '2.6', '7.2', '9.2', '7', '7.3', '4.3',\n",
       "       '7.6', '5.7', '5', '9.1', '6.5', 'tbd', '8.8', '6.9', '9.4', '6.8',\n",
       "       '6.1', '6.7', '5.4', '4', '4.9', '4.5', '9.3', '6.2', '4.2', '6',\n",
       "       '3.7', '4.1', '5.8', '5.6', '5.5', '4.4', '4.6', '5.9', '3.9',\n",
       "       '3.1', '2.9', '5.2', '3.3', '4.7', '5.1', '3.5', '2.5', '1.9', '3',\n",
       "       '2.7', '2.2', '2', '9.5', '2.1', '3.6', '2.8', '1.8', '3.8', '0',\n",
       "       '1.6', '9.6', '2.4', '1.7', '1.1', '0.3', '1.5', '0.7', '1.2',\n",
       "       '2.3', '0.5', '1.3', '0.2', '0.6', '1.4', '0.9', '1', '9.7'],\n",
       "      dtype=object)"
      ]
     },
     "execution_count": 9,
     "metadata": {},
     "output_type": "execute_result"
    }
   ],
   "source": [
    "# посмотрим что в столбце\n",
    "data['user_score'].unique()"
   ]
  },
  {
   "cell_type": "code",
   "execution_count": 10,
   "metadata": {},
   "outputs": [],
   "source": [
    "# преобразуем типы в столбцах\n",
    "data['year_of_release'] = data['year_of_release'].astype('int64', errors='ignore')\n",
    "data['user_score'] = pd.to_numeric(data['user_score'], errors='coerce')"
   ]
  },
  {
   "cell_type": "code",
   "execution_count": 11,
   "metadata": {},
   "outputs": [
    {
     "data": {
      "text/plain": [
       "array([8. , nan, 8.3, 8.5, 6.6, 8.4, 8.6, 7.7, 6.3, 7.4, 8.2, 9. , 7.9,\n",
       "       8.1, 8.7, 7.1, 3.4, 5.3, 4.8, 3.2, 8.9, 6.4, 7.8, 7.5, 2.6, 7.2,\n",
       "       9.2, 7. , 7.3, 4.3, 7.6, 5.7, 5. , 9.1, 6.5, 8.8, 6.9, 9.4, 6.8,\n",
       "       6.1, 6.7, 5.4, 4. , 4.9, 4.5, 9.3, 6.2, 4.2, 6. , 3.7, 4.1, 5.8,\n",
       "       5.6, 5.5, 4.4, 4.6, 5.9, 3.9, 3.1, 2.9, 5.2, 3.3, 4.7, 5.1, 3.5,\n",
       "       2.5, 1.9, 3. , 2.7, 2.2, 2. , 9.5, 2.1, 3.6, 2.8, 1.8, 3.8, 0. ,\n",
       "       1.6, 9.6, 2.4, 1.7, 1.1, 0.3, 1.5, 0.7, 1.2, 2.3, 0.5, 1.3, 0.2,\n",
       "       0.6, 1.4, 0.9, 1. , 9.7])"
      ]
     },
     "execution_count": 11,
     "metadata": {},
     "output_type": "execute_result"
    }
   ],
   "source": [
    "# посмотрим что в столбце еше раз\n",
    "data['user_score'].unique()"
   ]
  },
  {
   "cell_type": "markdown",
   "metadata": {},
   "source": [
    "выбрала эти столбцы, так как год - явно целое число должно быть, ну а оценка - число, а не объект."
   ]
  },
  {
   "cell_type": "markdown",
   "metadata": {},
   "source": [
    "в столбце 'user_score' было значение tbd - \"to be determinated\" (будет определено), для нас это тоже самое, что и нет оценки. Поэтому целесообразно применение errors='coerce'"
   ]
  },
  {
   "cell_type": "code",
   "execution_count": 12,
   "metadata": {
    "scrolled": true
   },
   "outputs": [
    {
     "name": "stdout",
     "output_type": "stream",
     "text": [
      "<class 'pandas.core.frame.DataFrame'>\n",
      "RangeIndex: 16715 entries, 0 to 16714\n",
      "Data columns (total 11 columns):\n",
      " #   Column           Non-Null Count  Dtype  \n",
      "---  ------           --------------  -----  \n",
      " 0   name             16713 non-null  object \n",
      " 1   platform         16715 non-null  object \n",
      " 2   year_of_release  16446 non-null  float64\n",
      " 3   genre            16713 non-null  object \n",
      " 4   na_sales         16715 non-null  float64\n",
      " 5   eu_sales         16715 non-null  float64\n",
      " 6   jp_sales         16715 non-null  float64\n",
      " 7   other_sales      16715 non-null  float64\n",
      " 8   critic_score     8137 non-null   float64\n",
      " 9   user_score       7590 non-null   float64\n",
      " 10  rating           9949 non-null   object \n",
      "dtypes: float64(7), object(4)\n",
      "memory usage: 1.4+ MB\n"
     ]
    }
   ],
   "source": [
    "#check\n",
    "data.info()"
   ]
  },
  {
   "cell_type": "markdown",
   "metadata": {},
   "source": [
    "тип поменялся только в оценке пользователей, ну ладно, изменим тип данных в годе релиза дальше, так как пропуски мешают"
   ]
  },
  {
   "cell_type": "code",
   "execution_count": 13,
   "metadata": {
    "scrolled": false
   },
   "outputs": [
    {
     "data": {
      "text/plain": [
       "name                  2\n",
       "platform              0\n",
       "year_of_release     269\n",
       "genre                 2\n",
       "na_sales              0\n",
       "eu_sales              0\n",
       "jp_sales              0\n",
       "other_sales           0\n",
       "critic_score       8578\n",
       "user_score         9125\n",
       "rating             6766\n",
       "dtype: int64"
      ]
     },
     "execution_count": 13,
     "metadata": {},
     "output_type": "execute_result"
    }
   ],
   "source": [
    "# посмотрим пропуски\n",
    "data.isna().sum()"
   ]
  },
  {
   "cell_type": "markdown",
   "metadata": {},
   "source": [
    "По итогу: 6 столбцов с пропусками, два по мелочи, три - много пропусков, год релиза - терпимо. Дальше будем эти пропуски обрабатывать, иначе не дает поменять тип данных.\n",
    "Вероятно, пропуски образовались из-за человеческого фактора, либо были утеряны при переносе данных"
   ]
  },
  {
   "cell_type": "code",
   "execution_count": 14,
   "metadata": {},
   "outputs": [],
   "source": [
    "# посмотрим наглядно как выглядят пропуски в процентах \n",
    "def pass_value_barh(df):\n",
    "    try:\n",
    "        (\n",
    "            (df.isna().mean()*100)\n",
    "            .to_frame()\n",
    "            .rename(columns = {0:'space'})\n",
    "            .query('space > 0')\n",
    "            .sort_values(by = 'space', ascending = True)\n",
    "            .plot(kind= 'barh', figsize=(19,6), rot = -5, legend = False, fontsize = 16)\n",
    "            .set_title('Пропуски в процентах' + \"\\n\", fontsize = 22, color = 'SteelBlue')    \n",
    "        );    \n",
    "    except:\n",
    "        print('пропусков не осталось :) ')"
   ]
  },
  {
   "cell_type": "code",
   "execution_count": 15,
   "metadata": {
    "scrolled": false
   },
   "outputs": [
    {
     "data": {
      "image/png": "[encoded data removed]",
      "text/plain": [
       "<Figure size 1368x432 with 1 Axes>"
      ]
     },
     "metadata": {
      "needs_background": "light"
     },
     "output_type": "display_data"
    }
   ],
   "source": [
    "pass_value_barh(data)"
   ]
  },
  {
   "cell_type": "markdown",
   "metadata": {},
   "source": [
    "со столбцом оценки критиков - караул"
   ]
  },
  {
   "cell_type": "markdown",
   "metadata": {},
   "source": [
    "Пропуски в столбе name, year_of_release удалим, так как их мало. Оценки критиков и пользователей трогать не будем - ибо получим некорректные значения, на пропуски в столбце рейтинг - поставим заглушки"
   ]
  },
  {
   "cell_type": "code",
   "execution_count": 16,
   "metadata": {
    "scrolled": false
   },
   "outputs": [
    {
     "data": {
      "text/plain": [
       "array(['E', nan, 'M', 'T', 'E10+', 'K-A', 'AO', 'EC', 'RP'], dtype=object)"
      ]
     },
     "execution_count": 16,
     "metadata": {},
     "output_type": "execute_result"
    }
   ],
   "source": [
    "# рейтинг\n",
    "data['rating'].unique()\n",
    "\n",
    "#это категории - не заполнить, там какие особые критерии"
   ]
  },
  {
   "cell_type": "code",
   "execution_count": 17,
   "metadata": {},
   "outputs": [
    {
     "data": {
      "text/html": [
       "<div>\n",
       "<style scoped>\n",
       "    .dataframe tbody tr th:only-of-type {\n",
       "        vertical-align: middle;\n",
       "    }\n",
       "\n",
       "    .dataframe tbody tr th {\n",
       "        vertical-align: top;\n",
       "    }\n",
       "\n",
       "    .dataframe thead th {\n",
       "        text-align: right;\n",
       "    }\n",
       "</style>\n",
       "<table border=\"1\" class=\"dataframe\">\n",
       "  <thead>\n",
       "    <tr style=\"text-align: right;\">\n",
       "      <th></th>\n",
       "      <th>name</th>\n",
       "      <th>platform</th>\n",
       "      <th>year_of_release</th>\n",
       "      <th>genre</th>\n",
       "      <th>na_sales</th>\n",
       "      <th>eu_sales</th>\n",
       "      <th>jp_sales</th>\n",
       "      <th>other_sales</th>\n",
       "      <th>critic_score</th>\n",
       "      <th>user_score</th>\n",
       "      <th>rating</th>\n",
       "    </tr>\n",
       "  </thead>\n",
       "  <tbody>\n",
       "    <tr>\n",
       "      <th>0</th>\n",
       "      <td>Wii Sports</td>\n",
       "      <td>Wii</td>\n",
       "      <td>2006.0</td>\n",
       "      <td>Sports</td>\n",
       "      <td>41.36</td>\n",
       "      <td>28.96</td>\n",
       "      <td>3.77</td>\n",
       "      <td>8.45</td>\n",
       "      <td>76.0</td>\n",
       "      <td>8.0</td>\n",
       "      <td>E</td>\n",
       "    </tr>\n",
       "    <tr>\n",
       "      <th>1</th>\n",
       "      <td>Super Mario Bros.</td>\n",
       "      <td>NES</td>\n",
       "      <td>1985.0</td>\n",
       "      <td>Platform</td>\n",
       "      <td>29.08</td>\n",
       "      <td>3.58</td>\n",
       "      <td>6.81</td>\n",
       "      <td>0.77</td>\n",
       "      <td>NaN</td>\n",
       "      <td>NaN</td>\n",
       "      <td>out</td>\n",
       "    </tr>\n",
       "    <tr>\n",
       "      <th>2</th>\n",
       "      <td>Mario Kart Wii</td>\n",
       "      <td>Wii</td>\n",
       "      <td>2008.0</td>\n",
       "      <td>Racing</td>\n",
       "      <td>15.68</td>\n",
       "      <td>12.76</td>\n",
       "      <td>3.79</td>\n",
       "      <td>3.29</td>\n",
       "      <td>82.0</td>\n",
       "      <td>8.3</td>\n",
       "      <td>E</td>\n",
       "    </tr>\n",
       "    <tr>\n",
       "      <th>3</th>\n",
       "      <td>Wii Sports Resort</td>\n",
       "      <td>Wii</td>\n",
       "      <td>2009.0</td>\n",
       "      <td>Sports</td>\n",
       "      <td>15.61</td>\n",
       "      <td>10.93</td>\n",
       "      <td>3.28</td>\n",
       "      <td>2.95</td>\n",
       "      <td>80.0</td>\n",
       "      <td>8.0</td>\n",
       "      <td>E</td>\n",
       "    </tr>\n",
       "    <tr>\n",
       "      <th>4</th>\n",
       "      <td>Pokemon Red/Pokemon Blue</td>\n",
       "      <td>GB</td>\n",
       "      <td>1996.0</td>\n",
       "      <td>Role-Playing</td>\n",
       "      <td>11.27</td>\n",
       "      <td>8.89</td>\n",
       "      <td>10.22</td>\n",
       "      <td>1.00</td>\n",
       "      <td>NaN</td>\n",
       "      <td>NaN</td>\n",
       "      <td>out</td>\n",
       "    </tr>\n",
       "    <tr>\n",
       "      <th>...</th>\n",
       "      <td>...</td>\n",
       "      <td>...</td>\n",
       "      <td>...</td>\n",
       "      <td>...</td>\n",
       "      <td>...</td>\n",
       "      <td>...</td>\n",
       "      <td>...</td>\n",
       "      <td>...</td>\n",
       "      <td>...</td>\n",
       "      <td>...</td>\n",
       "      <td>...</td>\n",
       "    </tr>\n",
       "    <tr>\n",
       "      <th>16710</th>\n",
       "      <td>Samurai Warriors: Sanada Maru</td>\n",
       "      <td>PS3</td>\n",
       "      <td>2016.0</td>\n",
       "      <td>Action</td>\n",
       "      <td>0.00</td>\n",
       "      <td>0.00</td>\n",
       "      <td>0.01</td>\n",
       "      <td>0.00</td>\n",
       "      <td>NaN</td>\n",
       "      <td>NaN</td>\n",
       "      <td>out</td>\n",
       "    </tr>\n",
       "    <tr>\n",
       "      <th>16711</th>\n",
       "      <td>LMA Manager 2007</td>\n",
       "      <td>X360</td>\n",
       "      <td>2006.0</td>\n",
       "      <td>Sports</td>\n",
       "      <td>0.00</td>\n",
       "      <td>0.01</td>\n",
       "      <td>0.00</td>\n",
       "      <td>0.00</td>\n",
       "      <td>NaN</td>\n",
       "      <td>NaN</td>\n",
       "      <td>out</td>\n",
       "    </tr>\n",
       "    <tr>\n",
       "      <th>16712</th>\n",
       "      <td>Haitaka no Psychedelica</td>\n",
       "      <td>PSV</td>\n",
       "      <td>2016.0</td>\n",
       "      <td>Adventure</td>\n",
       "      <td>0.00</td>\n",
       "      <td>0.00</td>\n",
       "      <td>0.01</td>\n",
       "      <td>0.00</td>\n",
       "      <td>NaN</td>\n",
       "      <td>NaN</td>\n",
       "      <td>out</td>\n",
       "    </tr>\n",
       "    <tr>\n",
       "      <th>16713</th>\n",
       "      <td>Spirits &amp; Spells</td>\n",
       "      <td>GBA</td>\n",
       "      <td>2003.0</td>\n",
       "      <td>Platform</td>\n",
       "      <td>0.01</td>\n",
       "      <td>0.00</td>\n",
       "      <td>0.00</td>\n",
       "      <td>0.00</td>\n",
       "      <td>NaN</td>\n",
       "      <td>NaN</td>\n",
       "      <td>out</td>\n",
       "    </tr>\n",
       "    <tr>\n",
       "      <th>16714</th>\n",
       "      <td>Winning Post 8 2016</td>\n",
       "      <td>PSV</td>\n",
       "      <td>2016.0</td>\n",
       "      <td>Simulation</td>\n",
       "      <td>0.00</td>\n",
       "      <td>0.00</td>\n",
       "      <td>0.01</td>\n",
       "      <td>0.00</td>\n",
       "      <td>NaN</td>\n",
       "      <td>NaN</td>\n",
       "      <td>out</td>\n",
       "    </tr>\n",
       "  </tbody>\n",
       "</table>\n",
       "<p>16715 rows × 11 columns</p>\n",
       "</div>"
      ],
      "text/plain": [
       "                                name platform  year_of_release         genre  \\\n",
       "0                         Wii Sports      Wii           2006.0        Sports   \n",
       "1                  Super Mario Bros.      NES           1985.0      Platform   \n",
       "2                     Mario Kart Wii      Wii           2008.0        Racing   \n",
       "3                  Wii Sports Resort      Wii           2009.0        Sports   \n",
       "4           Pokemon Red/Pokemon Blue       GB           1996.0  Role-Playing   \n",
       "...                              ...      ...              ...           ...   \n",
       "16710  Samurai Warriors: Sanada Maru      PS3           2016.0        Action   \n",
       "16711               LMA Manager 2007     X360           2006.0        Sports   \n",
       "16712        Haitaka no Psychedelica      PSV           2016.0     Adventure   \n",
       "16713               Spirits & Spells      GBA           2003.0      Platform   \n",
       "16714            Winning Post 8 2016      PSV           2016.0    Simulation   \n",
       "\n",
       "       na_sales  eu_sales  jp_sales  other_sales  critic_score  user_score  \\\n",
       "0         41.36     28.96      3.77         8.45          76.0         8.0   \n",
       "1         29.08      3.58      6.81         0.77           NaN         NaN   \n",
       "2         15.68     12.76      3.79         3.29          82.0         8.3   \n",
       "3         15.61     10.93      3.28         2.95          80.0         8.0   \n",
       "4         11.27      8.89     10.22         1.00           NaN         NaN   \n",
       "...         ...       ...       ...          ...           ...         ...   \n",
       "16710      0.00      0.00      0.01         0.00           NaN         NaN   \n",
       "16711      0.00      0.01      0.00         0.00           NaN         NaN   \n",
       "16712      0.00      0.00      0.01         0.00           NaN         NaN   \n",
       "16713      0.01      0.00      0.00         0.00           NaN         NaN   \n",
       "16714      0.00      0.00      0.01         0.00           NaN         NaN   \n",
       "\n",
       "      rating  \n",
       "0          E  \n",
       "1        out  \n",
       "2          E  \n",
       "3          E  \n",
       "4        out  \n",
       "...      ...  \n",
       "16710    out  \n",
       "16711    out  \n",
       "16712    out  \n",
       "16713    out  \n",
       "16714    out  \n",
       "\n",
       "[16715 rows x 11 columns]"
      ]
     },
     "execution_count": 17,
     "metadata": {},
     "output_type": "execute_result"
    }
   ],
   "source": [
    "# заполним пропуски в рейтинге заглушкой\n",
    "data['rating'] = data['rating'].fillna('out')\n",
    "data"
   ]
  },
  {
   "cell_type": "code",
   "execution_count": 18,
   "metadata": {
    "scrolled": true
   },
   "outputs": [],
   "source": [
    "# пропуски в столбце с годом релиза можно удалить, их немного\n",
    "# заменим тип данных, а то выше не получилось\n",
    "\n",
    "# Убираем предупреждения\n",
    "import warnings\n",
    "warnings.filterwarnings(\"ignore\")\n",
    "\n",
    "data = data.dropna(subset=['year_of_release'])\n",
    "data['year_of_release'] = data['year_of_release'].astype('int64')\n"
   ]
  },
  {
   "cell_type": "code",
   "execution_count": 19,
   "metadata": {
    "scrolled": false
   },
   "outputs": [
    {
     "name": "stdout",
     "output_type": "stream",
     "text": [
      "<class 'pandas.core.frame.DataFrame'>\n",
      "Int64Index: 16446 entries, 0 to 16714\n",
      "Data columns (total 11 columns):\n",
      " #   Column           Non-Null Count  Dtype  \n",
      "---  ------           --------------  -----  \n",
      " 0   name             16444 non-null  object \n",
      " 1   platform         16446 non-null  object \n",
      " 2   year_of_release  16446 non-null  int64  \n",
      " 3   genre            16444 non-null  object \n",
      " 4   na_sales         16446 non-null  float64\n",
      " 5   eu_sales         16446 non-null  float64\n",
      " 6   jp_sales         16446 non-null  float64\n",
      " 7   other_sales      16446 non-null  float64\n",
      " 8   critic_score     7983 non-null   float64\n",
      " 9   user_score       7463 non-null   float64\n",
      " 10  rating           16446 non-null  object \n",
      "dtypes: float64(6), int64(1), object(4)\n",
      "memory usage: 1.5+ MB\n"
     ]
    }
   ],
   "source": [
    "#check\n",
    "data.info()"
   ]
  },
  {
   "cell_type": "code",
   "execution_count": 20,
   "metadata": {},
   "outputs": [],
   "source": [
    "# тут вообще два пропуска только\n",
    "data = data.dropna(subset=['name'])"
   ]
  },
  {
   "cell_type": "code",
   "execution_count": 21,
   "metadata": {},
   "outputs": [],
   "source": [
    "# определим суммарные продажи\n",
    "data['total_sales'] = data['na_sales'] + data['eu_sales'] + data['jp_sales'] + data['other_sales']"
   ]
  },
  {
   "cell_type": "code",
   "execution_count": 22,
   "metadata": {
    "scrolled": true
   },
   "outputs": [
    {
     "data": {
      "text/html": [
       "<div>\n",
       "<style scoped>\n",
       "    .dataframe tbody tr th:only-of-type {\n",
       "        vertical-align: middle;\n",
       "    }\n",
       "\n",
       "    .dataframe tbody tr th {\n",
       "        vertical-align: top;\n",
       "    }\n",
       "\n",
       "    .dataframe thead th {\n",
       "        text-align: right;\n",
       "    }\n",
       "</style>\n",
       "<table border=\"1\" class=\"dataframe\">\n",
       "  <thead>\n",
       "    <tr style=\"text-align: right;\">\n",
       "      <th></th>\n",
       "      <th>name</th>\n",
       "      <th>platform</th>\n",
       "      <th>year_of_release</th>\n",
       "      <th>genre</th>\n",
       "      <th>na_sales</th>\n",
       "      <th>eu_sales</th>\n",
       "      <th>jp_sales</th>\n",
       "      <th>other_sales</th>\n",
       "      <th>critic_score</th>\n",
       "      <th>user_score</th>\n",
       "      <th>rating</th>\n",
       "      <th>total_sales</th>\n",
       "    </tr>\n",
       "  </thead>\n",
       "  <tbody>\n",
       "    <tr>\n",
       "      <th>0</th>\n",
       "      <td>Wii Sports</td>\n",
       "      <td>Wii</td>\n",
       "      <td>2006</td>\n",
       "      <td>Sports</td>\n",
       "      <td>41.36</td>\n",
       "      <td>28.96</td>\n",
       "      <td>3.77</td>\n",
       "      <td>8.45</td>\n",
       "      <td>76.0</td>\n",
       "      <td>8.0</td>\n",
       "      <td>E</td>\n",
       "      <td>82.54</td>\n",
       "    </tr>\n",
       "    <tr>\n",
       "      <th>1</th>\n",
       "      <td>Super Mario Bros.</td>\n",
       "      <td>NES</td>\n",
       "      <td>1985</td>\n",
       "      <td>Platform</td>\n",
       "      <td>29.08</td>\n",
       "      <td>3.58</td>\n",
       "      <td>6.81</td>\n",
       "      <td>0.77</td>\n",
       "      <td>NaN</td>\n",
       "      <td>NaN</td>\n",
       "      <td>out</td>\n",
       "      <td>40.24</td>\n",
       "    </tr>\n",
       "    <tr>\n",
       "      <th>2</th>\n",
       "      <td>Mario Kart Wii</td>\n",
       "      <td>Wii</td>\n",
       "      <td>2008</td>\n",
       "      <td>Racing</td>\n",
       "      <td>15.68</td>\n",
       "      <td>12.76</td>\n",
       "      <td>3.79</td>\n",
       "      <td>3.29</td>\n",
       "      <td>82.0</td>\n",
       "      <td>8.3</td>\n",
       "      <td>E</td>\n",
       "      <td>35.52</td>\n",
       "    </tr>\n",
       "    <tr>\n",
       "      <th>3</th>\n",
       "      <td>Wii Sports Resort</td>\n",
       "      <td>Wii</td>\n",
       "      <td>2009</td>\n",
       "      <td>Sports</td>\n",
       "      <td>15.61</td>\n",
       "      <td>10.93</td>\n",
       "      <td>3.28</td>\n",
       "      <td>2.95</td>\n",
       "      <td>80.0</td>\n",
       "      <td>8.0</td>\n",
       "      <td>E</td>\n",
       "      <td>32.77</td>\n",
       "    </tr>\n",
       "    <tr>\n",
       "      <th>4</th>\n",
       "      <td>Pokemon Red/Pokemon Blue</td>\n",
       "      <td>GB</td>\n",
       "      <td>1996</td>\n",
       "      <td>Role-Playing</td>\n",
       "      <td>11.27</td>\n",
       "      <td>8.89</td>\n",
       "      <td>10.22</td>\n",
       "      <td>1.00</td>\n",
       "      <td>NaN</td>\n",
       "      <td>NaN</td>\n",
       "      <td>out</td>\n",
       "      <td>31.38</td>\n",
       "    </tr>\n",
       "    <tr>\n",
       "      <th>5</th>\n",
       "      <td>Tetris</td>\n",
       "      <td>GB</td>\n",
       "      <td>1989</td>\n",
       "      <td>Puzzle</td>\n",
       "      <td>23.20</td>\n",
       "      <td>2.26</td>\n",
       "      <td>4.22</td>\n",
       "      <td>0.58</td>\n",
       "      <td>NaN</td>\n",
       "      <td>NaN</td>\n",
       "      <td>out</td>\n",
       "      <td>30.26</td>\n",
       "    </tr>\n",
       "    <tr>\n",
       "      <th>6</th>\n",
       "      <td>New Super Mario Bros.</td>\n",
       "      <td>DS</td>\n",
       "      <td>2006</td>\n",
       "      <td>Platform</td>\n",
       "      <td>11.28</td>\n",
       "      <td>9.14</td>\n",
       "      <td>6.50</td>\n",
       "      <td>2.88</td>\n",
       "      <td>89.0</td>\n",
       "      <td>8.5</td>\n",
       "      <td>E</td>\n",
       "      <td>29.80</td>\n",
       "    </tr>\n",
       "    <tr>\n",
       "      <th>7</th>\n",
       "      <td>Wii Play</td>\n",
       "      <td>Wii</td>\n",
       "      <td>2006</td>\n",
       "      <td>Misc</td>\n",
       "      <td>13.96</td>\n",
       "      <td>9.18</td>\n",
       "      <td>2.93</td>\n",
       "      <td>2.84</td>\n",
       "      <td>58.0</td>\n",
       "      <td>6.6</td>\n",
       "      <td>E</td>\n",
       "      <td>28.91</td>\n",
       "    </tr>\n",
       "    <tr>\n",
       "      <th>8</th>\n",
       "      <td>New Super Mario Bros. Wii</td>\n",
       "      <td>Wii</td>\n",
       "      <td>2009</td>\n",
       "      <td>Platform</td>\n",
       "      <td>14.44</td>\n",
       "      <td>6.94</td>\n",
       "      <td>4.70</td>\n",
       "      <td>2.24</td>\n",
       "      <td>87.0</td>\n",
       "      <td>8.4</td>\n",
       "      <td>E</td>\n",
       "      <td>28.32</td>\n",
       "    </tr>\n",
       "    <tr>\n",
       "      <th>9</th>\n",
       "      <td>Duck Hunt</td>\n",
       "      <td>NES</td>\n",
       "      <td>1984</td>\n",
       "      <td>Shooter</td>\n",
       "      <td>26.93</td>\n",
       "      <td>0.63</td>\n",
       "      <td>0.28</td>\n",
       "      <td>0.47</td>\n",
       "      <td>NaN</td>\n",
       "      <td>NaN</td>\n",
       "      <td>out</td>\n",
       "      <td>28.31</td>\n",
       "    </tr>\n",
       "  </tbody>\n",
       "</table>\n",
       "</div>"
      ],
      "text/plain": [
       "                        name platform  year_of_release         genre  \\\n",
       "0                 Wii Sports      Wii             2006        Sports   \n",
       "1          Super Mario Bros.      NES             1985      Platform   \n",
       "2             Mario Kart Wii      Wii             2008        Racing   \n",
       "3          Wii Sports Resort      Wii             2009        Sports   \n",
       "4   Pokemon Red/Pokemon Blue       GB             1996  Role-Playing   \n",
       "5                     Tetris       GB             1989        Puzzle   \n",
       "6      New Super Mario Bros.       DS             2006      Platform   \n",
       "7                   Wii Play      Wii             2006          Misc   \n",
       "8  New Super Mario Bros. Wii      Wii             2009      Platform   \n",
       "9                  Duck Hunt      NES             1984       Shooter   \n",
       "\n",
       "   na_sales  eu_sales  jp_sales  other_sales  critic_score  user_score rating  \\\n",
       "0     41.36     28.96      3.77         8.45          76.0         8.0      E   \n",
       "1     29.08      3.58      6.81         0.77           NaN         NaN    out   \n",
       "2     15.68     12.76      3.79         3.29          82.0         8.3      E   \n",
       "3     15.61     10.93      3.28         2.95          80.0         8.0      E   \n",
       "4     11.27      8.89     10.22         1.00           NaN         NaN    out   \n",
       "5     23.20      2.26      4.22         0.58           NaN         NaN    out   \n",
       "6     11.28      9.14      6.50         2.88          89.0         8.5      E   \n",
       "7     13.96      9.18      2.93         2.84          58.0         6.6      E   \n",
       "8     14.44      6.94      4.70         2.24          87.0         8.4      E   \n",
       "9     26.93      0.63      0.28         0.47           NaN         NaN    out   \n",
       "\n",
       "   total_sales  \n",
       "0        82.54  \n",
       "1        40.24  \n",
       "2        35.52  \n",
       "3        32.77  \n",
       "4        31.38  \n",
       "5        30.26  \n",
       "6        29.80  \n",
       "7        28.91  \n",
       "8        28.32  \n",
       "9        28.31  "
      ]
     },
     "execution_count": 22,
     "metadata": {},
     "output_type": "execute_result"
    }
   ],
   "source": [
    "# check\n",
    "data.head(10)"
   ]
  },
  {
   "cell_type": "markdown",
   "metadata": {},
   "source": [
    "В разделе провелась предобработка данных: \n",
    "- переименованы столбцы\n",
    "- найдены и обработаны все пропуски\n",
    "- изменен тип данных столбцов\n",
    "- добавлен новый столбец - сумма всех продаж"
   ]
  },
  {
   "cell_type": "markdown",
   "metadata": {},
   "source": [
    "## Исследовательский анализ данных"
   ]
  },
  {
   "cell_type": "markdown",
   "metadata": {},
   "source": [
    "### Посмотрим сколько игр выпускалось в разные годы"
   ]
  },
  {
   "cell_type": "code",
   "execution_count": 23,
   "metadata": {},
   "outputs": [
    {
     "name": "stdout",
     "output_type": "stream",
     "text": [
      "year_of_release\n",
      "2008    1427\n",
      "2009    1426\n",
      "2010    1255\n",
      "2007    1197\n",
      "2011    1136\n",
      "2006    1006\n",
      "2005     939\n",
      "2002     829\n",
      "2003     775\n",
      "2004     762\n",
      "2012     653\n",
      "2015     606\n",
      "2014     581\n",
      "2013     544\n",
      "2016     502\n",
      "2001     482\n",
      "1998     379\n",
      "2000     350\n",
      "1999     338\n",
      "1997     289\n",
      "1996     263\n",
      "1995     219\n",
      "1994     121\n",
      "1993      60\n",
      "1981      46\n",
      "1992      43\n",
      "1991      41\n",
      "1982      36\n",
      "1986      21\n",
      "1989      17\n",
      "1983      17\n",
      "1990      16\n",
      "1987      16\n",
      "1988      15\n",
      "1985      14\n",
      "1984      14\n",
      "1980       9\n",
      "Name: name, dtype: int64\n"
     ]
    }
   ],
   "source": [
    "# посмотрим сколько игр выпускалось в разные годы\n",
    "count_games = data.groupby('year_of_release')['name'].count().sort_values(ascending=False)\n",
    "print(count_games)"
   ]
  },
  {
   "cell_type": "code",
   "execution_count": 24,
   "metadata": {},
   "outputs": [
    {
     "data": {
      "image/png": "[encoded data removed]",
      "text/plain": [
       "<Figure size 1080x216 with 1 Axes>"
      ]
     },
     "metadata": {
      "needs_background": "light"
     },
     "output_type": "display_data"
    }
   ],
   "source": [
    "data.groupby('year_of_release')['name'].count().plot(x='year_of_release', y='name', grid=True, figsize=(15,3), title='распределение кол-ва игр', ylabel='кол-во игр');"
   ]
  },
  {
   "cell_type": "markdown",
   "metadata": {},
   "source": [
    "однозначно видно, что пик приходится на 2008-2009 год, с 1980 по 1993 - копейки, но тогда и компьютеров не было особо - поэтому без этих данных можно и обойтись. С 2000 года активный рост кол-ва игр по 2009, а с 2011 резкий спад практически в два раза - в компьютер видимо уже мало кто играет, все в телефонах"
   ]
  },
  {
   "cell_type": "code",
   "execution_count": 25,
   "metadata": {},
   "outputs": [
    {
     "data": {
      "text/plain": [
       "array([2006, 2008, 2009, 1996, 2005, 1999, 2007, 2010, 2013, 2004, 2002,\n",
       "       2001, 2011, 1998, 2015, 2012, 2014, 1997, 2016, 2003, 2000, 1995],\n",
       "      dtype=int64)"
      ]
     },
     "execution_count": 25,
     "metadata": {},
     "output_type": "execute_result"
    }
   ],
   "source": [
    "# поэтому далее везде будем брать год, начиная с 1994, ибо раньше - неинформативно\n",
    "data_1994 = data.query('year_of_release > 1994')\n",
    "data_1994['year_of_release'].unique()"
   ]
  },
  {
   "cell_type": "markdown",
   "metadata": {},
   "source": [
    "### Посмотрим изменения продаж в зависимости от платформы"
   ]
  },
  {
   "cell_type": "code",
   "execution_count": 26,
   "metadata": {
    "scrolled": true
   },
   "outputs": [
    {
     "data": {
      "image/png": "[encoded data removed]",
      "text/plain": [
       "<Figure size 1080x144 with 1 Axes>"
      ]
     },
     "metadata": {
      "needs_background": "light"
     },
     "output_type": "display_data"
    }
   ],
   "source": [
    "# вычислим наиболее популярные платформы\n",
    "for_graph = data_1994.pivot_table(index='platform', values='total_sales', \\\n",
    "                             aggfunc=('sum')).sort_values(by='total_sales',ascending=False).plot(kind='bar', figsize=(15,2),\\\n",
    "                                                         title='суммарные продажи платформ', ylabel='проданные копии,млн')\n",
    "\n",
    "# возьмем отсюда самых выдающихся по продажам с 1 по 6 позицию"
   ]
  },
  {
   "cell_type": "code",
   "execution_count": 27,
   "metadata": {},
   "outputs": [],
   "source": [
    "# создадим список из топ-6, чтобы дальше его задейстововать в срезе для графика\n",
    "\n",
    "list = [\"PS2\", \"X360\", \"PS3\", \"Wii\", \"DS\", \"PS\"]"
   ]
  },
  {
   "cell_type": "code",
   "execution_count": 28,
   "metadata": {
    "scrolled": false
   },
   "outputs": [
    {
     "data": {
      "image/png": "[encoded data removed]",
      "text/plain": [
       "<Figure size 1080x144 with 1 Axes>"
      ]
     },
     "metadata": {
      "needs_background": "light"
     },
     "output_type": "display_data"
    },
    {
     "data": {
      "image/png": "[encoded data removed]",
      "text/plain": [
       "<Figure size 1080x144 with 1 Axes>"
      ]
     },
     "metadata": {
      "needs_background": "light"
     },
     "output_type": "display_data"
    },
    {
     "data": {
      "image/png": "[encoded data removed]",
      "text/plain": [
       "<Figure size 1080x144 with 1 Axes>"
      ]
     },
     "metadata": {
      "needs_background": "light"
     },
     "output_type": "display_data"
    },
    {
     "data": {
      "image/png": "[encoded data removed]",
      "text/plain": [
       "<Figure size 1080x144 with 1 Axes>"
      ]
     },
     "metadata": {
      "needs_background": "light"
     },
     "output_type": "display_data"
    },
    {
     "data": {
      "image/png": "[encoded data removed]",
      "text/plain": [
       "<Figure size 1080x144 with 1 Axes>"
      ]
     },
     "metadata": {
      "needs_background": "light"
     },
     "output_type": "display_data"
    },
    {
     "data": {
      "image/png": "[encoded data removed]",
      "text/plain": [
       "<Figure size 1080x144 with 1 Axes>"
      ]
     },
     "metadata": {
      "needs_background": "light"
     },
     "output_type": "display_data"
    }
   ],
   "source": [
    "# строим графики по порядку для платформ из списка\n",
    "for platform in list:\n",
    "    data_1994[data_1994['platform']==platform].pivot_table(index='year_of_release', values='total_sales',\\\n",
    "                                                 aggfunc=('sum')).plot(kind='bar', title='platform', figsize=(15,2), ylabel='суммарные продажи игр, млн')"
   ]
  },
  {
   "cell_type": "markdown",
   "metadata": {},
   "source": [
    "По графикам видно, что платформы в среднем существуют 10 лет.\n",
    "Пик их продаж наступает на 4-5 год после первого выпуска."
   ]
  },
  {
   "cell_type": "markdown",
   "metadata": {},
   "source": [
    "### Анализ платформ за актуальный период"
   ]
  },
  {
   "cell_type": "code",
   "execution_count": 29,
   "metadata": {
    "scrolled": true
   },
   "outputs": [],
   "source": [
    "# актуальный период возьмем с 2013 года, учитывая, что прогноз нужно на 2017 год\n",
    "actual_data = data.query('year_of_release >= 2013')"
   ]
  },
  {
   "cell_type": "code",
   "execution_count": 30,
   "metadata": {},
   "outputs": [
    {
     "data": {
      "image/png": "[encoded data removed]",
      "text/plain": [
       "<Figure size 432x288 with 1 Axes>"
      ]
     },
     "metadata": {
      "needs_background": "light"
     },
     "output_type": "display_data"
    }
   ],
   "source": [
    "# график суммарных продаж по платформам в актуальный период\n",
    "actual_data.pivot_table(index='platform', values='total_sales', aggfunc=('sum')).\\\n",
    "                                sort_values(by='total_sales', ascending=False)\\\n",
    "                                .plot(kind='bar', title='суммарные продажи по платформам с 2013 года', ylabel='проданные копии игр, млн');"
   ]
  },
  {
   "cell_type": "markdown",
   "metadata": {},
   "source": [
    "лидеры, безусловно, PS4, PS3, XOne, 3DS, X360."
   ]
  },
  {
   "cell_type": "code",
   "execution_count": 31,
   "metadata": {
    "scrolled": true
   },
   "outputs": [
    {
     "data": {
      "image/png": "[encoded data removed]",
      "text/plain": [
       "<Figure size 432x288 with 1 Axes>"
      ]
     },
     "metadata": {
      "needs_background": "light"
     },
     "output_type": "display_data"
    }
   ],
   "source": [
    "# посмотрим растут продажи или нет на примере PS4\n",
    "actual_data.query('platform==\"PS4\"').pivot_table(index='year_of_release', values='total_sales', aggfunc=('sum'))\\\n",
    "        .plot(kind='bar', title='продажи PS4 в зависимости от года релиза', ylabel='проданные копии игр, млн');"
   ]
  },
  {
   "cell_type": "code",
   "execution_count": 32,
   "metadata": {
    "scrolled": true
   },
   "outputs": [
    {
     "data": {
      "image/png": "[encoded data removed]",
      "text/plain": [
       "<Figure size 432x288 with 1 Axes>"
      ]
     },
     "metadata": {
      "needs_background": "light"
     },
     "output_type": "display_data"
    }
   ],
   "source": [
    "# посмотрим растут продажи или нет на примере XOne\n",
    "actual_data.query('platform==\"XOne\"').pivot_table(index='year_of_release', values='total_sales', aggfunc=('sum'))\\\n",
    "        .plot(kind='bar', title='продажи XOne в зависимости от года релиза', ylabel='проданные копии игр, млн');"
   ]
  },
  {
   "cell_type": "markdown",
   "metadata": {},
   "source": [
    "на примере двух топовых платформ увидели, что продажи копий резко упали в 2016 году"
   ]
  },
  {
   "cell_type": "code",
   "execution_count": 33,
   "metadata": {
    "scrolled": true
   },
   "outputs": [
    {
     "data": {
      "image/png": "[encoded data removed]",
      "text/plain": [
       "<Figure size 1440x720 with 1 Axes>"
      ]
     },
     "metadata": {
      "needs_background": "light"
     },
     "output_type": "display_data"
    }
   ],
   "source": [
    "# строим ящик с усами для всех платформ в актуальный период\n",
    "actual_data.boxplot('total_sales', by='platform', figsize=(20,10)).set(ylabel='суммарные продажи копий игр,млн');"
   ]
  },
  {
   "cell_type": "markdown",
   "metadata": {},
   "source": [
    "по графику можно увидеть, что большинство продаж у PS4, меньше всего - PSP, видим редкие выбросы - единичные точки более 10 млн (наверное очень популярные игры, но их очень мало). Также достаточно выбросов в диапазоне от 5 млн до 10 млн - предлагаю увеличить масштаб графика"
   ]
  },
  {
   "cell_type": "code",
   "execution_count": 34,
   "metadata": {},
   "outputs": [
    {
     "data": {
      "image/png": "[encoded data removed]",
      "text/plain": [
       "<Figure size 1224x360 with 1 Axes>"
      ]
     },
     "metadata": {
      "needs_background": "light"
     },
     "output_type": "display_data"
    }
   ],
   "source": [
    "# строим ящик с усами в масштабе для всех платформ в актуальный период\n",
    "actual_data.boxplot('total_sales', by='platform', figsize=(17,5)).set(ylim=(0,3));"
   ]
  },
  {
   "cell_type": "markdown",
   "metadata": {},
   "source": [
    "Ящики PS4, Wii и X360 очень схожи, но медианна X360 чуть больше, но все они находятся на уровне примерно 0.25 млн. Тенденция к скошенности вправо. PSP и PSV прижало к нулю"
   ]
  },
  {
   "cell_type": "markdown",
   "metadata": {},
   "source": [
    "### Посмотрим, как влияют на продажи внутри одной популярной платформы отзывы пользователей и критиков"
   ]
  },
  {
   "cell_type": "code",
   "execution_count": 35,
   "metadata": {
    "scrolled": true
   },
   "outputs": [
    {
     "data": {
      "image/png": "[encoded data removed]",
      "text/plain": [
       "<Figure size 1224x504 with 1 Axes>"
      ]
     },
     "metadata": {
      "needs_background": "light"
     },
     "output_type": "display_data"
    }
   ],
   "source": [
    "# выберем самую популярную - PS4\n",
    "#график зависимости продаж от оценки критиков\n",
    "actual_data.query('platform == \"PS4\"').\\\n",
    "    plot(kind='scatter', x='critic_score', y='total_sales', figsize=(17,7), title='зависимость продаж от оценки критиков для PS4');"
   ]
  },
  {
   "cell_type": "markdown",
   "metadata": {},
   "source": [
    "чем выше оценка - тем больше продаж"
   ]
  },
  {
   "cell_type": "code",
   "execution_count": 36,
   "metadata": {},
   "outputs": [
    {
     "data": {
      "image/png": "[encoded data removed]",
      "text/plain": [
       "<Figure size 1224x720 with 1 Axes>"
      ]
     },
     "metadata": {
      "needs_background": "light"
     },
     "output_type": "display_data"
    }
   ],
   "source": [
    "# Комментарий ревьюера\n",
    "actual_data.query('platform == \"PS4\"').plot(kind='scatter', x='critic_score', y='total_sales', figsize=(17,10), title='PS4');"
   ]
  },
  {
   "cell_type": "code",
   "execution_count": 37,
   "metadata": {
    "scrolled": false
   },
   "outputs": [
    {
     "data": {
      "image/png": "[encoded data removed]",
      "text/plain": [
       "<Figure size 1224x504 with 1 Axes>"
      ]
     },
     "metadata": {
      "needs_background": "light"
     },
     "output_type": "display_data"
    }
   ],
   "source": [
    "#график зависимости продаж от оценки покупателей\n",
    "actual_data.query('platform == \"PS4\"').plot(kind='scatter', x='user_score', y='total_sales', figsize=(17,7), title='PS4');"
   ]
  },
  {
   "cell_type": "markdown",
   "metadata": {},
   "source": [
    "что-то тоже похожее на слабую зависимость, чем выше оценка - больше продажи"
   ]
  },
  {
   "cell_type": "code",
   "execution_count": 38,
   "metadata": {},
   "outputs": [
    {
     "data": {
      "text/plain": [
       "-0.031957110204556424"
      ]
     },
     "execution_count": 38,
     "metadata": {},
     "output_type": "execute_result"
    }
   ],
   "source": [
    "# корреляция\n",
    "actual_data.query('platform==\"PS4\"')['total_sales'].corr(actual_data.query('platform==\"PS4\"')['user_score'])\n",
    "\n",
    "# тут вылез минус, якобы при увеличении одной величины - другая уменьшается, но число слишком маленькое"
   ]
  },
  {
   "cell_type": "code",
   "execution_count": 39,
   "metadata": {},
   "outputs": [
    {
     "data": {
      "text/plain": [
       "0.406567902061781"
      ]
     },
     "execution_count": 39,
     "metadata": {},
     "output_type": "execute_result"
    }
   ],
   "source": [
    "# корреляция\n",
    "actual_data.query('platform==\"PS4\"')['total_sales'].corr(actual_data.query('platform==\"PS4\"')['critic_score'])"
   ]
  },
  {
   "cell_type": "markdown",
   "metadata": {},
   "source": [
    "и по графикам и по корреляции видно, что связь в случае с оценкой критиков и продажами - не сильная, но всё же прослеживается. Чем выше балл - тем больше продаж. Между оценкой пользователей и продажами связи нет совсем."
   ]
  },
  {
   "cell_type": "markdown",
   "metadata": {},
   "source": [
    " Соотнесём выводы с продажами игр на других платформах, для этого проверим еще несколько платформ"
   ]
  },
  {
   "cell_type": "code",
   "execution_count": 40,
   "metadata": {},
   "outputs": [],
   "source": [
    "# создадим список платформ, чтобы его использовать далее\n",
    "list_corr=['PS3', 'XOne', '3DS', 'X360', 'PC']"
   ]
  },
  {
   "cell_type": "code",
   "execution_count": 41,
   "metadata": {
    "scrolled": false
   },
   "outputs": [
    {
     "data": {
      "image/png": "[encoded data removed]",
      "text/plain": [
       "<Figure size 1224x504 with 1 Axes>"
      ]
     },
     "metadata": {
      "needs_background": "light"
     },
     "output_type": "display_data"
    },
    {
     "data": {
      "image/png": "[encoded data removed]",
      "text/plain": [
       "<Figure size 1224x504 with 1 Axes>"
      ]
     },
     "metadata": {
      "needs_background": "light"
     },
     "output_type": "display_data"
    },
    {
     "data": {
      "image/png": "[encoded data removed]",
      "text/plain": [
       "<Figure size 1224x504 with 1 Axes>"
      ]
     },
     "metadata": {
      "needs_background": "light"
     },
     "output_type": "display_data"
    },
    {
     "data": {
      "image/png": "[encoded data removed]",
      "text/plain": [
       "<Figure size 1224x504 with 1 Axes>"
      ]
     },
     "metadata": {
      "needs_background": "light"
     },
     "output_type": "display_data"
    },
    {
     "data": {
      "image/png": "[encoded data removed]",
      "text/plain": [
       "<Figure size 1224x504 with 1 Axes>"
      ]
     },
     "metadata": {
      "needs_background": "light"
     },
     "output_type": "display_data"
    }
   ],
   "source": [
    "# построим графики зависимости от оценки критиков для платформ из списка\n",
    "for platform in list_corr:\n",
    "    actual_data[actual_data['platform'] == platform].plot(kind='scatter', x='critic_score', y='total_sales', figsize=(17,7), title='зависимость продаж от оценки критиков');"
   ]
  },
  {
   "cell_type": "markdown",
   "metadata": {},
   "source": [
    "хорошо видно зависимость на 2 графике"
   ]
  },
  {
   "cell_type": "code",
   "execution_count": 42,
   "metadata": {},
   "outputs": [
    {
     "data": {
      "image/png": "[encoded data removed]",
      "text/plain": [
       "<Figure size 1224x504 with 1 Axes>"
      ]
     },
     "metadata": {
      "needs_background": "light"
     },
     "output_type": "display_data"
    },
    {
     "data": {
      "image/png": "[encoded data removed]",
      "text/plain": [
       "<Figure size 1224x504 with 1 Axes>"
      ]
     },
     "metadata": {
      "needs_background": "light"
     },
     "output_type": "display_data"
    },
    {
     "data": {
      "image/png": "[encoded data removed]",
      "text/plain": [
       "<Figure size 1224x504 with 1 Axes>"
      ]
     },
     "metadata": {
      "needs_background": "light"
     },
     "output_type": "display_data"
    },
    {
     "data": {
      "image/png": "[encoded data removed]",
      "text/plain": [
       "<Figure size 1224x504 with 1 Axes>"
      ]
     },
     "metadata": {
      "needs_background": "light"
     },
     "output_type": "display_data"
    },
    {
     "data": {
      "image/png": "[encoded data removed]",
      "text/plain": [
       "<Figure size 1224x504 with 1 Axes>"
      ]
     },
     "metadata": {
      "needs_background": "light"
     },
     "output_type": "display_data"
    }
   ],
   "source": [
    "# построим графики зависимости от оценки пользователей для платформ из списка\n",
    "for platform in list_corr:\n",
    "    actual_data[actual_data['platform'] == platform].plot(kind='scatter', x='user_score', y='total_sales', figsize=(17,7), title='зависимость продаж от оценки пользователей');"
   ]
  },
  {
   "cell_type": "code",
   "execution_count": 43,
   "metadata": {
    "scrolled": true
   },
   "outputs": [
    {
     "name": "stdout",
     "output_type": "stream",
     "text": [
      "0.0023944027357566925\n",
      "-0.06892505328279414\n",
      "0.24150411773563016\n",
      "-0.011742185147181342\n",
      "-0.0938418695247674\n"
     ]
    }
   ],
   "source": [
    "# посчитаем корреляцию для платформ из списка:\n",
    "for platform in list_corr:\n",
    "    a = actual_data[actual_data['platform']==platform]['user_score'].corr(actual_data[actual_data['platform']==platform]['total_sales'])\n",
    "    print(a)"
   ]
  },
  {
   "cell_type": "code",
   "execution_count": 44,
   "metadata": {},
   "outputs": [
    {
     "name": "stdout",
     "output_type": "stream",
     "text": [
      "0.3342853393371919\n",
      "0.4169983280084017\n",
      "0.3570566142288103\n",
      "0.3503445460228664\n",
      "0.19603028294369382\n"
     ]
    }
   ],
   "source": [
    "# посчитаем корреляцию для платформ из списка:\n",
    "for platform in list_corr:\n",
    "    a = actual_data[actual_data['platform']==platform]['critic_score'].corr(actual_data[actual_data['platform']==platform]['total_sales'])\n",
    "    print(a)"
   ]
  },
  {
   "cell_type": "markdown",
   "metadata": {},
   "source": [
    "в итоге: cредняя степень зависимости прослеживается только от оценки критиков, в остальных случаях -  зависимости нет"
   ]
  },
  {
   "cell_type": "markdown",
   "metadata": {},
   "source": [
    "### Посмотрим на общее распределение игр по жанрам"
   ]
  },
  {
   "cell_type": "code",
   "execution_count": 45,
   "metadata": {
    "scrolled": true
   },
   "outputs": [
    {
     "data": {
      "text/html": [
       "<div>\n",
       "<style scoped>\n",
       "    .dataframe tbody tr th:only-of-type {\n",
       "        vertical-align: middle;\n",
       "    }\n",
       "\n",
       "    .dataframe tbody tr th {\n",
       "        vertical-align: top;\n",
       "    }\n",
       "\n",
       "    .dataframe thead th {\n",
       "        text-align: right;\n",
       "    }\n",
       "</style>\n",
       "<table border=\"1\" class=\"dataframe\">\n",
       "  <thead>\n",
       "    <tr style=\"text-align: right;\">\n",
       "      <th></th>\n",
       "      <th>total_sales</th>\n",
       "    </tr>\n",
       "    <tr>\n",
       "      <th>genre</th>\n",
       "      <th></th>\n",
       "    </tr>\n",
       "  </thead>\n",
       "  <tbody>\n",
       "    <tr>\n",
       "      <th>Action</th>\n",
       "      <td>321.87</td>\n",
       "    </tr>\n",
       "    <tr>\n",
       "      <th>Shooter</th>\n",
       "      <td>232.98</td>\n",
       "    </tr>\n",
       "    <tr>\n",
       "      <th>Sports</th>\n",
       "      <td>150.65</td>\n",
       "    </tr>\n",
       "    <tr>\n",
       "      <th>Role-Playing</th>\n",
       "      <td>145.89</td>\n",
       "    </tr>\n",
       "    <tr>\n",
       "      <th>Misc</th>\n",
       "      <td>62.82</td>\n",
       "    </tr>\n",
       "    <tr>\n",
       "      <th>Platform</th>\n",
       "      <td>42.63</td>\n",
       "    </tr>\n",
       "    <tr>\n",
       "      <th>Racing</th>\n",
       "      <td>39.89</td>\n",
       "    </tr>\n",
       "    <tr>\n",
       "      <th>Fighting</th>\n",
       "      <td>35.31</td>\n",
       "    </tr>\n",
       "    <tr>\n",
       "      <th>Adventure</th>\n",
       "      <td>23.64</td>\n",
       "    </tr>\n",
       "    <tr>\n",
       "      <th>Simulation</th>\n",
       "      <td>21.76</td>\n",
       "    </tr>\n",
       "    <tr>\n",
       "      <th>Strategy</th>\n",
       "      <td>10.08</td>\n",
       "    </tr>\n",
       "    <tr>\n",
       "      <th>Puzzle</th>\n",
       "      <td>3.17</td>\n",
       "    </tr>\n",
       "  </tbody>\n",
       "</table>\n",
       "</div>"
      ],
      "text/plain": [
       "              total_sales\n",
       "genre                    \n",
       "Action             321.87\n",
       "Shooter            232.98\n",
       "Sports             150.65\n",
       "Role-Playing       145.89\n",
       "Misc                62.82\n",
       "Platform            42.63\n",
       "Racing              39.89\n",
       "Fighting            35.31\n",
       "Adventure           23.64\n",
       "Simulation          21.76\n",
       "Strategy            10.08\n",
       "Puzzle               3.17"
      ]
     },
     "execution_count": 45,
     "metadata": {},
     "output_type": "execute_result"
    }
   ],
   "source": [
    "# создадим сводную таблицу \n",
    "actual_data.pivot_table(index='genre', values='total_sales', aggfunc='sum').sort_values(by='total_sales', ascending=False)"
   ]
  },
  {
   "cell_type": "code",
   "execution_count": 46,
   "metadata": {
    "scrolled": true
   },
   "outputs": [
    {
     "data": {
      "image/png": "[encoded data removed]",
      "text/plain": [
       "<Figure size 1080x216 with 1 Axes>"
      ]
     },
     "metadata": {
      "needs_background": "light"
     },
     "output_type": "display_data"
    }
   ],
   "source": [
    "actual_data.pivot_table(index='genre', values='total_sales', aggfunc='count').\\\n",
    "                                sort_values(by='total_sales', ascending=False).\\\n",
    "                                    plot(kind='bar', figsize=(15,3), title='количество игр в зависимости от жанра', ylabel='проданные копии игр, млн');"
   ]
  },
  {
   "cell_type": "markdown",
   "metadata": {},
   "source": [
    "больше всего выпускается экшновских игр, больше практически в 4 раза, чем второе место - ролевые игры. меньше всего выпускают пазлы"
   ]
  },
  {
   "cell_type": "code",
   "execution_count": 47,
   "metadata": {
    "scrolled": true
   },
   "outputs": [
    {
     "data": {
      "image/png": "[encoded data removed]",
      "text/plain": [
       "<Figure size 1080x216 with 1 Axes>"
      ]
     },
     "metadata": {
      "needs_background": "light"
     },
     "output_type": "display_data"
    }
   ],
   "source": [
    "# посмотрим на графике для наглядности\n",
    "actual_data.pivot_table(index='genre', values='total_sales', aggfunc='sum').\\\n",
    "                                sort_values(by='total_sales', ascending=False).\\\n",
    "                                    plot(kind='bar', figsize=(15,3), title='продажи в зависимости от жанра');"
   ]
  },
  {
   "cell_type": "markdown",
   "metadata": {},
   "source": [
    "больше всего приносит прибыль жанр - экшн, но их и выпускается больше всего. Поэтому посмотрим медиану"
   ]
  },
  {
   "cell_type": "code",
   "execution_count": 48,
   "metadata": {},
   "outputs": [
    {
     "data": {
      "image/png": "[encoded data removed]",
      "text/plain": [
       "<Figure size 1080x216 with 1 Axes>"
      ]
     },
     "metadata": {
      "needs_background": "light"
     },
     "output_type": "display_data"
    }
   ],
   "source": [
    "# правильнее будет смотреть медиану\n",
    "actual_data.pivot_table(index='genre', values='total_sales', aggfunc='median').\\\n",
    "                                sort_values(by='total_sales', ascending=False).\\\n",
    "                                    plot(kind='bar', figsize=(15,3), title='продажи в зависимости от жанра');"
   ]
  },
  {
   "cell_type": "markdown",
   "metadata": {},
   "source": [
    "по медиане - а это значит стабльный доход, лидер - стрелялки, его медианные продажи в два раза больше спортивных игр.Меньше прибыли у приключений"
   ]
  },
  {
   "cell_type": "code",
   "execution_count": 49,
   "metadata": {
    "scrolled": true
   },
   "outputs": [
    {
     "data": {
      "image/png": "[encoded data removed]",
      "text/plain": [
       "<Figure size 936x576 with 1 Axes>"
      ]
     },
     "metadata": {
      "needs_background": "light"
     },
     "output_type": "display_data"
    },
    {
     "data": {
      "image/png": "[encoded data removed]",
      "text/plain": [
       "<Figure size 936x576 with 1 Axes>"
      ]
     },
     "metadata": {
      "needs_background": "light"
     },
     "output_type": "display_data"
    }
   ],
   "source": [
    "# посмотрим на боксплот\n",
    "import seaborn as sns\n",
    "data_temp, y = actual_data, 'total_sales'\n",
    "plt.figure(figsize=(13, 8))\n",
    "(sns.boxplot(data = data_temp, y = y, x='genre')\n",
    "    .set(title = 'Продажи по жанрам', xlabel = 'Жанры', ylabel = 'Общие продажи'))\n",
    "plt.show()\n",
    "plt.figure(figsize=(13, 8))\n",
    "(sns.boxplot(data = data_temp, y = y, x='genre')\n",
    "    .set(title = 'Продажи по жанрам', xlabel = 'Жанры', ylabel = 'Общие продажи', ylim=(0, 3.5)))\n",
    "plt.show()"
   ]
  },
  {
   "cell_type": "markdown",
   "metadata": {},
   "source": [
    "однозначно видно лидера продаж - стрелялки (shooter) с медианной около 400 тыс, это значит,  что в основном этот жанр игр приносит такую прибыль. меньше всего прибыльность у приключений (adventure) - что-то близкое к нулю"
   ]
  },
  {
   "cell_type": "markdown",
   "metadata": {},
   "source": [
    "Вывод по разделу:\n",
    "- больше всего игр выпускалось в 2008-2009 год, с 1980 по 1993 - очень мало, но тогда и компьютеров не было особо - поэтому без этих данных можно и обойтись. С 2000 года имелся активный рост кол-ва игр вплоть по 2009, а с 2011 резкий спад в два раза - теперь играют больше в телефонах\n",
    "- средняя жизнь платформы составляет 10 лет. Пик их продаж наступает на 4-5 год выпуска\n",
    "- начиная с 2007 года в лидерах продаж:  PS4, PS3, XOne, 3DS, X360, но продажи не сильно зависят от оценки критиков, а от оценки пользователей и не зависят вовсе \n",
    "- самое большее количество игр выпускает жанр - экшен\n",
    "- а самый прибыльным и наоборот жанрами оказались - шутер и приключения соответственно       "
   ]
  },
  {
   "cell_type": "markdown",
   "metadata": {},
   "source": [
    "## Портрет пользователя каждого региона"
   ]
  },
  {
   "cell_type": "markdown",
   "metadata": {},
   "source": [
    "Определим для пользователя каждого региона (NA, EU, JP):"
   ]
  },
  {
   "cell_type": "markdown",
   "metadata": {},
   "source": [
    "### Смотрим жителя Северной Америки"
   ]
  },
  {
   "cell_type": "markdown",
   "metadata": {},
   "source": [
    "#### Топ-5 платформ"
   ]
  },
  {
   "cell_type": "code",
   "execution_count": 50,
   "metadata": {},
   "outputs": [
    {
     "name": "stdout",
     "output_type": "stream",
     "text": [
      "          na_sales\n",
      "platform          \n",
      "PS4         108.74\n",
      "XOne         93.12\n",
      "X360         81.66\n",
      "PS3          63.50\n",
      "3DS          38.20\n"
     ]
    }
   ],
   "source": [
    "# самые популярные платформы (топ-5)\n",
    "top5_na = actual_data.pivot_table(index='platform', values='na_sales', aggfunc=('sum')).\\\n",
    "        sort_values(by='na_sales', ascending=False).head(5)\n",
    "print(top5_na)"
   ]
  },
  {
   "cell_type": "code",
   "execution_count": 51,
   "metadata": {},
   "outputs": [
    {
     "data": {
      "image/png": "[encoded data removed]",
      "text/plain": [
       "<Figure size 1080x216 with 1 Axes>"
      ]
     },
     "metadata": {
      "needs_background": "light"
     },
     "output_type": "display_data"
    }
   ],
   "source": [
    "actual_data.pivot_table(index='platform', values='na_sales', aggfunc=('sum')).\\\n",
    "        sort_values(by='na_sales', ascending=False).plot(kind='bar', figsize=(15,3), title='na_sales');"
   ]
  },
  {
   "cell_type": "markdown",
   "metadata": {},
   "source": [
    "топ-5 в Северной Америке выглядит так: PS4, XOne, X360, PS3, 3DS. Причем между 1 и 2 местом не такая уж и большая разница"
   ]
  },
  {
   "cell_type": "markdown",
   "metadata": {},
   "source": [
    "#### Топ-5 жанров"
   ]
  },
  {
   "cell_type": "code",
   "execution_count": 52,
   "metadata": {},
   "outputs": [
    {
     "name": "stdout",
     "output_type": "stream",
     "text": [
      "              na_sales\n",
      "genre                 \n",
      "Action          126.05\n",
      "Shooter         109.74\n",
      "Sports           65.27\n",
      "Role-Playing     46.40\n",
      "Misc             27.49\n"
     ]
    }
   ],
   "source": [
    "top5_na_genre = actual_data.pivot_table(index='genre', values='na_sales', aggfunc=('sum')).\\\n",
    "                        sort_values(by='na_sales', ascending=False).head(5)\n",
    "print(top5_na_genre)"
   ]
  },
  {
   "cell_type": "code",
   "execution_count": 53,
   "metadata": {},
   "outputs": [
    {
     "data": {
      "image/png": "[encoded data removed]",
      "text/plain": [
       "<Figure size 432x288 with 1 Axes>"
      ]
     },
     "metadata": {
      "needs_background": "light"
     },
     "output_type": "display_data"
    }
   ],
   "source": [
    "actual_data.pivot_table(index='genre', values='na_sales', aggfunc=('sum')).\\\n",
    "                sort_values(by='na_sales', ascending=False).plot(kind='bar');"
   ]
  },
  {
   "cell_type": "markdown",
   "metadata": {},
   "source": [
    "самые популярные жанры - экшн, шутер, спорт, ролевые игры и аркада. У лидера небольшой отрыв от второго места."
   ]
  },
  {
   "cell_type": "code",
   "execution_count": 54,
   "metadata": {
    "scrolled": true
   },
   "outputs": [
    {
     "data": {
      "text/html": [
       "<div>\n",
       "<style scoped>\n",
       "    .dataframe tbody tr th:only-of-type {\n",
       "        vertical-align: middle;\n",
       "    }\n",
       "\n",
       "    .dataframe tbody tr th {\n",
       "        vertical-align: top;\n",
       "    }\n",
       "\n",
       "    .dataframe thead th {\n",
       "        text-align: right;\n",
       "    }\n",
       "</style>\n",
       "<table border=\"1\" class=\"dataframe\">\n",
       "  <thead>\n",
       "    <tr style=\"text-align: right;\">\n",
       "      <th></th>\n",
       "      <th>na_sales</th>\n",
       "    </tr>\n",
       "    <tr>\n",
       "      <th>rating</th>\n",
       "      <th></th>\n",
       "    </tr>\n",
       "  </thead>\n",
       "  <tbody>\n",
       "    <tr>\n",
       "      <th>M</th>\n",
       "      <td>165.21</td>\n",
       "    </tr>\n",
       "    <tr>\n",
       "      <th>out</th>\n",
       "      <td>89.42</td>\n",
       "    </tr>\n",
       "    <tr>\n",
       "      <th>E</th>\n",
       "      <td>79.05</td>\n",
       "    </tr>\n",
       "    <tr>\n",
       "      <th>E10+</th>\n",
       "      <td>54.24</td>\n",
       "    </tr>\n",
       "    <tr>\n",
       "      <th>T</th>\n",
       "      <td>49.79</td>\n",
       "    </tr>\n",
       "  </tbody>\n",
       "</table>\n",
       "</div>"
      ],
      "text/plain": [
       "        na_sales\n",
       "rating          \n",
       "M         165.21\n",
       "out        89.42\n",
       "E          79.05\n",
       "E10+       54.24\n",
       "T          49.79"
      ]
     },
     "execution_count": 54,
     "metadata": {},
     "output_type": "execute_result"
    }
   ],
   "source": [
    "actual_data.pivot_table(index='rating', values='na_sales', aggfunc=('sum')).\\\n",
    "                sort_values(by='na_sales', ascending=False)"
   ]
  },
  {
   "cell_type": "markdown",
   "metadata": {},
   "source": [
    "в лидерах рейтинга - М, out, Е. Игры с рейтингом М(«Mature») — «Для взрослых» - намного больше продаются, следом out - игры не относящиеся ни к одной категории, далее - E («Everyone») — 'Для всех'"
   ]
  },
  {
   "cell_type": "markdown",
   "metadata": {},
   "source": [
    "### Смотрим жителя Европы"
   ]
  },
  {
   "cell_type": "markdown",
   "metadata": {},
   "source": [
    "#### Топ-5 платформ"
   ]
  },
  {
   "cell_type": "code",
   "execution_count": 55,
   "metadata": {
    "scrolled": true
   },
   "outputs": [
    {
     "name": "stdout",
     "output_type": "stream",
     "text": [
      "          eu_sales\n",
      "platform          \n",
      "PS4         141.09\n",
      "PS3          67.81\n",
      "XOne         51.59\n",
      "X360         42.52\n",
      "3DS          30.96\n"
     ]
    }
   ],
   "source": [
    "# самые популярные платформы (топ-5)\n",
    "top5_eu = actual_data.pivot_table(index='platform', values='eu_sales', aggfunc=('sum')).\\\n",
    "        sort_values(by='eu_sales', ascending=False).head(5)\n",
    "print(top5_eu)"
   ]
  },
  {
   "cell_type": "markdown",
   "metadata": {},
   "source": [
    "топ-5 платформ в Европе: PS4, PS3, XOne, X360, 3DS"
   ]
  },
  {
   "cell_type": "markdown",
   "metadata": {},
   "source": [
    "#### Топ-5 жанров"
   ]
  },
  {
   "cell_type": "code",
   "execution_count": 56,
   "metadata": {
    "scrolled": true
   },
   "outputs": [
    {
     "data": {
      "image/png": "[encoded data removed]",
      "text/plain": [
       "<Figure size 432x288 with 1 Axes>"
      ]
     },
     "metadata": {
      "needs_background": "light"
     },
     "output_type": "display_data"
    }
   ],
   "source": [
    "actual_data.pivot_table(index='genre', values='eu_sales', aggfunc=('sum')).\\\n",
    "                sort_values(by='eu_sales', ascending=False).plot(kind='bar');"
   ]
  },
  {
   "cell_type": "markdown",
   "metadata": {},
   "source": [
    "топ-5 жанров: экшн, шутер, спорт, ролевые игры и гонки"
   ]
  },
  {
   "cell_type": "code",
   "execution_count": 57,
   "metadata": {
    "scrolled": true
   },
   "outputs": [
    {
     "data": {
      "text/html": [
       "<div>\n",
       "<style scoped>\n",
       "    .dataframe tbody tr th:only-of-type {\n",
       "        vertical-align: middle;\n",
       "    }\n",
       "\n",
       "    .dataframe tbody tr th {\n",
       "        vertical-align: top;\n",
       "    }\n",
       "\n",
       "    .dataframe thead th {\n",
       "        text-align: right;\n",
       "    }\n",
       "</style>\n",
       "<table border=\"1\" class=\"dataframe\">\n",
       "  <thead>\n",
       "    <tr style=\"text-align: right;\">\n",
       "      <th></th>\n",
       "      <th>eu_sales</th>\n",
       "    </tr>\n",
       "    <tr>\n",
       "      <th>rating</th>\n",
       "      <th></th>\n",
       "    </tr>\n",
       "  </thead>\n",
       "  <tbody>\n",
       "    <tr>\n",
       "      <th>M</th>\n",
       "      <td>145.32</td>\n",
       "    </tr>\n",
       "    <tr>\n",
       "      <th>E</th>\n",
       "      <td>83.36</td>\n",
       "    </tr>\n",
       "    <tr>\n",
       "      <th>out</th>\n",
       "      <td>78.91</td>\n",
       "    </tr>\n",
       "    <tr>\n",
       "      <th>E10+</th>\n",
       "      <td>42.69</td>\n",
       "    </tr>\n",
       "    <tr>\n",
       "      <th>T</th>\n",
       "      <td>41.95</td>\n",
       "    </tr>\n",
       "  </tbody>\n",
       "</table>\n",
       "</div>"
      ],
      "text/plain": [
       "        eu_sales\n",
       "rating          \n",
       "M         145.32\n",
       "E          83.36\n",
       "out        78.91\n",
       "E10+       42.69\n",
       "T          41.95"
      ]
     },
     "execution_count": 57,
     "metadata": {},
     "output_type": "execute_result"
    }
   ],
   "source": [
    "# посмотрим влияние рейтинга\n",
    "actual_data.pivot_table(index='rating', values='eu_sales', aggfunc=('sum')).\\\n",
    "                sort_values(by='eu_sales', ascending=False)"
   ]
  },
  {
   "cell_type": "markdown",
   "metadata": {},
   "source": [
    "самые продающиеся  - те же самые, что и у американцев, только 2 и 3 позиция поменены местами"
   ]
  },
  {
   "cell_type": "markdown",
   "metadata": {},
   "source": [
    "Типичный житель Европы любит платформы: PS4, PS3, XOne, X360, 3DS\n",
    "А топ-5 жанров выглядит так: экшн, шутер, спорт, ролевые игры и гонки\n"
   ]
  },
  {
   "cell_type": "markdown",
   "metadata": {},
   "source": [
    "### Смотрим жителя Японии"
   ]
  },
  {
   "cell_type": "markdown",
   "metadata": {},
   "source": [
    "#### Топ-5 платформ"
   ]
  },
  {
   "cell_type": "code",
   "execution_count": 58,
   "metadata": {
    "scrolled": false
   },
   "outputs": [
    {
     "name": "stdout",
     "output_type": "stream",
     "text": [
      "          jp_sales\n",
      "platform          \n",
      "3DS          67.81\n",
      "PS3          23.35\n",
      "PSV          18.59\n",
      "PS4          15.96\n",
      "WiiU         10.88\n"
     ]
    }
   ],
   "source": [
    "# самые популярные платформы (топ-5)\n",
    "top5_jp = actual_data.pivot_table(index='platform', values='jp_sales', aggfunc=('sum')).\\\n",
    "        sort_values(by='jp_sales', ascending=False).head(5)\n",
    "print(top5_jp)"
   ]
  },
  {
   "cell_type": "markdown",
   "metadata": {},
   "source": [
    "топ-5 платформ: 3DS, PS3, PSV, PS4, WiiU"
   ]
  },
  {
   "cell_type": "markdown",
   "metadata": {},
   "source": [
    "#### Топ-5 жанров"
   ]
  },
  {
   "cell_type": "code",
   "execution_count": 59,
   "metadata": {},
   "outputs": [
    {
     "data": {
      "image/png": "[encoded data removed]",
      "text/plain": [
       "<Figure size 432x288 with 1 Axes>"
      ]
     },
     "metadata": {
      "needs_background": "light"
     },
     "output_type": "display_data"
    }
   ],
   "source": [
    "actual_data.pivot_table(index='genre', values='jp_sales', aggfunc=('sum')).\\\n",
    "                sort_values(by='jp_sales', ascending=False).plot(kind='bar');"
   ]
  },
  {
   "cell_type": "markdown",
   "metadata": {},
   "source": [
    "А у японцев в лидерах платформ: 3DS, PS3, PSV, PS4, WiiU\n",
    "а жанры - ролевые игры, экшн, аркада, драки и шутер."
   ]
  },
  {
   "cell_type": "code",
   "execution_count": 60,
   "metadata": {
    "scrolled": true
   },
   "outputs": [
    {
     "data": {
      "text/html": [
       "<div>\n",
       "<style scoped>\n",
       "    .dataframe tbody tr th:only-of-type {\n",
       "        vertical-align: middle;\n",
       "    }\n",
       "\n",
       "    .dataframe tbody tr th {\n",
       "        vertical-align: top;\n",
       "    }\n",
       "\n",
       "    .dataframe thead th {\n",
       "        text-align: right;\n",
       "    }\n",
       "</style>\n",
       "<table border=\"1\" class=\"dataframe\">\n",
       "  <thead>\n",
       "    <tr style=\"text-align: right;\">\n",
       "      <th></th>\n",
       "      <th>jp_sales</th>\n",
       "    </tr>\n",
       "    <tr>\n",
       "      <th>rating</th>\n",
       "      <th></th>\n",
       "    </tr>\n",
       "  </thead>\n",
       "  <tbody>\n",
       "    <tr>\n",
       "      <th>out</th>\n",
       "      <td>85.05</td>\n",
       "    </tr>\n",
       "    <tr>\n",
       "      <th>T</th>\n",
       "      <td>20.59</td>\n",
       "    </tr>\n",
       "    <tr>\n",
       "      <th>E</th>\n",
       "      <td>15.14</td>\n",
       "    </tr>\n",
       "    <tr>\n",
       "      <th>M</th>\n",
       "      <td>14.11</td>\n",
       "    </tr>\n",
       "    <tr>\n",
       "      <th>E10+</th>\n",
       "      <td>5.89</td>\n",
       "    </tr>\n",
       "  </tbody>\n",
       "</table>\n",
       "</div>"
      ],
      "text/plain": [
       "        jp_sales\n",
       "rating          \n",
       "out        85.05\n",
       "T          20.59\n",
       "E          15.14\n",
       "M          14.11\n",
       "E10+        5.89"
      ]
     },
     "execution_count": 60,
     "metadata": {},
     "output_type": "execute_result"
    }
   ],
   "source": [
    "# посмотрим влияние рейтинга\n",
    "actual_data.pivot_table(index='rating', values='jp_sales', aggfunc=('sum')).\\\n",
    "                sort_values(by='jp_sales', ascending=False)"
   ]
  },
  {
   "cell_type": "markdown",
   "metadata": {},
   "source": [
    "лидеры продаж категории out, T, E"
   ]
  },
  {
   "cell_type": "markdown",
   "metadata": {},
   "source": [
    "У японцев те же самые лидеры, что и у европейцев с американцами."
   ]
  },
  {
   "cell_type": "markdown",
   "metadata": {},
   "source": [
    "Вывод по разделу:\n",
    "- американцы предпочитают: \n",
    "    - платформы: PS4, XOne, X360, PS3, 3DS\n",
    "    - жанры: экшн, шутер, спорт, ролевые игры и аркада\n",
    "    - больше всего покупают игр с рейтингом М, out, Е\n",
    "- европейцы:\n",
    "    - платформы: PS4, PS3, XOne, X360, 3DS\n",
    "    - жанры: экшн, шутер, спорт, ролевые игры и гонки\n",
    "    - больше всего покупают игр с рейтингом M, out, E\n",
    "- японцы:\n",
    "    - платформы: 3DS, PS3, PSV, PS4, WiiU\n",
    "    - жанры: ролевые игры, экшн, аркада, драки и шутер.\n",
    "    - больше всего покупают игр с рейтингом out, T, E\n",
    "    \n",
    " Что можно сказать: у европейцев и американцев схожий вкус - это касается и платформ и жанров. Японцы немного выделяются) Но все они сходятся в PS3, PS4, 3DS в ролевых играх с экшеном и стрелялками и в играх рейтинга Е"
   ]
  },
  {
   "cell_type": "markdown",
   "metadata": {},
   "source": [
    "##  Проверка гипотез"
   ]
  },
  {
   "cell_type": "markdown",
   "metadata": {},
   "source": [
    "### Средние пользовательские рейтинги платформ Xbox One и PC одинаковые"
   ]
  },
  {
   "cell_type": "markdown",
   "metadata": {},
   "source": [
    "Нулевая гипотеза: \n",
    "Н0 - Средние пользовательские рейтинги платформ Xbox One и PC равны. \\\n",
    "Альтернативная гипотеза:\n",
    "Н1 - Средние пользовательские рейтинги платформ Xbox One и PC не равны."
   ]
  },
  {
   "cell_type": "code",
   "execution_count": 61,
   "metadata": {
    "scrolled": true
   },
   "outputs": [
    {
     "data": {
      "text/plain": [
       "99       NaN\n",
       "165      7.9\n",
       "179      5.4\n",
       "242      6.4\n",
       "270      6.2\n",
       "        ... \n",
       "16630    8.2\n",
       "16643    6.6\n",
       "16645    NaN\n",
       "16660    6.7\n",
       "16672    NaN\n",
       "Name: user_score, Length: 247, dtype: float64"
      ]
     },
     "execution_count": 61,
     "metadata": {},
     "output_type": "execute_result"
    }
   ],
   "source": [
    "# проверим нулевую гипотезу\n",
    "# для начала найдем пользовательский рейитнг платформы XOne\n",
    "xone_h = actual_data[actual_data['platform']=='XOne']['user_score']\n",
    "xone_h"
   ]
  },
  {
   "cell_type": "code",
   "execution_count": 62,
   "metadata": {},
   "outputs": [
    {
     "data": {
      "text/html": [
       "<div>\n",
       "<style scoped>\n",
       "    .dataframe tbody tr th:only-of-type {\n",
       "        vertical-align: middle;\n",
       "    }\n",
       "\n",
       "    .dataframe tbody tr th {\n",
       "        vertical-align: top;\n",
       "    }\n",
       "\n",
       "    .dataframe thead th {\n",
       "        text-align: right;\n",
       "    }\n",
       "</style>\n",
       "<table border=\"1\" class=\"dataframe\">\n",
       "  <thead>\n",
       "    <tr style=\"text-align: right;\">\n",
       "      <th></th>\n",
       "      <th>user_score</th>\n",
       "    </tr>\n",
       "    <tr>\n",
       "      <th>platform</th>\n",
       "      <th></th>\n",
       "    </tr>\n",
       "  </thead>\n",
       "  <tbody>\n",
       "    <tr>\n",
       "      <th>XOne</th>\n",
       "      <td>6.521429</td>\n",
       "    </tr>\n",
       "  </tbody>\n",
       "</table>\n",
       "</div>"
      ],
      "text/plain": [
       "          user_score\n",
       "platform            \n",
       "XOne        6.521429"
      ]
     },
     "execution_count": 62,
     "metadata": {},
     "output_type": "execute_result"
    }
   ],
   "source": [
    "# посмотрим средний пользовательский рейтинг XOne\n",
    "actual_data.query('platform == \"XOne\"').pivot_table(index='platform', values='user_score')\n"
   ]
  },
  {
   "cell_type": "code",
   "execution_count": 63,
   "metadata": {
    "scrolled": true
   },
   "outputs": [
    {
     "name": "stdout",
     "output_type": "stream",
     "text": [
      "458      3.9\n",
      "1095     7.9\n",
      "1351     2.2\n",
      "1437     6.0\n",
      "1530     5.4\n",
      "        ... \n",
      "16509    7.9\n",
      "16518    1.4\n",
      "16617    NaN\n",
      "16631    NaN\n",
      "16692    7.6\n",
      "Name: user_score, Length: 189, dtype: float64\n"
     ]
    }
   ],
   "source": [
    "# найдем средний пользовательский рейитнг платформы PC\n",
    "pc_h = actual_data[actual_data['platform']=='PC']['user_score']\n",
    "print(pc_h)"
   ]
  },
  {
   "cell_type": "code",
   "execution_count": 64,
   "metadata": {},
   "outputs": [
    {
     "data": {
      "text/html": [
       "<div>\n",
       "<style scoped>\n",
       "    .dataframe tbody tr th:only-of-type {\n",
       "        vertical-align: middle;\n",
       "    }\n",
       "\n",
       "    .dataframe tbody tr th {\n",
       "        vertical-align: top;\n",
       "    }\n",
       "\n",
       "    .dataframe thead th {\n",
       "        text-align: right;\n",
       "    }\n",
       "</style>\n",
       "<table border=\"1\" class=\"dataframe\">\n",
       "  <thead>\n",
       "    <tr style=\"text-align: right;\">\n",
       "      <th></th>\n",
       "      <th>user_score</th>\n",
       "    </tr>\n",
       "    <tr>\n",
       "      <th>platform</th>\n",
       "      <th></th>\n",
       "    </tr>\n",
       "  </thead>\n",
       "  <tbody>\n",
       "    <tr>\n",
       "      <th>PC</th>\n",
       "      <td>6.269677</td>\n",
       "    </tr>\n",
       "  </tbody>\n",
       "</table>\n",
       "</div>"
      ],
      "text/plain": [
       "          user_score\n",
       "platform            \n",
       "PC          6.269677"
      ]
     },
     "execution_count": 64,
     "metadata": {},
     "output_type": "execute_result"
    }
   ],
   "source": [
    "# посмотрим средний пользовательский рейтинг PC\n",
    "actual_data.query('platform == \"PC\"').pivot_table(index='platform', values='user_score')"
   ]
  },
  {
   "cell_type": "code",
   "execution_count": 65,
   "metadata": {
    "scrolled": true
   },
   "outputs": [
    {
     "name": "stdout",
     "output_type": "stream",
     "text": [
      "p-значение: 0.14012658403611647\n",
      "Не получилось отвергнуть нулевую гипотезу\n"
     ]
    }
   ],
   "source": [
    "# проверка гипотезы\n",
    "\n",
    "alpha = 0.01\n",
    "results = st.ttest_ind(xone_h.dropna(), pc_h.dropna())\n",
    "print('p-значение:', results.pvalue)\n",
    "if results.pvalue < alpha:\n",
    "    print(\"Отвергаем нулевую гипотезу\")\n",
    "else:\n",
    "     print(\"Не получилось отвергнуть нулевую гипотезу\")"
   ]
  },
  {
   "cell_type": "markdown",
   "metadata": {},
   "source": [
    "P-значение больше порогового значения. Нулевая гипотеза не отвергнута, а это значит, что гипотеза \"Средние пользовательские рейтинги платформ Xbox One и PC равны\" - верна. Что и видно по подсчитанному среднему."
   ]
  },
  {
   "cell_type": "markdown",
   "metadata": {},
   "source": [
    "### Средние пользовательские рейтинги жанров Action (англ. «действие», экшен-игры) и Sports (англ. «спортивные соревнования») разные"
   ]
  },
  {
   "cell_type": "markdown",
   "metadata": {},
   "source": [
    "Нулевая гипотеза:\n",
    "Н0 - Средние пользовательские рейтинги жанров Action и Sports равны. \\\n",
    "Альтернативная гипотеза:\n",
    "Н1 - Средние пользовательские рейтинги жанров Action и Sports не равны."
   ]
  },
  {
   "cell_type": "code",
   "execution_count": 66,
   "metadata": {
    "scrolled": false
   },
   "outputs": [
    {
     "name": "stdout",
     "output_type": "stream",
     "text": [
      "16       8.2\n",
      "23       8.1\n",
      "42       8.3\n",
      "149      9.1\n",
      "165      7.9\n",
      "        ... \n",
      "16680    NaN\n",
      "16691    NaN\n",
      "16692    7.6\n",
      "16699    NaN\n",
      "16710    NaN\n",
      "Name: user_score, Length: 766, dtype: float64\n"
     ]
    }
   ],
   "source": [
    "# для начала найдем пользовательский рейитнг жанра action\n",
    "action_h = actual_data[actual_data['genre']=='Action']['user_score']\n",
    "print(action_h)"
   ]
  },
  {
   "cell_type": "code",
   "execution_count": 67,
   "metadata": {},
   "outputs": [
    {
     "data": {
      "text/html": [
       "<div>\n",
       "<style scoped>\n",
       "    .dataframe tbody tr th:only-of-type {\n",
       "        vertical-align: middle;\n",
       "    }\n",
       "\n",
       "    .dataframe tbody tr th {\n",
       "        vertical-align: top;\n",
       "    }\n",
       "\n",
       "    .dataframe thead th {\n",
       "        text-align: right;\n",
       "    }\n",
       "</style>\n",
       "<table border=\"1\" class=\"dataframe\">\n",
       "  <thead>\n",
       "    <tr style=\"text-align: right;\">\n",
       "      <th></th>\n",
       "      <th>user_score</th>\n",
       "    </tr>\n",
       "    <tr>\n",
       "      <th>genre</th>\n",
       "      <th></th>\n",
       "    </tr>\n",
       "  </thead>\n",
       "  <tbody>\n",
       "    <tr>\n",
       "      <th>Action</th>\n",
       "      <td>6.837532</td>\n",
       "    </tr>\n",
       "  </tbody>\n",
       "</table>\n",
       "</div>"
      ],
      "text/plain": [
       "        user_score\n",
       "genre             \n",
       "Action    6.837532"
      ]
     },
     "execution_count": 67,
     "metadata": {},
     "output_type": "execute_result"
    }
   ],
   "source": [
    "# посмотрим на среднюю оценку пользователей жанра экшн\n",
    "actual_data.query('genre==\"Action\"').pivot_table(index='genre', values='user_score')"
   ]
  },
  {
   "cell_type": "code",
   "execution_count": 68,
   "metadata": {
    "scrolled": false
   },
   "outputs": [
    {
     "name": "stdout",
     "output_type": "stream",
     "text": [
      "77       4.3\n",
      "94       5.0\n",
      "126      4.3\n",
      "143      5.7\n",
      "264      4.5\n",
      "        ... \n",
      "16428    NaN\n",
      "16450    4.5\n",
      "16518    1.4\n",
      "16638    NaN\n",
      "16643    6.6\n",
      "Name: user_score, Length: 214, dtype: float64\n"
     ]
    }
   ],
   "source": [
    "# найдем пользовательский рейитнг жанра sports\n",
    "sports_h = actual_data[actual_data['genre']=='Sports']['user_score']\n",
    "print(sports_h)"
   ]
  },
  {
   "cell_type": "code",
   "execution_count": 69,
   "metadata": {},
   "outputs": [
    {
     "data": {
      "text/html": [
       "<div>\n",
       "<style scoped>\n",
       "    .dataframe tbody tr th:only-of-type {\n",
       "        vertical-align: middle;\n",
       "    }\n",
       "\n",
       "    .dataframe tbody tr th {\n",
       "        vertical-align: top;\n",
       "    }\n",
       "\n",
       "    .dataframe thead th {\n",
       "        text-align: right;\n",
       "    }\n",
       "</style>\n",
       "<table border=\"1\" class=\"dataframe\">\n",
       "  <thead>\n",
       "    <tr style=\"text-align: right;\">\n",
       "      <th></th>\n",
       "      <th>user_score</th>\n",
       "    </tr>\n",
       "    <tr>\n",
       "      <th>genre</th>\n",
       "      <th></th>\n",
       "    </tr>\n",
       "  </thead>\n",
       "  <tbody>\n",
       "    <tr>\n",
       "      <th>Sports</th>\n",
       "      <td>5.238125</td>\n",
       "    </tr>\n",
       "  </tbody>\n",
       "</table>\n",
       "</div>"
      ],
      "text/plain": [
       "        user_score\n",
       "genre             \n",
       "Sports    5.238125"
      ]
     },
     "execution_count": 69,
     "metadata": {},
     "output_type": "execute_result"
    }
   ],
   "source": [
    "# посмотрим на среднюю оценку пользователей жанра спорт\n",
    "actual_data.query('genre==\"Sports\"').pivot_table(index='genre', values='user_score')"
   ]
  },
  {
   "cell_type": "code",
   "execution_count": 70,
   "metadata": {
    "scrolled": true
   },
   "outputs": [
    {
     "name": "stdout",
     "output_type": "stream",
     "text": [
      "p-значение: 1.4460039700704315e-20\n",
      "Отвергаем нулевую гипотезу\n"
     ]
    }
   ],
   "source": [
    "# проверяем нулевую гипотезу\n",
    "alpha = 0.01\n",
    "results = st.ttest_ind(action_h.dropna(), sports_h.dropna(), equal_var=False)\n",
    "print('p-значение:', results.pvalue)\n",
    "if results.pvalue < alpha:\n",
    "    print(\"Отвергаем нулевую гипотезу\")\n",
    "else:\n",
    "     print(\"Не получилось отвергнуть нулевую гипотезу\")"
   ]
  },
  {
   "cell_type": "markdown",
   "metadata": {},
   "source": [
    "Р-значение меньше порогового значения альфа на 18 порядков , а это значит, что нулевую гипотезу \"Средние пользовательские рейтинги жанров Action и Sports равны\" - отвергаем. То есть верна альтернативная гипотеза, что  и видно по посчитанным срежним значениям."
   ]
  },
  {
   "cell_type": "markdown",
   "metadata": {},
   "source": [
    "Нулевые гипотезы выбирались исходя из текста задания, альтернативная - в противоположность нулевой гипотезе. Для проверки гипотез о равенстве среднего двух генеральных совокупностей по взятым из них выборкам использовался метод: scipy.stats.ttest_ind. Получаемый результат (р-величина) - вероятность получить наблюдаемый результат при условии, что нулевая гипотеза верна, сравнивали с выбранным уровнем значимости и выносили решение: отвергать гипотезу или нет. Альфа выбиралась из общепринятых пороговых значений — 5% и 1%."
   ]
  },
  {
   "cell_type": "markdown",
   "metadata": {},
   "source": [
    "## Общий вывод"
   ]
  },
  {
   "cell_type": "markdown",
   "metadata": {},
   "source": [
    "Изучались исторические данные о продажах игр, оценки пользователей и экспертов, жанры и платформы (например, Xbox или PlayStation) в интернет магазине \"Стримчик\". Задача заключалась в выявлении определяющих успешность игры закономерностей. Это позволит сделать ставку на потенциально популярный продукт и спланировать рекламные кампании.\\\n",
    "Конретно выполнено:\n",
    "- 1. предобработка данных:\n",
    "    - перевод столбцов таблицы в нижний регистр\n",
    "    - найдены пропуски и обработаны те, с которыми это делать было уместно\n",
    "    - изменен некорректный тип данных в столбцах year_of_release, user_score\n",
    "    - добавлен новый столбец - сумма всех продаж total_sales\n",
    "- 2. проведен исследовательский анализ данных:\n",
    "    - с 1980 по 1993 - было очень мало игр (компьютеры не тянули), пик выпуска игр приходился на 2008-2009 год, а с 2011 наблюдался резкий спад практически в два раза - телефонные игры нынче популярны\n",
    "    -  обнаружен топ-6 игровых платформ: \"PS2\", \"X360\", \"PS3\", \"Wii\", \"DS\", \"PS\" со средней продолжительностью существования - 10 лет\n",
    "    - но в актуальное время (с 2013) лидеры немного сменились - PS4, PS3, XOne, 3DS, X360.\n",
    "    - на продажи влияют оценки критиков, видимо люди всё таки прислушиваются к профессионалам, но оценки пользователей роли не играют\n",
    "    - больше всего выпускается игр с жанром action, но дороже продается - shooter\n",
    "    \n",
    "- 3. проанализирован портрет представителя: Северной Америки, Европы и Японии\n",
    "    - Северная Америка:\n",
    "       - топ-5 платформ выглядит так: PS4, XOne, X360, PS3, 3DS\n",
    "       - самые популярные жанры - экшн, шутер, спорт, ролевые игры и аркада\n",
    "       - в лидерах рейтинга -M, out, E\n",
    "     - Европа:\n",
    "         - топ-5 платформ в Европе: PS4, PS3, XOne, X360, 3DS\n",
    "         - топ-5 жанров: экшн, шутер, спорт, ролевые игры и гонки\n",
    "         - самые продающиеся  - те же самые , только 2 и 3 место поменялись местами.\n",
    "     - Япония:\n",
    "         - топ-5 платформ: 3DS, PS3, PSV, PS4, WiiU\n",
    "         - жанры - ролевые игры, экшн, аркада, драки и шутер.\n",
    "         - лидеры продаж в категориях: out, T, E\n",
    "у европейцев и американцев схожий вкус - это касается и платформ и жанров. Японцы немного выделяются) Но все они сходятся в PS3, PS4, 3DS в ролевых играх с экшеном и стрелялками и в играх рейтинга Е\n",
    "\n",
    "- 4. проверка гипотез:\\\n",
    "проверялись две гипотезы при помощи специального метода для проверки гипотезы о равенстве среднего двух генеральных совокупностей по взятым из них выборкам. В итоге еще раз убедились, что средние пользовательские рейтинги платформ Xbox One и PC равны, а средние пользовательские рейтинги жанров Action и Sports разные.\\\n",
    "\\\n",
    "И по итогу проделанной работы можно сказать, что следует вкладываться в лидера рынка: PS4 , поскольку он пользуется наибольшей популярностью в Европе и Америке, в жанр - shooter, поскольку он стабильно приносит хороший доход, и в игры рейтинга M. А если обращать внимание на отзывы, то только на отзывы критиков."
   ]
  }
 ],
 "metadata": {
  "ExecuteTimeLog": [
   {
    "duration": 443,
    "start_time": "2022-10-03T08:06:37.998Z"
   },
   {
    "duration": 7,
    "start_time": "2022-10-03T08:07:16.805Z"
   },
   {
    "duration": 7,
    "start_time": "2022-10-03T08:07:22.221Z"
   },
   {
    "duration": 7,
    "start_time": "2022-10-03T08:07:26.796Z"
   },
   {
    "duration": 89,
    "start_time": "2022-10-03T08:07:31.048Z"
   },
   {
    "duration": 176,
    "start_time": "2022-10-03T08:08:03.546Z"
   },
   {
    "duration": 15,
    "start_time": "2022-10-03T08:08:33.342Z"
   },
   {
    "duration": 24,
    "start_time": "2022-10-03T08:08:44.402Z"
   },
   {
    "duration": 15,
    "start_time": "2022-10-03T08:08:55.816Z"
   },
   {
    "duration": 26,
    "start_time": "2022-10-03T08:09:28.333Z"
   },
   {
    "duration": 14,
    "start_time": "2022-10-03T08:10:05.886Z"
   },
   {
    "duration": 30,
    "start_time": "2022-10-03T08:12:55.437Z"
   },
   {
    "duration": 7,
    "start_time": "2022-10-03T08:24:15.303Z"
   },
   {
    "duration": 6,
    "start_time": "2022-10-03T08:24:24.722Z"
   },
   {
    "duration": 6,
    "start_time": "2022-10-03T08:24:32.580Z"
   },
   {
    "duration": 10,
    "start_time": "2022-10-03T08:27:53.952Z"
   },
   {
    "duration": 4,
    "start_time": "2022-10-03T08:28:12.247Z"
   },
   {
    "duration": 4,
    "start_time": "2022-10-03T08:28:24.984Z"
   },
   {
    "duration": 4,
    "start_time": "2022-10-03T08:28:36.155Z"
   },
   {
    "duration": 5,
    "start_time": "2022-10-03T08:28:59.128Z"
   },
   {
    "duration": 7,
    "start_time": "2022-10-03T08:29:11.589Z"
   },
   {
    "duration": 6,
    "start_time": "2022-10-03T08:29:22.572Z"
   },
   {
    "duration": 6,
    "start_time": "2022-10-03T08:29:27.724Z"
   },
   {
    "duration": 47,
    "start_time": "2022-10-03T11:29:08.287Z"
   },
   {
    "duration": 445,
    "start_time": "2022-10-03T11:29:18.505Z"
   },
   {
    "duration": 95,
    "start_time": "2022-10-03T11:29:18.952Z"
   },
   {
    "duration": 36,
    "start_time": "2022-10-03T11:29:19.049Z"
   },
   {
    "duration": 14,
    "start_time": "2022-10-03T11:29:19.087Z"
   },
   {
    "duration": 30,
    "start_time": "2022-10-03T11:29:19.105Z"
   },
   {
    "duration": 4,
    "start_time": "2022-10-03T11:29:19.137Z"
   },
   {
    "duration": 34,
    "start_time": "2022-10-03T11:29:19.143Z"
   },
   {
    "duration": 64,
    "start_time": "2022-10-03T11:39:39.235Z"
   },
   {
    "duration": 16,
    "start_time": "2022-10-03T11:39:58.520Z"
   },
   {
    "duration": 11,
    "start_time": "2022-10-03T11:40:19.935Z"
   },
   {
    "duration": 4,
    "start_time": "2022-10-03T11:42:24.486Z"
   },
   {
    "duration": 5,
    "start_time": "2022-10-03T11:42:58.532Z"
   },
   {
    "duration": 845,
    "start_time": "2022-10-03T11:45:45.972Z"
   },
   {
    "duration": 6,
    "start_time": "2022-10-03T11:45:57.615Z"
   },
   {
    "duration": 6,
    "start_time": "2022-10-03T11:46:19.910Z"
   },
   {
    "duration": 13,
    "start_time": "2022-10-03T11:47:31.905Z"
   },
   {
    "duration": 13,
    "start_time": "2022-10-03T11:47:47.134Z"
   },
   {
    "duration": 7,
    "start_time": "2022-10-03T11:48:18.832Z"
   },
   {
    "duration": 13,
    "start_time": "2022-10-03T11:48:35.638Z"
   },
   {
    "duration": 6,
    "start_time": "2022-10-03T11:49:03.688Z"
   },
   {
    "duration": 18,
    "start_time": "2022-10-03T11:49:05.808Z"
   },
   {
    "duration": 794,
    "start_time": "2022-10-03T11:49:15.967Z"
   },
   {
    "duration": 52,
    "start_time": "2022-10-03T11:49:16.763Z"
   },
   {
    "duration": 32,
    "start_time": "2022-10-03T11:49:16.817Z"
   },
   {
    "duration": 17,
    "start_time": "2022-10-03T11:49:16.851Z"
   },
   {
    "duration": 57,
    "start_time": "2022-10-03T11:49:16.870Z"
   },
   {
    "duration": 4,
    "start_time": "2022-10-03T11:49:16.928Z"
   },
   {
    "duration": 30,
    "start_time": "2022-10-03T11:49:16.934Z"
   },
   {
    "duration": 34,
    "start_time": "2022-10-03T11:49:16.966Z"
   },
   {
    "duration": 33,
    "start_time": "2022-10-03T11:49:17.002Z"
   },
   {
    "duration": 4,
    "start_time": "2022-10-03T11:51:28.251Z"
   },
   {
    "duration": 13,
    "start_time": "2022-10-03T11:51:30.427Z"
   },
   {
    "duration": 80,
    "start_time": "2022-10-03T11:51:41.750Z"
   },
   {
    "duration": 5,
    "start_time": "2022-10-03T11:56:09.959Z"
   },
   {
    "duration": 646,
    "start_time": "2022-10-03T11:56:19.644Z"
   },
   {
    "duration": 51,
    "start_time": "2022-10-03T11:56:20.292Z"
   },
   {
    "duration": 33,
    "start_time": "2022-10-03T11:56:20.344Z"
   },
   {
    "duration": 13,
    "start_time": "2022-10-03T11:56:20.379Z"
   },
   {
    "duration": 33,
    "start_time": "2022-10-03T11:56:20.394Z"
   },
   {
    "duration": 3,
    "start_time": "2022-10-03T11:56:20.429Z"
   },
   {
    "duration": 34,
    "start_time": "2022-10-03T11:56:20.433Z"
   },
   {
    "duration": 32,
    "start_time": "2022-10-03T11:56:20.468Z"
   },
   {
    "duration": 112,
    "start_time": "2022-10-03T11:56:20.501Z"
   },
   {
    "duration": 0,
    "start_time": "2022-10-03T11:56:20.615Z"
   },
   {
    "duration": 9,
    "start_time": "2022-10-03T11:59:07.733Z"
   },
   {
    "duration": 5,
    "start_time": "2022-10-03T12:00:04.855Z"
   },
   {
    "duration": 13,
    "start_time": "2022-10-03T12:01:04.279Z"
   },
   {
    "duration": 4,
    "start_time": "2022-10-03T12:01:18.985Z"
   },
   {
    "duration": 13,
    "start_time": "2022-10-03T12:01:23.063Z"
   },
   {
    "duration": 7,
    "start_time": "2022-10-03T12:08:09.379Z"
   },
   {
    "duration": 619,
    "start_time": "2022-10-03T12:09:23.868Z"
   },
   {
    "duration": 52,
    "start_time": "2022-10-03T12:09:24.489Z"
   },
   {
    "duration": 36,
    "start_time": "2022-10-03T12:09:24.543Z"
   },
   {
    "duration": 13,
    "start_time": "2022-10-03T12:09:24.581Z"
   },
   {
    "duration": 42,
    "start_time": "2022-10-03T12:09:24.595Z"
   },
   {
    "duration": 3,
    "start_time": "2022-10-03T12:09:24.638Z"
   },
   {
    "duration": 24,
    "start_time": "2022-10-03T12:09:24.643Z"
   },
   {
    "duration": 79,
    "start_time": "2022-10-03T12:09:24.668Z"
   },
   {
    "duration": 0,
    "start_time": "2022-10-03T12:09:24.748Z"
   },
   {
    "duration": 0,
    "start_time": "2022-10-03T12:09:24.750Z"
   },
   {
    "duration": 0,
    "start_time": "2022-10-03T12:09:24.751Z"
   },
   {
    "duration": 7,
    "start_time": "2022-10-03T12:11:00.425Z"
   },
   {
    "duration": 10,
    "start_time": "2022-10-03T12:11:04.023Z"
   },
   {
    "duration": 9,
    "start_time": "2022-10-03T12:11:17.351Z"
   },
   {
    "duration": 4,
    "start_time": "2022-10-03T12:25:43.231Z"
   },
   {
    "duration": 14,
    "start_time": "2022-10-03T12:25:52.535Z"
   },
   {
    "duration": 3,
    "start_time": "2022-10-03T12:26:12.861Z"
   },
   {
    "duration": 13,
    "start_time": "2022-10-03T12:26:15.985Z"
   },
   {
    "duration": 8,
    "start_time": "2022-10-03T12:26:23.469Z"
   },
   {
    "duration": 4,
    "start_time": "2022-10-03T12:26:44.079Z"
   },
   {
    "duration": 13,
    "start_time": "2022-10-03T12:26:46.058Z"
   },
   {
    "duration": 13,
    "start_time": "2022-10-03T12:28:28.442Z"
   },
   {
    "duration": 13,
    "start_time": "2022-10-03T12:28:30.735Z"
   },
   {
    "duration": 13,
    "start_time": "2022-10-03T12:28:49.514Z"
   },
   {
    "duration": 5,
    "start_time": "2022-10-03T12:30:39.750Z"
   },
   {
    "duration": 3,
    "start_time": "2022-10-03T12:30:51.938Z"
   },
   {
    "duration": 184,
    "start_time": "2022-10-03T12:31:15.005Z"
   },
   {
    "duration": 5,
    "start_time": "2022-10-03T12:31:41.641Z"
   },
   {
    "duration": 182,
    "start_time": "2022-10-03T12:31:43.747Z"
   },
   {
    "duration": 666,
    "start_time": "2022-10-03T12:32:55.444Z"
   },
   {
    "duration": 53,
    "start_time": "2022-10-03T12:32:56.112Z"
   },
   {
    "duration": 34,
    "start_time": "2022-10-03T12:32:56.166Z"
   },
   {
    "duration": 14,
    "start_time": "2022-10-03T12:32:56.201Z"
   },
   {
    "duration": 28,
    "start_time": "2022-10-03T12:32:56.217Z"
   },
   {
    "duration": 2,
    "start_time": "2022-10-03T12:32:56.247Z"
   },
   {
    "duration": 32,
    "start_time": "2022-10-03T12:32:56.251Z"
   },
   {
    "duration": 10,
    "start_time": "2022-10-03T12:32:56.285Z"
   },
   {
    "duration": 4,
    "start_time": "2022-10-03T12:32:56.298Z"
   },
   {
    "duration": 196,
    "start_time": "2022-10-03T12:32:56.304Z"
   },
   {
    "duration": 6,
    "start_time": "2022-10-03T12:32:56.502Z"
   },
   {
    "duration": 101,
    "start_time": "2022-10-03T12:32:56.510Z"
   },
   {
    "duration": 0,
    "start_time": "2022-10-03T12:32:56.613Z"
   },
   {
    "duration": 0,
    "start_time": "2022-10-03T12:32:56.615Z"
   },
   {
    "duration": 0,
    "start_time": "2022-10-03T12:32:56.617Z"
   },
   {
    "duration": 55,
    "start_time": "2022-10-03T12:33:24.131Z"
   },
   {
    "duration": 5,
    "start_time": "2022-10-03T12:33:28.069Z"
   },
   {
    "duration": 164,
    "start_time": "2022-10-03T12:33:33.313Z"
   },
   {
    "duration": 5,
    "start_time": "2022-10-03T12:35:45.945Z"
   },
   {
    "duration": 5,
    "start_time": "2022-10-03T12:37:51.948Z"
   },
   {
    "duration": 5,
    "start_time": "2022-10-03T12:40:29.164Z"
   },
   {
    "duration": 5,
    "start_time": "2022-10-03T12:40:44.278Z"
   },
   {
    "duration": 47,
    "start_time": "2022-10-03T13:26:31.038Z"
   },
   {
    "duration": 796,
    "start_time": "2022-10-03T13:26:35.648Z"
   },
   {
    "duration": 24,
    "start_time": "2022-10-03T13:26:44.249Z"
   },
   {
    "duration": 14,
    "start_time": "2022-10-03T13:26:52.149Z"
   },
   {
    "duration": 15,
    "start_time": "2022-10-03T13:39:01.037Z"
   },
   {
    "duration": 13,
    "start_time": "2022-10-03T13:39:50.697Z"
   },
   {
    "duration": 5,
    "start_time": "2022-10-03T13:53:40.010Z"
   },
   {
    "duration": 8,
    "start_time": "2022-10-03T13:54:46.899Z"
   },
   {
    "duration": 9,
    "start_time": "2022-10-03T14:11:08.861Z"
   },
   {
    "duration": 15,
    "start_time": "2022-10-03T14:11:15.129Z"
   },
   {
    "duration": 14,
    "start_time": "2022-10-03T14:12:22.461Z"
   },
   {
    "duration": 19,
    "start_time": "2022-10-03T14:13:09.566Z"
   },
   {
    "duration": 48,
    "start_time": "2022-10-03T20:29:10.548Z"
   },
   {
    "duration": 790,
    "start_time": "2022-10-03T20:29:30.248Z"
   },
   {
    "duration": 114,
    "start_time": "2022-10-03T20:29:31.040Z"
   },
   {
    "duration": 44,
    "start_time": "2022-10-03T20:29:31.156Z"
   },
   {
    "duration": 16,
    "start_time": "2022-10-03T20:29:31.203Z"
   },
   {
    "duration": 58,
    "start_time": "2022-10-03T20:29:31.222Z"
   },
   {
    "duration": 4,
    "start_time": "2022-10-03T20:29:31.282Z"
   },
   {
    "duration": 34,
    "start_time": "2022-10-03T20:29:31.288Z"
   },
   {
    "duration": 32,
    "start_time": "2022-10-03T20:29:31.325Z"
   },
   {
    "duration": 23,
    "start_time": "2022-10-03T20:29:31.360Z"
   },
   {
    "duration": 212,
    "start_time": "2022-10-03T20:29:31.387Z"
   },
   {
    "duration": 5,
    "start_time": "2022-10-03T20:29:31.602Z"
   },
   {
    "duration": 29,
    "start_time": "2022-10-03T20:29:31.609Z"
   },
   {
    "duration": 34,
    "start_time": "2022-10-03T20:29:31.639Z"
   },
   {
    "duration": 5,
    "start_time": "2022-10-03T20:29:31.675Z"
   },
   {
    "duration": 25,
    "start_time": "2022-10-03T20:29:31.682Z"
   },
   {
    "duration": 5,
    "start_time": "2022-10-03T20:29:31.708Z"
   },
   {
    "duration": 93,
    "start_time": "2022-10-03T20:29:31.721Z"
   },
   {
    "duration": 0,
    "start_time": "2022-10-03T20:29:31.815Z"
   },
   {
    "duration": 0,
    "start_time": "2022-10-03T20:29:31.817Z"
   },
   {
    "duration": 0,
    "start_time": "2022-10-03T20:29:31.820Z"
   },
   {
    "duration": 0,
    "start_time": "2022-10-03T20:29:31.821Z"
   },
   {
    "duration": 14,
    "start_time": "2022-10-03T20:33:58.253Z"
   },
   {
    "duration": 593,
    "start_time": "2022-10-03T20:34:20.669Z"
   },
   {
    "duration": 55,
    "start_time": "2022-10-03T20:34:22.882Z"
   },
   {
    "duration": 34,
    "start_time": "2022-10-03T20:34:24.645Z"
   },
   {
    "duration": 3,
    "start_time": "2022-10-03T20:34:31.725Z"
   },
   {
    "duration": 79,
    "start_time": "2022-10-03T20:34:34.547Z"
   },
   {
    "duration": 4,
    "start_time": "2022-10-03T20:35:05.223Z"
   },
   {
    "duration": 16,
    "start_time": "2022-10-03T20:35:20.530Z"
   },
   {
    "duration": 9,
    "start_time": "2022-10-03T20:36:06.817Z"
   },
   {
    "duration": 17,
    "start_time": "2022-10-03T20:36:08.929Z"
   },
   {
    "duration": 5,
    "start_time": "2022-10-03T20:36:23.072Z"
   },
   {
    "duration": 14,
    "start_time": "2022-10-03T20:36:31.865Z"
   },
   {
    "duration": 14,
    "start_time": "2022-10-03T20:37:04.435Z"
   },
   {
    "duration": 5,
    "start_time": "2022-10-03T20:39:21.231Z"
   },
   {
    "duration": 13,
    "start_time": "2022-10-03T20:39:37.762Z"
   },
   {
    "duration": 9,
    "start_time": "2022-10-03T20:43:55.462Z"
   },
   {
    "duration": 6,
    "start_time": "2022-10-03T20:44:06.342Z"
   },
   {
    "duration": 7,
    "start_time": "2022-10-03T20:46:00.148Z"
   },
   {
    "duration": 26,
    "start_time": "2022-10-03T20:46:37.375Z"
   },
   {
    "duration": 17,
    "start_time": "2022-10-03T20:48:28.340Z"
   },
   {
    "duration": 8,
    "start_time": "2022-10-03T20:48:40.614Z"
   },
   {
    "duration": 8,
    "start_time": "2022-10-03T20:48:58.880Z"
   },
   {
    "duration": 9,
    "start_time": "2022-10-03T20:49:09.170Z"
   },
   {
    "duration": 12,
    "start_time": "2022-10-03T20:49:22.856Z"
   },
   {
    "duration": 676,
    "start_time": "2022-10-03T20:49:31.435Z"
   },
   {
    "duration": 57,
    "start_time": "2022-10-03T20:49:32.113Z"
   },
   {
    "duration": 33,
    "start_time": "2022-10-03T20:49:32.171Z"
   },
   {
    "duration": 14,
    "start_time": "2022-10-03T20:49:32.206Z"
   },
   {
    "duration": 36,
    "start_time": "2022-10-03T20:49:32.223Z"
   },
   {
    "duration": 4,
    "start_time": "2022-10-03T20:49:32.261Z"
   },
   {
    "duration": 13,
    "start_time": "2022-10-03T20:49:32.267Z"
   },
   {
    "duration": 13,
    "start_time": "2022-10-03T20:49:32.281Z"
   },
   {
    "duration": 27,
    "start_time": "2022-10-03T20:49:32.295Z"
   },
   {
    "duration": 220,
    "start_time": "2022-10-03T20:49:32.325Z"
   },
   {
    "duration": 5,
    "start_time": "2022-10-03T20:49:32.546Z"
   },
   {
    "duration": 8,
    "start_time": "2022-10-03T20:49:32.553Z"
   },
   {
    "duration": 6,
    "start_time": "2022-10-03T20:49:32.563Z"
   },
   {
    "duration": 105,
    "start_time": "2022-10-03T20:49:32.571Z"
   },
   {
    "duration": 0,
    "start_time": "2022-10-03T20:49:32.679Z"
   },
   {
    "duration": 0,
    "start_time": "2022-10-03T20:49:32.680Z"
   },
   {
    "duration": 0,
    "start_time": "2022-10-03T20:49:32.682Z"
   },
   {
    "duration": 0,
    "start_time": "2022-10-03T20:49:32.683Z"
   },
   {
    "duration": 0,
    "start_time": "2022-10-03T20:49:32.685Z"
   },
   {
    "duration": 0,
    "start_time": "2022-10-03T20:49:32.687Z"
   },
   {
    "duration": 0,
    "start_time": "2022-10-03T20:49:32.689Z"
   },
   {
    "duration": 651,
    "start_time": "2022-10-03T20:50:22.613Z"
   },
   {
    "duration": 52,
    "start_time": "2022-10-03T20:50:24.749Z"
   },
   {
    "duration": 3,
    "start_time": "2022-10-03T20:50:30.739Z"
   },
   {
    "duration": 12,
    "start_time": "2022-10-03T20:50:40.133Z"
   },
   {
    "duration": 7,
    "start_time": "2022-10-03T20:50:45.391Z"
   },
   {
    "duration": 9,
    "start_time": "2022-10-03T20:51:02.308Z"
   },
   {
    "duration": 8,
    "start_time": "2022-10-03T20:51:10.878Z"
   },
   {
    "duration": 16,
    "start_time": "2022-10-03T20:51:19.862Z"
   },
   {
    "duration": 11,
    "start_time": "2022-10-03T20:51:31.119Z"
   },
   {
    "duration": 8,
    "start_time": "2022-10-03T20:51:44.072Z"
   },
   {
    "duration": 8,
    "start_time": "2022-10-03T20:52:01.735Z"
   },
   {
    "duration": 9,
    "start_time": "2022-10-03T20:52:12.238Z"
   },
   {
    "duration": 38,
    "start_time": "2022-10-03T20:52:23.010Z"
   },
   {
    "duration": 9,
    "start_time": "2022-10-03T20:52:50.531Z"
   },
   {
    "duration": 9,
    "start_time": "2022-10-03T20:53:03.097Z"
   },
   {
    "duration": 5,
    "start_time": "2022-10-03T20:54:02.674Z"
   },
   {
    "duration": 1169,
    "start_time": "2022-10-03T20:54:17.856Z"
   },
   {
    "duration": 1247,
    "start_time": "2022-10-03T20:55:10.884Z"
   },
   {
    "duration": 5,
    "start_time": "2022-10-03T20:56:25.723Z"
   },
   {
    "duration": 14,
    "start_time": "2022-10-03T20:56:33.135Z"
   },
   {
    "duration": 23,
    "start_time": "2022-10-03T21:01:12.911Z"
   },
   {
    "duration": 9,
    "start_time": "2022-10-03T21:15:22.526Z"
   },
   {
    "duration": 12,
    "start_time": "2022-10-03T21:15:35.905Z"
   },
   {
    "duration": 54,
    "start_time": "2022-10-03T21:19:42.962Z"
   },
   {
    "duration": 11,
    "start_time": "2022-10-03T21:20:21.959Z"
   },
   {
    "duration": 12,
    "start_time": "2022-10-03T21:20:28.036Z"
   },
   {
    "duration": 9,
    "start_time": "2022-10-03T21:22:36.808Z"
   },
   {
    "duration": 11,
    "start_time": "2022-10-03T21:22:52.479Z"
   },
   {
    "duration": 9,
    "start_time": "2022-10-03T21:22:55.704Z"
   },
   {
    "duration": 5,
    "start_time": "2022-10-03T21:28:34.346Z"
   },
   {
    "duration": 9,
    "start_time": "2022-10-03T21:28:38.062Z"
   },
   {
    "duration": 14,
    "start_time": "2022-10-03T21:29:03.753Z"
   },
   {
    "duration": 10,
    "start_time": "2022-10-03T21:29:55.160Z"
   },
   {
    "duration": 11,
    "start_time": "2022-10-03T21:30:03.537Z"
   },
   {
    "duration": 669,
    "start_time": "2022-10-03T21:30:16.489Z"
   },
   {
    "duration": 52,
    "start_time": "2022-10-03T21:30:17.160Z"
   },
   {
    "duration": 35,
    "start_time": "2022-10-03T21:30:17.214Z"
   },
   {
    "duration": 14,
    "start_time": "2022-10-03T21:30:17.251Z"
   },
   {
    "duration": 50,
    "start_time": "2022-10-03T21:30:17.267Z"
   },
   {
    "duration": 16,
    "start_time": "2022-10-03T21:30:17.318Z"
   },
   {
    "duration": 22,
    "start_time": "2022-10-03T21:30:17.336Z"
   },
   {
    "duration": 35,
    "start_time": "2022-10-03T21:30:17.360Z"
   },
   {
    "duration": 7,
    "start_time": "2022-10-03T21:30:17.397Z"
   },
   {
    "duration": 214,
    "start_time": "2022-10-03T21:30:17.406Z"
   },
   {
    "duration": 6,
    "start_time": "2022-10-03T21:30:17.621Z"
   },
   {
    "duration": 24,
    "start_time": "2022-10-03T21:30:17.629Z"
   },
   {
    "duration": 35,
    "start_time": "2022-10-03T21:30:17.654Z"
   },
   {
    "duration": 23,
    "start_time": "2022-10-03T21:30:17.690Z"
   },
   {
    "duration": 30,
    "start_time": "2022-10-03T21:30:17.714Z"
   },
   {
    "duration": 23,
    "start_time": "2022-10-03T21:30:17.746Z"
   },
   {
    "duration": 34,
    "start_time": "2022-10-03T21:30:17.771Z"
   },
   {
    "duration": 25,
    "start_time": "2022-10-03T21:30:17.807Z"
   },
   {
    "duration": 23,
    "start_time": "2022-10-03T21:30:17.834Z"
   },
   {
    "duration": 101,
    "start_time": "2022-10-03T21:30:17.859Z"
   },
   {
    "duration": 0,
    "start_time": "2022-10-03T21:30:17.962Z"
   },
   {
    "duration": 0,
    "start_time": "2022-10-03T21:30:17.963Z"
   },
   {
    "duration": 0,
    "start_time": "2022-10-03T21:30:17.964Z"
   },
   {
    "duration": 6,
    "start_time": "2022-10-03T21:36:07.464Z"
   },
   {
    "duration": 9,
    "start_time": "2022-10-03T21:36:12.257Z"
   },
   {
    "duration": 648,
    "start_time": "2022-10-03T21:36:34.954Z"
   },
   {
    "duration": 55,
    "start_time": "2022-10-03T21:36:35.604Z"
   },
   {
    "duration": 36,
    "start_time": "2022-10-03T21:36:35.660Z"
   },
   {
    "duration": 22,
    "start_time": "2022-10-03T21:36:35.698Z"
   },
   {
    "duration": 45,
    "start_time": "2022-10-03T21:36:35.722Z"
   },
   {
    "duration": 20,
    "start_time": "2022-10-03T21:36:35.768Z"
   },
   {
    "duration": 40,
    "start_time": "2022-10-03T21:36:35.789Z"
   },
   {
    "duration": 45,
    "start_time": "2022-10-03T21:36:35.831Z"
   },
   {
    "duration": 25,
    "start_time": "2022-10-03T21:36:35.878Z"
   },
   {
    "duration": 216,
    "start_time": "2022-10-03T21:36:35.905Z"
   },
   {
    "duration": 6,
    "start_time": "2022-10-03T21:36:36.123Z"
   },
   {
    "duration": 19,
    "start_time": "2022-10-03T21:36:36.131Z"
   },
   {
    "duration": 42,
    "start_time": "2022-10-03T21:36:36.152Z"
   },
   {
    "duration": 16,
    "start_time": "2022-10-03T21:36:36.196Z"
   },
   {
    "duration": 18,
    "start_time": "2022-10-03T21:36:36.214Z"
   },
   {
    "duration": 25,
    "start_time": "2022-10-03T21:36:36.233Z"
   },
   {
    "duration": 31,
    "start_time": "2022-10-03T21:36:36.260Z"
   },
   {
    "duration": 22,
    "start_time": "2022-10-03T21:36:36.294Z"
   },
   {
    "duration": 41,
    "start_time": "2022-10-03T21:36:36.318Z"
   },
   {
    "duration": 14,
    "start_time": "2022-10-03T21:36:36.361Z"
   },
   {
    "duration": 89,
    "start_time": "2022-10-03T21:36:36.377Z"
   },
   {
    "duration": 0,
    "start_time": "2022-10-03T21:36:36.469Z"
   },
   {
    "duration": 0,
    "start_time": "2022-10-03T21:36:36.471Z"
   },
   {
    "duration": 0,
    "start_time": "2022-10-03T21:36:36.472Z"
   },
   {
    "duration": 4,
    "start_time": "2022-10-03T21:38:35.619Z"
   },
   {
    "duration": 50,
    "start_time": "2022-10-03T21:43:45.642Z"
   },
   {
    "duration": 11,
    "start_time": "2022-10-03T21:43:57.768Z"
   },
   {
    "duration": 54,
    "start_time": "2022-10-03T21:44:13.968Z"
   },
   {
    "duration": 642,
    "start_time": "2022-10-03T21:45:39.206Z"
   },
   {
    "duration": 53,
    "start_time": "2022-10-03T21:45:41.112Z"
   },
   {
    "duration": 867,
    "start_time": "2022-10-03T21:45:56.145Z"
   },
   {
    "duration": 636,
    "start_time": "2022-10-03T21:46:46.644Z"
   },
   {
    "duration": 52,
    "start_time": "2022-10-03T21:46:47.282Z"
   },
   {
    "duration": 32,
    "start_time": "2022-10-03T21:46:47.335Z"
   },
   {
    "duration": 13,
    "start_time": "2022-10-03T21:46:47.370Z"
   },
   {
    "duration": 54,
    "start_time": "2022-10-03T21:46:47.385Z"
   },
   {
    "duration": 3,
    "start_time": "2022-10-03T21:46:47.441Z"
   },
   {
    "duration": 14,
    "start_time": "2022-10-03T21:46:47.445Z"
   },
   {
    "duration": 11,
    "start_time": "2022-10-03T21:46:47.461Z"
   },
   {
    "duration": 6,
    "start_time": "2022-10-03T21:46:47.474Z"
   },
   {
    "duration": 206,
    "start_time": "2022-10-03T21:46:47.483Z"
   },
   {
    "duration": 6,
    "start_time": "2022-10-03T21:46:47.691Z"
   },
   {
    "duration": 7,
    "start_time": "2022-10-03T21:46:47.698Z"
   },
   {
    "duration": 20,
    "start_time": "2022-10-03T21:46:47.721Z"
   },
   {
    "duration": 2,
    "start_time": "2022-10-03T21:46:47.743Z"
   },
   {
    "duration": 11,
    "start_time": "2022-10-03T21:46:47.747Z"
   },
   {
    "duration": 9,
    "start_time": "2022-10-03T21:46:47.759Z"
   },
   {
    "duration": 5,
    "start_time": "2022-10-03T21:46:47.770Z"
   },
   {
    "duration": 6,
    "start_time": "2022-10-03T21:46:47.777Z"
   },
   {
    "duration": 47,
    "start_time": "2022-10-03T21:46:47.784Z"
   },
   {
    "duration": 5,
    "start_time": "2022-10-03T21:46:47.832Z"
   },
   {
    "duration": 90,
    "start_time": "2022-10-03T21:46:47.839Z"
   },
   {
    "duration": 0,
    "start_time": "2022-10-03T21:46:47.931Z"
   },
   {
    "duration": 0,
    "start_time": "2022-10-03T21:46:47.932Z"
   },
   {
    "duration": 0,
    "start_time": "2022-10-03T21:46:47.933Z"
   },
   {
    "duration": 727,
    "start_time": "2022-10-03T21:47:18.496Z"
   },
   {
    "duration": 53,
    "start_time": "2022-10-03T21:47:19.225Z"
   },
   {
    "duration": 34,
    "start_time": "2022-10-03T21:47:19.280Z"
   },
   {
    "duration": 15,
    "start_time": "2022-10-03T21:47:19.316Z"
   },
   {
    "duration": 32,
    "start_time": "2022-10-03T21:47:19.333Z"
   },
   {
    "duration": 3,
    "start_time": "2022-10-03T21:47:19.367Z"
   },
   {
    "duration": 11,
    "start_time": "2022-10-03T21:47:19.371Z"
   },
   {
    "duration": 18,
    "start_time": "2022-10-03T21:47:19.383Z"
   },
   {
    "duration": 28,
    "start_time": "2022-10-03T21:47:19.403Z"
   },
   {
    "duration": 188,
    "start_time": "2022-10-03T21:47:19.434Z"
   },
   {
    "duration": 5,
    "start_time": "2022-10-03T21:47:19.624Z"
   },
   {
    "duration": 11,
    "start_time": "2022-10-03T21:47:19.631Z"
   },
   {
    "duration": 5,
    "start_time": "2022-10-03T21:47:19.644Z"
   },
   {
    "duration": 4,
    "start_time": "2022-10-03T21:47:19.651Z"
   },
   {
    "duration": 11,
    "start_time": "2022-10-03T21:47:19.657Z"
   },
   {
    "duration": 9,
    "start_time": "2022-10-03T21:47:19.670Z"
   },
   {
    "duration": 5,
    "start_time": "2022-10-03T21:47:19.681Z"
   },
   {
    "duration": 35,
    "start_time": "2022-10-03T21:47:19.687Z"
   },
   {
    "duration": 23,
    "start_time": "2022-10-03T21:47:19.723Z"
   },
   {
    "duration": 8,
    "start_time": "2022-10-03T21:47:19.747Z"
   },
   {
    "duration": 104,
    "start_time": "2022-10-03T21:47:19.757Z"
   },
   {
    "duration": 0,
    "start_time": "2022-10-03T21:47:19.863Z"
   },
   {
    "duration": 0,
    "start_time": "2022-10-03T21:47:19.864Z"
   },
   {
    "duration": 0,
    "start_time": "2022-10-03T21:47:19.865Z"
   },
   {
    "duration": 6,
    "start_time": "2022-10-03T21:49:02.527Z"
   },
   {
    "duration": 5,
    "start_time": "2022-10-03T21:49:08.356Z"
   },
   {
    "duration": 16,
    "start_time": "2022-10-03T21:49:36.068Z"
   },
   {
    "duration": 9,
    "start_time": "2022-10-03T21:49:39.193Z"
   },
   {
    "duration": 6,
    "start_time": "2022-10-03T21:49:51.374Z"
   },
   {
    "duration": 9,
    "start_time": "2022-10-03T21:49:55.191Z"
   },
   {
    "duration": 672,
    "start_time": "2022-10-03T21:50:12.109Z"
   },
   {
    "duration": 51,
    "start_time": "2022-10-03T21:50:12.783Z"
   },
   {
    "duration": 32,
    "start_time": "2022-10-03T21:50:12.836Z"
   },
   {
    "duration": 14,
    "start_time": "2022-10-03T21:50:12.870Z"
   },
   {
    "duration": 48,
    "start_time": "2022-10-03T21:50:12.885Z"
   },
   {
    "duration": 3,
    "start_time": "2022-10-03T21:50:12.935Z"
   },
   {
    "duration": 11,
    "start_time": "2022-10-03T21:50:12.940Z"
   },
   {
    "duration": 13,
    "start_time": "2022-10-03T21:50:12.952Z"
   },
   {
    "duration": 4,
    "start_time": "2022-10-03T21:50:12.967Z"
   },
   {
    "duration": 210,
    "start_time": "2022-10-03T21:50:12.973Z"
   },
   {
    "duration": 6,
    "start_time": "2022-10-03T21:50:13.184Z"
   },
   {
    "duration": 9,
    "start_time": "2022-10-03T21:50:13.191Z"
   },
   {
    "duration": 6,
    "start_time": "2022-10-03T21:50:13.201Z"
   },
   {
    "duration": 2,
    "start_time": "2022-10-03T21:50:13.221Z"
   },
   {
    "duration": 8,
    "start_time": "2022-10-03T21:50:13.225Z"
   },
   {
    "duration": 9,
    "start_time": "2022-10-03T21:50:13.234Z"
   },
   {
    "duration": 5,
    "start_time": "2022-10-03T21:50:13.245Z"
   },
   {
    "duration": 6,
    "start_time": "2022-10-03T21:50:13.252Z"
   },
   {
    "duration": 16,
    "start_time": "2022-10-03T21:50:13.259Z"
   },
   {
    "duration": 6,
    "start_time": "2022-10-03T21:50:13.277Z"
   },
   {
    "duration": 85,
    "start_time": "2022-10-03T21:50:13.321Z"
   },
   {
    "duration": 0,
    "start_time": "2022-10-03T21:50:13.408Z"
   },
   {
    "duration": 0,
    "start_time": "2022-10-03T21:50:13.410Z"
   },
   {
    "duration": 0,
    "start_time": "2022-10-03T21:50:13.421Z"
   },
   {
    "duration": 14,
    "start_time": "2022-10-03T21:52:32.853Z"
   },
   {
    "duration": 15,
    "start_time": "2022-10-03T21:52:50.563Z"
   },
   {
    "duration": 6,
    "start_time": "2022-10-03T21:54:18.726Z"
   },
   {
    "duration": 9,
    "start_time": "2022-10-03T21:54:21.029Z"
   },
   {
    "duration": 623,
    "start_time": "2022-10-03T21:54:33.557Z"
   },
   {
    "duration": 52,
    "start_time": "2022-10-03T21:54:34.182Z"
   },
   {
    "duration": 34,
    "start_time": "2022-10-03T21:54:34.236Z"
   },
   {
    "duration": 14,
    "start_time": "2022-10-03T21:54:34.272Z"
   },
   {
    "duration": 48,
    "start_time": "2022-10-03T21:54:34.287Z"
   },
   {
    "duration": 3,
    "start_time": "2022-10-03T21:54:34.337Z"
   },
   {
    "duration": 12,
    "start_time": "2022-10-03T21:54:34.342Z"
   },
   {
    "duration": 12,
    "start_time": "2022-10-03T21:54:34.355Z"
   },
   {
    "duration": 5,
    "start_time": "2022-10-03T21:54:34.368Z"
   },
   {
    "duration": 228,
    "start_time": "2022-10-03T21:54:34.375Z"
   },
   {
    "duration": 5,
    "start_time": "2022-10-03T21:54:34.604Z"
   },
   {
    "duration": 10,
    "start_time": "2022-10-03T21:54:34.610Z"
   },
   {
    "duration": 2,
    "start_time": "2022-10-03T21:54:34.622Z"
   },
   {
    "duration": 8,
    "start_time": "2022-10-03T21:54:34.625Z"
   },
   {
    "duration": 8,
    "start_time": "2022-10-03T21:54:34.635Z"
   },
   {
    "duration": 9,
    "start_time": "2022-10-03T21:54:34.644Z"
   },
   {
    "duration": 5,
    "start_time": "2022-10-03T21:54:34.655Z"
   },
   {
    "duration": 13,
    "start_time": "2022-10-03T21:54:34.662Z"
   },
   {
    "duration": 8,
    "start_time": "2022-10-03T21:54:34.677Z"
   },
   {
    "duration": 79,
    "start_time": "2022-10-03T21:54:34.686Z"
   },
   {
    "duration": 0,
    "start_time": "2022-10-03T21:54:34.767Z"
   },
   {
    "duration": 0,
    "start_time": "2022-10-03T21:54:34.768Z"
   },
   {
    "duration": 0,
    "start_time": "2022-10-03T21:54:34.770Z"
   },
   {
    "duration": 20,
    "start_time": "2022-10-03T21:55:22.772Z"
   },
   {
    "duration": 80,
    "start_time": "2022-10-03T21:56:47.591Z"
   },
   {
    "duration": 17,
    "start_time": "2022-10-03T21:56:52.327Z"
   },
   {
    "duration": 6,
    "start_time": "2022-10-03T21:58:17.158Z"
   },
   {
    "duration": 4,
    "start_time": "2022-10-03T21:58:34.993Z"
   },
   {
    "duration": 11,
    "start_time": "2022-10-03T21:58:52.382Z"
   },
   {
    "duration": 21,
    "start_time": "2022-10-03T22:01:23.253Z"
   },
   {
    "duration": 17,
    "start_time": "2022-10-03T22:05:28.696Z"
   },
   {
    "duration": 7,
    "start_time": "2022-10-03T22:05:33.037Z"
   },
   {
    "duration": 20,
    "start_time": "2022-10-03T22:05:38.489Z"
   },
   {
    "duration": 11,
    "start_time": "2022-10-03T22:06:12.249Z"
   },
   {
    "duration": 10,
    "start_time": "2022-10-03T22:06:25.885Z"
   },
   {
    "duration": 6,
    "start_time": "2022-10-03T22:06:44.364Z"
   },
   {
    "duration": 617,
    "start_time": "2022-10-03T22:07:54.943Z"
   },
   {
    "duration": 52,
    "start_time": "2022-10-03T22:07:55.562Z"
   },
   {
    "duration": 32,
    "start_time": "2022-10-03T22:07:55.616Z"
   },
   {
    "duration": 14,
    "start_time": "2022-10-03T22:07:55.650Z"
   },
   {
    "duration": 29,
    "start_time": "2022-10-03T22:07:55.665Z"
   },
   {
    "duration": 27,
    "start_time": "2022-10-03T22:07:55.695Z"
   },
   {
    "duration": 11,
    "start_time": "2022-10-03T22:07:55.723Z"
   },
   {
    "duration": 12,
    "start_time": "2022-10-03T22:07:55.736Z"
   },
   {
    "duration": 8,
    "start_time": "2022-10-03T22:07:55.750Z"
   },
   {
    "duration": 4,
    "start_time": "2022-10-03T22:07:55.760Z"
   },
   {
    "duration": 206,
    "start_time": "2022-10-03T22:07:55.766Z"
   },
   {
    "duration": 5,
    "start_time": "2022-10-03T22:07:55.973Z"
   },
   {
    "duration": 8,
    "start_time": "2022-10-03T22:07:55.980Z"
   },
   {
    "duration": 36,
    "start_time": "2022-10-03T22:07:55.990Z"
   },
   {
    "duration": 22,
    "start_time": "2022-10-03T22:07:56.028Z"
   },
   {
    "duration": 6,
    "start_time": "2022-10-03T22:07:56.052Z"
   },
   {
    "duration": 8,
    "start_time": "2022-10-03T22:07:56.060Z"
   },
   {
    "duration": 22,
    "start_time": "2022-10-03T22:07:56.069Z"
   },
   {
    "duration": 5,
    "start_time": "2022-10-03T22:07:56.093Z"
   },
   {
    "duration": 30,
    "start_time": "2022-10-03T22:07:56.100Z"
   },
   {
    "duration": 6,
    "start_time": "2022-10-03T22:07:56.132Z"
   },
   {
    "duration": 17,
    "start_time": "2022-10-03T22:07:56.139Z"
   },
   {
    "duration": 5,
    "start_time": "2022-10-03T22:07:56.158Z"
   },
   {
    "duration": 26,
    "start_time": "2022-10-03T22:07:56.165Z"
   },
   {
    "duration": 39,
    "start_time": "2022-10-03T22:07:56.193Z"
   },
   {
    "duration": 17,
    "start_time": "2022-10-03T22:07:56.234Z"
   },
   {
    "duration": 13,
    "start_time": "2022-10-03T22:08:37.434Z"
   },
   {
    "duration": 7,
    "start_time": "2022-10-03T22:10:51.665Z"
   },
   {
    "duration": 9,
    "start_time": "2022-10-03T22:11:23.072Z"
   },
   {
    "duration": 13,
    "start_time": "2022-10-03T22:11:33.643Z"
   },
   {
    "duration": 20,
    "start_time": "2022-10-03T22:15:31.493Z"
   },
   {
    "duration": 7,
    "start_time": "2022-10-03T22:25:33.943Z"
   },
   {
    "duration": 5,
    "start_time": "2022-10-03T22:32:30.309Z"
   },
   {
    "duration": 9,
    "start_time": "2022-10-03T22:32:46.739Z"
   },
   {
    "duration": 87,
    "start_time": "2022-10-03T22:34:53.815Z"
   },
   {
    "duration": 15,
    "start_time": "2022-10-03T22:35:07.285Z"
   },
   {
    "duration": 9,
    "start_time": "2022-10-03T22:37:11.135Z"
   },
   {
    "duration": 9,
    "start_time": "2022-10-03T22:37:27.562Z"
   },
   {
    "duration": 14,
    "start_time": "2022-10-03T22:37:46.758Z"
   },
   {
    "duration": 16,
    "start_time": "2022-10-03T22:38:03.800Z"
   },
   {
    "duration": 14,
    "start_time": "2022-10-03T22:38:20.085Z"
   },
   {
    "duration": 53,
    "start_time": "2022-10-04T11:47:24.330Z"
   },
   {
    "duration": 800,
    "start_time": "2022-10-04T11:47:30.346Z"
   },
   {
    "duration": 94,
    "start_time": "2022-10-04T11:47:31.148Z"
   },
   {
    "duration": 40,
    "start_time": "2022-10-04T11:47:31.244Z"
   },
   {
    "duration": 13,
    "start_time": "2022-10-04T11:47:31.286Z"
   },
   {
    "duration": 64,
    "start_time": "2022-10-04T11:47:31.300Z"
   },
   {
    "duration": 14,
    "start_time": "2022-10-04T11:47:31.366Z"
   },
   {
    "duration": 33,
    "start_time": "2022-10-04T11:47:31.381Z"
   },
   {
    "duration": 31,
    "start_time": "2022-10-04T11:47:31.416Z"
   },
   {
    "duration": 28,
    "start_time": "2022-10-04T11:47:31.449Z"
   },
   {
    "duration": 27,
    "start_time": "2022-10-04T11:47:31.481Z"
   },
   {
    "duration": 35,
    "start_time": "2022-10-04T11:47:31.510Z"
   },
   {
    "duration": 213,
    "start_time": "2022-10-04T11:47:31.547Z"
   },
   {
    "duration": 4,
    "start_time": "2022-10-04T11:47:31.762Z"
   },
   {
    "duration": 21,
    "start_time": "2022-10-04T11:47:31.768Z"
   },
   {
    "duration": 50,
    "start_time": "2022-10-04T11:47:31.790Z"
   },
   {
    "duration": 10,
    "start_time": "2022-10-04T11:47:31.842Z"
   },
   {
    "duration": 39,
    "start_time": "2022-10-04T11:47:31.853Z"
   },
   {
    "duration": 23,
    "start_time": "2022-10-04T11:47:31.894Z"
   },
   {
    "duration": 31,
    "start_time": "2022-10-04T11:47:31.918Z"
   },
   {
    "duration": 17,
    "start_time": "2022-10-04T11:47:31.951Z"
   },
   {
    "duration": 29,
    "start_time": "2022-10-04T11:47:31.969Z"
   },
   {
    "duration": 30,
    "start_time": "2022-10-04T11:47:32.000Z"
   },
   {
    "duration": 34,
    "start_time": "2022-10-04T11:47:32.031Z"
   },
   {
    "duration": 17,
    "start_time": "2022-10-04T11:47:32.066Z"
   },
   {
    "duration": 39,
    "start_time": "2022-10-04T11:47:32.085Z"
   },
   {
    "duration": 25,
    "start_time": "2022-10-04T11:47:32.125Z"
   },
   {
    "duration": 15,
    "start_time": "2022-10-04T11:47:32.152Z"
   },
   {
    "duration": 14,
    "start_time": "2022-10-04T11:47:32.170Z"
   },
   {
    "duration": 36,
    "start_time": "2022-10-04T11:47:32.185Z"
   },
   {
    "duration": 118,
    "start_time": "2022-10-04T11:47:32.223Z"
   },
   {
    "duration": 6,
    "start_time": "2022-10-04T11:47:42.438Z"
   },
   {
    "duration": 19,
    "start_time": "2022-10-04T11:47:58.658Z"
   },
   {
    "duration": 8,
    "start_time": "2022-10-04T11:48:08.331Z"
   },
   {
    "duration": 5,
    "start_time": "2022-10-04T11:48:42.513Z"
   },
   {
    "duration": 6,
    "start_time": "2022-10-04T11:48:53.498Z"
   },
   {
    "duration": 148,
    "start_time": "2022-10-04T11:49:21.268Z"
   },
   {
    "duration": 123,
    "start_time": "2022-10-04T11:49:34.441Z"
   },
   {
    "duration": 135,
    "start_time": "2022-10-04T11:49:41.611Z"
   },
   {
    "duration": 158,
    "start_time": "2022-10-04T11:50:58.445Z"
   },
   {
    "duration": 12,
    "start_time": "2022-10-04T11:51:12.698Z"
   },
   {
    "duration": 127,
    "start_time": "2022-10-04T11:51:26.949Z"
   },
   {
    "duration": 109,
    "start_time": "2022-10-04T11:51:36.905Z"
   },
   {
    "duration": 108,
    "start_time": "2022-10-04T11:52:15.862Z"
   },
   {
    "duration": 116,
    "start_time": "2022-10-04T11:52:38.636Z"
   },
   {
    "duration": 3,
    "start_time": "2022-10-04T12:00:20.276Z"
   },
   {
    "duration": 3,
    "start_time": "2022-10-04T12:00:32.266Z"
   },
   {
    "duration": 5,
    "start_time": "2022-10-04T12:00:47.849Z"
   },
   {
    "duration": 10,
    "start_time": "2022-10-04T12:01:53.982Z"
   },
   {
    "duration": 8,
    "start_time": "2022-10-04T12:03:29.426Z"
   },
   {
    "duration": 8,
    "start_time": "2022-10-04T12:04:21.183Z"
   },
   {
    "duration": 6,
    "start_time": "2022-10-04T12:05:21.015Z"
   },
   {
    "duration": 62,
    "start_time": "2022-10-04T12:06:18.691Z"
   },
   {
    "duration": 12,
    "start_time": "2022-10-04T12:06:25.779Z"
   },
   {
    "duration": 12,
    "start_time": "2022-10-04T12:06:58.407Z"
   },
   {
    "duration": 11,
    "start_time": "2022-10-04T12:07:11.278Z"
   },
   {
    "duration": 11,
    "start_time": "2022-10-04T12:07:24.191Z"
   },
   {
    "duration": 6,
    "start_time": "2022-10-04T12:23:10.958Z"
   },
   {
    "duration": 8,
    "start_time": "2022-10-04T12:23:23.494Z"
   },
   {
    "duration": 8,
    "start_time": "2022-10-04T12:27:10.645Z"
   },
   {
    "duration": 271,
    "start_time": "2022-10-04T12:27:26.495Z"
   },
   {
    "duration": 147,
    "start_time": "2022-10-04T12:30:38.133Z"
   },
   {
    "duration": 3,
    "start_time": "2022-10-04T12:30:50.881Z"
   },
   {
    "duration": 6,
    "start_time": "2022-10-04T12:31:59.072Z"
   },
   {
    "duration": 8,
    "start_time": "2022-10-04T12:42:24.917Z"
   },
   {
    "duration": 4,
    "start_time": "2022-10-04T12:43:08.753Z"
   },
   {
    "duration": 7,
    "start_time": "2022-10-04T12:43:20.316Z"
   },
   {
    "duration": 10,
    "start_time": "2022-10-04T12:43:34.892Z"
   },
   {
    "duration": 10,
    "start_time": "2022-10-04T12:44:07.875Z"
   },
   {
    "duration": 10,
    "start_time": "2022-10-04T12:44:13.145Z"
   },
   {
    "duration": 10,
    "start_time": "2022-10-04T12:44:19.431Z"
   },
   {
    "duration": 9,
    "start_time": "2022-10-04T12:44:27.900Z"
   },
   {
    "duration": 8,
    "start_time": "2022-10-04T12:44:46.229Z"
   },
   {
    "duration": 7,
    "start_time": "2022-10-04T12:44:57.562Z"
   },
   {
    "duration": 11,
    "start_time": "2022-10-04T12:45:02.679Z"
   },
   {
    "duration": 7,
    "start_time": "2022-10-04T12:46:06.975Z"
   },
   {
    "duration": 7,
    "start_time": "2022-10-04T12:49:28.112Z"
   },
   {
    "duration": 7,
    "start_time": "2022-10-04T12:49:37.342Z"
   },
   {
    "duration": 5,
    "start_time": "2022-10-04T12:49:50.331Z"
   },
   {
    "duration": 7,
    "start_time": "2022-10-04T12:50:04.566Z"
   },
   {
    "duration": 108,
    "start_time": "2022-10-04T12:50:23.866Z"
   },
   {
    "duration": 102,
    "start_time": "2022-10-04T12:50:46.028Z"
   },
   {
    "duration": 116,
    "start_time": "2022-10-04T12:50:51.703Z"
   },
   {
    "duration": 6,
    "start_time": "2022-10-04T12:52:59.627Z"
   },
   {
    "duration": 10,
    "start_time": "2022-10-04T12:53:03.721Z"
   },
   {
    "duration": 1268,
    "start_time": "2022-10-04T12:53:29.196Z"
   },
   {
    "duration": 9,
    "start_time": "2022-10-04T12:53:35.747Z"
   },
   {
    "duration": 8,
    "start_time": "2022-10-04T12:54:57.955Z"
   },
   {
    "duration": 9,
    "start_time": "2022-10-04T12:55:16.308Z"
   },
   {
    "duration": 8,
    "start_time": "2022-10-04T12:55:20.536Z"
   },
   {
    "duration": 2,
    "start_time": "2022-10-04T12:55:42.081Z"
   },
   {
    "duration": 2,
    "start_time": "2022-10-04T12:56:11.794Z"
   },
   {
    "duration": 9,
    "start_time": "2022-10-04T12:57:19.254Z"
   },
   {
    "duration": 28,
    "start_time": "2022-10-04T12:57:24.386Z"
   },
   {
    "duration": 9,
    "start_time": "2022-10-04T13:00:23.901Z"
   },
   {
    "duration": 61,
    "start_time": "2022-10-04T13:00:31.032Z"
   },
   {
    "duration": 6,
    "start_time": "2022-10-04T13:00:39.404Z"
   },
   {
    "duration": 628,
    "start_time": "2022-10-04T13:00:53.095Z"
   },
   {
    "duration": 54,
    "start_time": "2022-10-04T13:00:53.725Z"
   },
   {
    "duration": 35,
    "start_time": "2022-10-04T13:00:53.781Z"
   },
   {
    "duration": 24,
    "start_time": "2022-10-04T13:00:53.819Z"
   },
   {
    "duration": 54,
    "start_time": "2022-10-04T13:00:53.846Z"
   },
   {
    "duration": 3,
    "start_time": "2022-10-04T13:00:53.902Z"
   },
   {
    "duration": 41,
    "start_time": "2022-10-04T13:00:53.907Z"
   },
   {
    "duration": 23,
    "start_time": "2022-10-04T13:00:53.950Z"
   },
   {
    "duration": 28,
    "start_time": "2022-10-04T13:00:53.975Z"
   },
   {
    "duration": 14,
    "start_time": "2022-10-04T13:00:54.006Z"
   },
   {
    "duration": 22,
    "start_time": "2022-10-04T13:00:54.021Z"
   },
   {
    "duration": 216,
    "start_time": "2022-10-04T13:00:54.045Z"
   },
   {
    "duration": 5,
    "start_time": "2022-10-04T13:00:54.262Z"
   },
   {
    "duration": 25,
    "start_time": "2022-10-04T13:00:54.268Z"
   },
   {
    "duration": 32,
    "start_time": "2022-10-04T13:00:54.294Z"
   },
   {
    "duration": 10,
    "start_time": "2022-10-04T13:00:54.328Z"
   },
   {
    "duration": 25,
    "start_time": "2022-10-04T13:00:54.339Z"
   },
   {
    "duration": 29,
    "start_time": "2022-10-04T13:00:54.365Z"
   },
   {
    "duration": 39,
    "start_time": "2022-10-04T13:00:54.396Z"
   },
   {
    "duration": 13,
    "start_time": "2022-10-04T13:00:54.436Z"
   },
   {
    "duration": 33,
    "start_time": "2022-10-04T13:00:54.450Z"
   },
   {
    "duration": 37,
    "start_time": "2022-10-04T13:00:54.484Z"
   },
   {
    "duration": 24,
    "start_time": "2022-10-04T13:00:54.522Z"
   },
   {
    "duration": 16,
    "start_time": "2022-10-04T13:00:54.547Z"
   },
   {
    "duration": 23,
    "start_time": "2022-10-04T13:00:54.564Z"
   },
   {
    "duration": 28,
    "start_time": "2022-10-04T13:00:54.588Z"
   },
   {
    "duration": 28,
    "start_time": "2022-10-04T13:00:54.617Z"
   },
   {
    "duration": 13,
    "start_time": "2022-10-04T13:00:54.647Z"
   },
   {
    "duration": 24,
    "start_time": "2022-10-04T13:00:54.662Z"
   },
   {
    "duration": 18,
    "start_time": "2022-10-04T13:00:54.687Z"
   },
   {
    "duration": 168,
    "start_time": "2022-10-04T13:00:54.706Z"
   },
   {
    "duration": 2,
    "start_time": "2022-10-04T13:00:54.876Z"
   },
   {
    "duration": 26,
    "start_time": "2022-10-04T13:00:54.879Z"
   },
   {
    "duration": 8,
    "start_time": "2022-10-04T13:00:54.907Z"
   },
   {
    "duration": 13,
    "start_time": "2022-10-04T13:00:54.916Z"
   },
   {
    "duration": 15,
    "start_time": "2022-10-04T13:01:09.758Z"
   },
   {
    "duration": 10,
    "start_time": "2022-10-04T13:01:43.326Z"
   },
   {
    "duration": 7,
    "start_time": "2022-10-04T13:01:51.253Z"
   },
   {
    "duration": 3,
    "start_time": "2022-10-04T13:01:53.624Z"
   },
   {
    "duration": 7,
    "start_time": "2022-10-04T13:01:55.518Z"
   },
   {
    "duration": 3,
    "start_time": "2022-10-04T13:02:58.672Z"
   },
   {
    "duration": 6,
    "start_time": "2022-10-04T13:03:00.708Z"
   },
   {
    "duration": 111,
    "start_time": "2022-10-04T13:03:10.444Z"
   },
   {
    "duration": 14,
    "start_time": "2022-10-04T13:03:26.913Z"
   },
   {
    "duration": 7,
    "start_time": "2022-10-04T13:04:05.624Z"
   },
   {
    "duration": 7,
    "start_time": "2022-10-04T13:04:09.546Z"
   },
   {
    "duration": 9,
    "start_time": "2022-10-04T13:05:52.602Z"
   },
   {
    "duration": 3,
    "start_time": "2022-10-04T13:05:56.526Z"
   },
   {
    "duration": 21,
    "start_time": "2022-10-04T13:05:59.117Z"
   },
   {
    "duration": 17,
    "start_time": "2022-10-04T13:06:04.157Z"
   },
   {
    "duration": 138,
    "start_time": "2022-10-04T13:06:16.273Z"
   },
   {
    "duration": 24,
    "start_time": "2022-10-04T13:07:55.607Z"
   },
   {
    "duration": 3,
    "start_time": "2022-10-04T13:08:03.528Z"
   },
   {
    "duration": 15,
    "start_time": "2022-10-04T13:08:48.642Z"
   },
   {
    "duration": 17,
    "start_time": "2022-10-04T13:09:11.519Z"
   },
   {
    "duration": 16,
    "start_time": "2022-10-04T13:09:52.811Z"
   },
   {
    "duration": 137,
    "start_time": "2022-10-04T13:10:25.507Z"
   },
   {
    "duration": 144,
    "start_time": "2022-10-04T13:10:49.133Z"
   },
   {
    "duration": 17,
    "start_time": "2022-10-04T13:11:00.627Z"
   },
   {
    "duration": 113,
    "start_time": "2022-10-04T13:11:10.449Z"
   },
   {
    "duration": 159,
    "start_time": "2022-10-04T13:16:17.574Z"
   },
   {
    "duration": 143,
    "start_time": "2022-10-04T13:16:30.531Z"
   },
   {
    "duration": 78,
    "start_time": "2022-10-04T13:17:23.575Z"
   },
   {
    "duration": 57,
    "start_time": "2022-10-04T13:17:30.398Z"
   },
   {
    "duration": 127,
    "start_time": "2022-10-04T13:17:33.800Z"
   },
   {
    "duration": 131,
    "start_time": "2022-10-04T13:18:27.341Z"
   },
   {
    "duration": 41,
    "start_time": "2022-10-04T13:18:50.354Z"
   },
   {
    "duration": 161,
    "start_time": "2022-10-04T13:19:00.471Z"
   },
   {
    "duration": 16,
    "start_time": "2022-10-04T13:24:51.574Z"
   },
   {
    "duration": 31,
    "start_time": "2022-10-04T13:24:56.861Z"
   },
   {
    "duration": 14,
    "start_time": "2022-10-04T13:26:24.998Z"
   },
   {
    "duration": 22,
    "start_time": "2022-10-04T13:26:37.002Z"
   },
   {
    "duration": 43,
    "start_time": "2022-10-04T13:26:44.608Z"
   },
   {
    "duration": 353,
    "start_time": "2022-10-04T13:27:04.879Z"
   },
   {
    "duration": 536,
    "start_time": "2022-10-04T13:28:34.882Z"
   },
   {
    "duration": 410,
    "start_time": "2022-10-04T13:29:04.471Z"
   },
   {
    "duration": 376,
    "start_time": "2022-10-04T13:29:21.730Z"
   },
   {
    "duration": 167,
    "start_time": "2022-10-04T13:29:40.273Z"
   },
   {
    "duration": 370,
    "start_time": "2022-10-04T13:29:51.254Z"
   },
   {
    "duration": 14,
    "start_time": "2022-10-04T13:36:06.909Z"
   },
   {
    "duration": 8,
    "start_time": "2022-10-04T13:36:13.092Z"
   },
   {
    "duration": 719,
    "start_time": "2022-10-04T13:36:49.112Z"
   },
   {
    "duration": 1130,
    "start_time": "2022-10-04T13:37:21.195Z"
   },
   {
    "duration": 5,
    "start_time": "2022-10-04T13:40:16.604Z"
   },
   {
    "duration": 1003,
    "start_time": "2022-10-04T13:40:24.385Z"
   },
   {
    "duration": 989,
    "start_time": "2022-10-04T13:40:33.962Z"
   },
   {
    "duration": 5,
    "start_time": "2022-10-04T13:43:53.748Z"
   },
   {
    "duration": 10,
    "start_time": "2022-10-04T13:44:04.058Z"
   },
   {
    "duration": 123,
    "start_time": "2022-10-04T13:44:15.454Z"
   },
   {
    "duration": 120,
    "start_time": "2022-10-04T13:44:25.089Z"
   },
   {
    "duration": 250,
    "start_time": "2022-10-04T13:44:50.966Z"
   },
   {
    "duration": 15,
    "start_time": "2022-10-04T13:47:51.166Z"
   },
   {
    "duration": 18,
    "start_time": "2022-10-04T13:48:02.463Z"
   },
   {
    "duration": 12,
    "start_time": "2022-10-04T13:48:19.777Z"
   },
   {
    "duration": 13,
    "start_time": "2022-10-04T13:48:38.630Z"
   },
   {
    "duration": 123,
    "start_time": "2022-10-04T13:48:58.645Z"
   },
   {
    "duration": 133,
    "start_time": "2022-10-04T13:49:07.313Z"
   },
   {
    "duration": 819,
    "start_time": "2022-10-04T13:49:32.040Z"
   },
   {
    "duration": 42,
    "start_time": "2022-10-04T13:52:16.872Z"
   },
   {
    "duration": 156,
    "start_time": "2022-10-04T13:52:20.366Z"
   },
   {
    "duration": 715,
    "start_time": "2022-10-04T13:52:49.024Z"
   },
   {
    "duration": 58,
    "start_time": "2022-10-04T13:55:27.155Z"
   },
   {
    "duration": 94,
    "start_time": "2022-10-04T13:55:43.444Z"
   },
   {
    "duration": 869,
    "start_time": "2022-10-04T13:56:09.711Z"
   },
   {
    "duration": 17,
    "start_time": "2022-10-04T13:57:42.733Z"
   },
   {
    "duration": 880,
    "start_time": "2022-10-04T14:00:36.808Z"
   },
   {
    "duration": 350,
    "start_time": "2022-10-04T14:01:13.086Z"
   },
   {
    "duration": 644,
    "start_time": "2022-10-04T14:01:35.614Z"
   },
   {
    "duration": 709,
    "start_time": "2022-10-04T14:01:57.507Z"
   },
   {
    "duration": 131,
    "start_time": "2022-10-04T14:02:04.003Z"
   },
   {
    "duration": 141,
    "start_time": "2022-10-04T14:02:28.220Z"
   },
   {
    "duration": 804,
    "start_time": "2022-10-04T14:07:43.685Z"
   },
   {
    "duration": 1073,
    "start_time": "2022-10-04T14:08:49.307Z"
   },
   {
    "duration": 1064,
    "start_time": "2022-10-04T14:09:21.912Z"
   },
   {
    "duration": 1437,
    "start_time": "2022-10-04T14:12:19.733Z"
   },
   {
    "duration": 957,
    "start_time": "2022-10-04T14:13:50.708Z"
   },
   {
    "duration": 1420,
    "start_time": "2022-10-04T14:15:57.154Z"
   },
   {
    "duration": 218,
    "start_time": "2022-10-04T14:16:17.121Z"
   },
   {
    "duration": 234,
    "start_time": "2022-10-04T14:16:25.145Z"
   },
   {
    "duration": 51,
    "start_time": "2022-10-04T21:40:41.052Z"
   },
   {
    "duration": 1418,
    "start_time": "2022-10-04T21:41:18.170Z"
   },
   {
    "duration": 99,
    "start_time": "2022-10-04T21:41:19.590Z"
   },
   {
    "duration": 35,
    "start_time": "2022-10-04T21:41:19.691Z"
   },
   {
    "duration": 14,
    "start_time": "2022-10-04T21:41:19.727Z"
   },
   {
    "duration": 30,
    "start_time": "2022-10-04T21:41:19.743Z"
   },
   {
    "duration": 2,
    "start_time": "2022-10-04T21:41:19.775Z"
   },
   {
    "duration": 10,
    "start_time": "2022-10-04T21:41:19.779Z"
   },
   {
    "duration": 10,
    "start_time": "2022-10-04T21:41:19.791Z"
   },
   {
    "duration": 13,
    "start_time": "2022-10-04T21:41:19.803Z"
   },
   {
    "duration": 8,
    "start_time": "2022-10-04T21:41:19.818Z"
   },
   {
    "duration": 5,
    "start_time": "2022-10-04T21:41:19.854Z"
   },
   {
    "duration": 197,
    "start_time": "2022-10-04T21:41:19.861Z"
   },
   {
    "duration": 5,
    "start_time": "2022-10-04T21:41:20.060Z"
   },
   {
    "duration": 21,
    "start_time": "2022-10-04T21:41:20.068Z"
   },
   {
    "duration": 23,
    "start_time": "2022-10-04T21:41:20.091Z"
   },
   {
    "duration": 3,
    "start_time": "2022-10-04T21:41:20.117Z"
   },
   {
    "duration": 15,
    "start_time": "2022-10-04T21:41:20.121Z"
   },
   {
    "duration": 21,
    "start_time": "2022-10-04T21:41:20.138Z"
   },
   {
    "duration": 24,
    "start_time": "2022-10-04T21:41:20.161Z"
   },
   {
    "duration": 6,
    "start_time": "2022-10-04T21:41:20.187Z"
   },
   {
    "duration": 18,
    "start_time": "2022-10-04T21:41:20.195Z"
   },
   {
    "duration": 12,
    "start_time": "2022-10-04T21:41:20.214Z"
   },
   {
    "duration": 38,
    "start_time": "2022-10-04T21:41:20.227Z"
   },
   {
    "duration": 5,
    "start_time": "2022-10-04T21:41:20.267Z"
   },
   {
    "duration": 11,
    "start_time": "2022-10-04T21:41:20.273Z"
   },
   {
    "duration": 13,
    "start_time": "2022-10-04T21:41:20.286Z"
   },
   {
    "duration": 8,
    "start_time": "2022-10-04T21:41:20.301Z"
   },
   {
    "duration": 6,
    "start_time": "2022-10-04T21:41:20.310Z"
   },
   {
    "duration": 39,
    "start_time": "2022-10-04T21:41:20.318Z"
   },
   {
    "duration": 10,
    "start_time": "2022-10-04T21:41:20.359Z"
   },
   {
    "duration": 164,
    "start_time": "2022-10-04T21:41:20.371Z"
   },
   {
    "duration": 3,
    "start_time": "2022-10-04T21:41:20.536Z"
   },
   {
    "duration": 29,
    "start_time": "2022-10-04T21:41:20.540Z"
   },
   {
    "duration": 3,
    "start_time": "2022-10-04T21:41:20.572Z"
   },
   {
    "duration": 1136,
    "start_time": "2022-10-04T21:41:20.576Z"
   },
   {
    "duration": 43,
    "start_time": "2022-10-04T21:41:21.714Z"
   },
   {
    "duration": 432,
    "start_time": "2022-10-04T21:41:21.760Z"
   },
   {
    "duration": 938,
    "start_time": "2022-10-04T21:41:22.194Z"
   },
   {
    "duration": 1325,
    "start_time": "2022-10-04T21:43:00.554Z"
   },
   {
    "duration": 982,
    "start_time": "2022-10-04T21:43:05.728Z"
   },
   {
    "duration": 190,
    "start_time": "2022-10-04T21:43:35.749Z"
   },
   {
    "duration": 250,
    "start_time": "2022-10-04T21:44:32.824Z"
   },
   {
    "duration": 245,
    "start_time": "2022-10-04T21:45:08.258Z"
   },
   {
    "duration": 371,
    "start_time": "2022-10-04T21:45:14.852Z"
   },
   {
    "duration": 1085,
    "start_time": "2022-10-04T21:48:38.272Z"
   },
   {
    "duration": 979,
    "start_time": "2022-10-04T21:48:51.948Z"
   },
   {
    "duration": 147,
    "start_time": "2022-10-04T22:04:50.104Z"
   },
   {
    "duration": 22,
    "start_time": "2022-10-04T22:05:03.053Z"
   },
   {
    "duration": 193,
    "start_time": "2022-10-04T22:05:10.417Z"
   },
   {
    "duration": 350,
    "start_time": "2022-10-04T22:07:25.033Z"
   },
   {
    "duration": 200,
    "start_time": "2022-10-04T22:07:40.414Z"
   },
   {
    "duration": 214,
    "start_time": "2022-10-04T22:08:30.659Z"
   },
   {
    "duration": 6,
    "start_time": "2022-10-04T22:09:34.044Z"
   },
   {
    "duration": 211,
    "start_time": "2022-10-04T22:09:45.031Z"
   },
   {
    "duration": 210,
    "start_time": "2022-10-04T22:10:00.200Z"
   },
   {
    "duration": 223,
    "start_time": "2022-10-04T22:10:33.034Z"
   },
   {
    "duration": 6,
    "start_time": "2022-10-04T22:13:28.969Z"
   },
   {
    "duration": 186,
    "start_time": "2022-10-04T22:13:31.050Z"
   },
   {
    "duration": 256,
    "start_time": "2022-10-04T22:15:59.308Z"
   },
   {
    "duration": 334,
    "start_time": "2022-10-04T22:17:49.965Z"
   },
   {
    "duration": 10,
    "start_time": "2022-10-04T22:18:27.558Z"
   },
   {
    "duration": 4,
    "start_time": "2022-10-04T22:18:43.416Z"
   },
   {
    "duration": 18,
    "start_time": "2022-10-04T22:18:45.844Z"
   },
   {
    "duration": 18,
    "start_time": "2022-10-04T22:19:04.632Z"
   },
   {
    "duration": 17,
    "start_time": "2022-10-04T22:19:08.671Z"
   },
   {
    "duration": 46,
    "start_time": "2022-10-04T22:21:58.838Z"
   },
   {
    "duration": 43,
    "start_time": "2022-10-04T22:22:08.156Z"
   },
   {
    "duration": 28,
    "start_time": "2022-10-04T22:22:43.870Z"
   },
   {
    "duration": 49,
    "start_time": "2022-10-04T22:22:56.130Z"
   },
   {
    "duration": 167,
    "start_time": "2022-10-04T22:24:01.336Z"
   },
   {
    "duration": 29,
    "start_time": "2022-10-04T22:24:13.826Z"
   },
   {
    "duration": 3,
    "start_time": "2022-10-04T22:24:26.286Z"
   },
   {
    "duration": 164,
    "start_time": "2022-10-04T22:24:28.772Z"
   },
   {
    "duration": 31,
    "start_time": "2022-10-04T22:24:39.135Z"
   },
   {
    "duration": 172,
    "start_time": "2022-10-04T22:24:43.071Z"
   },
   {
    "duration": 3,
    "start_time": "2022-10-04T22:25:07.982Z"
   },
   {
    "duration": 189,
    "start_time": "2022-10-04T22:25:44.529Z"
   },
   {
    "duration": 174,
    "start_time": "2022-10-04T22:26:40.927Z"
   },
   {
    "duration": 185,
    "start_time": "2022-10-04T22:27:12.255Z"
   },
   {
    "duration": 180,
    "start_time": "2022-10-04T22:27:24.051Z"
   },
   {
    "duration": 232,
    "start_time": "2022-10-04T22:27:31.568Z"
   },
   {
    "duration": 173,
    "start_time": "2022-10-04T22:30:04.916Z"
   },
   {
    "duration": 182,
    "start_time": "2022-10-04T22:30:12.375Z"
   },
   {
    "duration": 199,
    "start_time": "2022-10-04T22:30:17.921Z"
   },
   {
    "duration": 208,
    "start_time": "2022-10-04T22:30:27.609Z"
   },
   {
    "duration": 336,
    "start_time": "2022-10-04T22:30:36.593Z"
   },
   {
    "duration": 198,
    "start_time": "2022-10-04T22:30:46.715Z"
   },
   {
    "duration": 179,
    "start_time": "2022-10-04T22:30:58.266Z"
   },
   {
    "duration": 202,
    "start_time": "2022-10-04T22:31:03.341Z"
   },
   {
    "duration": 207,
    "start_time": "2022-10-04T22:31:17.772Z"
   },
   {
    "duration": 201,
    "start_time": "2022-10-04T22:31:34.213Z"
   },
   {
    "duration": 199,
    "start_time": "2022-10-04T22:40:56.742Z"
   },
   {
    "duration": 272,
    "start_time": "2022-10-04T22:41:11.545Z"
   },
   {
    "duration": 194,
    "start_time": "2022-10-04T22:41:19.660Z"
   },
   {
    "duration": 21,
    "start_time": "2022-10-04T22:45:40.618Z"
   },
   {
    "duration": 124,
    "start_time": "2022-10-04T22:47:09.613Z"
   },
   {
    "duration": 153,
    "start_time": "2022-10-04T22:47:22.311Z"
   },
   {
    "duration": 137,
    "start_time": "2022-10-04T22:47:31.090Z"
   },
   {
    "duration": 297,
    "start_time": "2022-10-04T22:47:36.434Z"
   },
   {
    "duration": 176,
    "start_time": "2022-10-04T22:47:47.303Z"
   },
   {
    "duration": 189,
    "start_time": "2022-10-04T22:47:53.239Z"
   },
   {
    "duration": 162,
    "start_time": "2022-10-04T22:49:06.892Z"
   },
   {
    "duration": 750,
    "start_time": "2022-10-04T22:51:06.229Z"
   },
   {
    "duration": 9,
    "start_time": "2022-10-04T22:51:20.256Z"
   },
   {
    "duration": 786,
    "start_time": "2022-10-04T22:51:45.302Z"
   },
   {
    "duration": 6,
    "start_time": "2022-10-04T22:51:51.981Z"
   },
   {
    "duration": 10,
    "start_time": "2022-10-04T22:52:11.997Z"
   },
   {
    "duration": 6,
    "start_time": "2022-10-04T22:52:34.183Z"
   },
   {
    "duration": 5,
    "start_time": "2022-10-04T22:52:49.675Z"
   },
   {
    "duration": 5,
    "start_time": "2022-10-04T22:52:58.329Z"
   },
   {
    "duration": 8,
    "start_time": "2022-10-04T22:53:01.589Z"
   },
   {
    "duration": 5,
    "start_time": "2022-10-04T22:53:03.820Z"
   },
   {
    "duration": 13,
    "start_time": "2022-10-04T22:53:34.573Z"
   },
   {
    "duration": 11,
    "start_time": "2022-10-04T22:53:37.850Z"
   },
   {
    "duration": 11,
    "start_time": "2022-10-04T22:53:56.281Z"
   },
   {
    "duration": 150,
    "start_time": "2022-10-04T22:59:24.471Z"
   },
   {
    "duration": 152,
    "start_time": "2022-10-04T22:59:27.085Z"
   },
   {
    "duration": 139,
    "start_time": "2022-10-04T22:59:36.947Z"
   },
   {
    "duration": 162,
    "start_time": "2022-10-04T22:59:41.350Z"
   },
   {
    "duration": 43,
    "start_time": "2022-10-05T10:16:49.740Z"
   },
   {
    "duration": 1193,
    "start_time": "2022-10-05T10:16:56.009Z"
   },
   {
    "duration": 92,
    "start_time": "2022-10-05T10:16:57.204Z"
   },
   {
    "duration": 34,
    "start_time": "2022-10-05T10:16:57.298Z"
   },
   {
    "duration": 14,
    "start_time": "2022-10-05T10:16:57.334Z"
   },
   {
    "duration": 53,
    "start_time": "2022-10-05T10:16:57.350Z"
   },
   {
    "duration": 3,
    "start_time": "2022-10-05T10:16:57.405Z"
   },
   {
    "duration": 13,
    "start_time": "2022-10-05T10:16:57.409Z"
   },
   {
    "duration": 12,
    "start_time": "2022-10-05T10:16:57.423Z"
   },
   {
    "duration": 15,
    "start_time": "2022-10-05T10:16:57.437Z"
   },
   {
    "duration": 8,
    "start_time": "2022-10-05T10:16:57.453Z"
   },
   {
    "duration": 5,
    "start_time": "2022-10-05T10:16:57.462Z"
   },
   {
    "duration": 188,
    "start_time": "2022-10-05T10:16:57.468Z"
   },
   {
    "duration": 5,
    "start_time": "2022-10-05T10:16:57.658Z"
   },
   {
    "duration": 5,
    "start_time": "2022-10-05T10:16:57.665Z"
   },
   {
    "duration": 34,
    "start_time": "2022-10-05T10:16:57.672Z"
   },
   {
    "duration": 2,
    "start_time": "2022-10-05T10:16:57.708Z"
   },
   {
    "duration": 11,
    "start_time": "2022-10-05T10:16:57.712Z"
   },
   {
    "duration": 7,
    "start_time": "2022-10-05T10:16:57.725Z"
   },
   {
    "duration": 19,
    "start_time": "2022-10-05T10:16:57.734Z"
   },
   {
    "duration": 10,
    "start_time": "2022-10-05T10:16:57.754Z"
   },
   {
    "duration": 15,
    "start_time": "2022-10-05T10:16:57.765Z"
   },
   {
    "duration": 5,
    "start_time": "2022-10-05T10:16:57.801Z"
   },
   {
    "duration": 16,
    "start_time": "2022-10-05T10:16:57.808Z"
   },
   {
    "duration": 6,
    "start_time": "2022-10-05T10:16:57.826Z"
   },
   {
    "duration": 8,
    "start_time": "2022-10-05T10:16:57.833Z"
   },
   {
    "duration": 20,
    "start_time": "2022-10-05T10:16:57.843Z"
   },
   {
    "duration": 7,
    "start_time": "2022-10-05T10:16:57.865Z"
   },
   {
    "duration": 27,
    "start_time": "2022-10-05T10:16:57.873Z"
   },
   {
    "duration": 14,
    "start_time": "2022-10-05T10:16:57.902Z"
   },
   {
    "duration": 10,
    "start_time": "2022-10-05T10:16:57.918Z"
   },
   {
    "duration": 144,
    "start_time": "2022-10-05T10:16:57.929Z"
   },
   {
    "duration": 2,
    "start_time": "2022-10-05T10:16:58.075Z"
   },
   {
    "duration": 31,
    "start_time": "2022-10-05T10:16:58.079Z"
   },
   {
    "duration": 2,
    "start_time": "2022-10-05T10:16:58.112Z"
   },
   {
    "duration": 857,
    "start_time": "2022-10-05T10:16:58.116Z"
   },
   {
    "duration": 5,
    "start_time": "2022-10-05T10:16:58.975Z"
   },
   {
    "duration": 193,
    "start_time": "2022-10-05T10:16:58.982Z"
   },
   {
    "duration": 3,
    "start_time": "2022-10-05T10:16:59.176Z"
   },
   {
    "duration": 191,
    "start_time": "2022-10-05T10:16:59.180Z"
   },
   {
    "duration": 212,
    "start_time": "2022-10-05T10:16:59.373Z"
   },
   {
    "duration": 123,
    "start_time": "2022-10-05T10:16:59.588Z"
   },
   {
    "duration": 10,
    "start_time": "2022-10-05T10:16:59.712Z"
   },
   {
    "duration": 9,
    "start_time": "2022-10-05T10:16:59.723Z"
   },
   {
    "duration": 154,
    "start_time": "2022-10-05T10:16:59.734Z"
   },
   {
    "duration": 23,
    "start_time": "2022-10-05T10:20:09.211Z"
   },
   {
    "duration": 7,
    "start_time": "2022-10-05T10:20:18.998Z"
   },
   {
    "duration": 122,
    "start_time": "2022-10-05T10:21:39.119Z"
   },
   {
    "duration": 253,
    "start_time": "2022-10-05T10:21:48.946Z"
   },
   {
    "duration": 267,
    "start_time": "2022-10-05T10:22:11.640Z"
   },
   {
    "duration": 230,
    "start_time": "2022-10-05T10:22:27.845Z"
   },
   {
    "duration": 246,
    "start_time": "2022-10-05T10:23:49.019Z"
   },
   {
    "duration": 305,
    "start_time": "2022-10-05T10:24:04.991Z"
   },
   {
    "duration": 12,
    "start_time": "2022-10-05T10:31:24.090Z"
   },
   {
    "duration": 135,
    "start_time": "2022-10-05T10:32:13.074Z"
   },
   {
    "duration": 144,
    "start_time": "2022-10-05T10:32:57.205Z"
   },
   {
    "duration": 124,
    "start_time": "2022-10-05T10:33:11.533Z"
   },
   {
    "duration": 133,
    "start_time": "2022-10-05T10:33:17.843Z"
   },
   {
    "duration": 117,
    "start_time": "2022-10-05T10:33:31.499Z"
   },
   {
    "duration": 117,
    "start_time": "2022-10-05T10:34:20.625Z"
   },
   {
    "duration": 10,
    "start_time": "2022-10-05T10:34:48.432Z"
   },
   {
    "duration": 11,
    "start_time": "2022-10-05T10:35:02.283Z"
   },
   {
    "duration": 22,
    "start_time": "2022-10-05T10:36:56.765Z"
   },
   {
    "duration": 24,
    "start_time": "2022-10-05T10:37:00.947Z"
   },
   {
    "duration": 14,
    "start_time": "2022-10-05T10:37:08.385Z"
   },
   {
    "duration": 10,
    "start_time": "2022-10-05T10:37:25.658Z"
   },
   {
    "duration": 10,
    "start_time": "2022-10-05T10:37:27.780Z"
   },
   {
    "duration": 9,
    "start_time": "2022-10-05T10:37:36.676Z"
   },
   {
    "duration": 13,
    "start_time": "2022-10-05T10:37:54.478Z"
   },
   {
    "duration": 10,
    "start_time": "2022-10-05T10:37:56.797Z"
   },
   {
    "duration": 12,
    "start_time": "2022-10-05T10:40:46.813Z"
   },
   {
    "duration": 112,
    "start_time": "2022-10-05T10:51:24.167Z"
   },
   {
    "duration": 14,
    "start_time": "2022-10-05T10:51:41.418Z"
   },
   {
    "duration": 13,
    "start_time": "2022-10-05T10:51:56.178Z"
   },
   {
    "duration": 13,
    "start_time": "2022-10-05T10:52:09.989Z"
   },
   {
    "duration": 13,
    "start_time": "2022-10-05T10:53:03.956Z"
   },
   {
    "duration": 120,
    "start_time": "2022-10-05T10:53:44.599Z"
   },
   {
    "duration": 153,
    "start_time": "2022-10-05T10:53:53.760Z"
   },
   {
    "duration": 174,
    "start_time": "2022-10-05T10:53:57.818Z"
   },
   {
    "duration": 147,
    "start_time": "2022-10-05T10:54:17.842Z"
   },
   {
    "duration": 223,
    "start_time": "2022-10-05T10:54:23.789Z"
   },
   {
    "duration": 170,
    "start_time": "2022-10-05T10:54:50.306Z"
   },
   {
    "duration": 173,
    "start_time": "2022-10-05T10:54:55.334Z"
   },
   {
    "duration": 178,
    "start_time": "2022-10-05T10:55:11.922Z"
   },
   {
    "duration": 178,
    "start_time": "2022-10-05T10:55:20.138Z"
   },
   {
    "duration": 185,
    "start_time": "2022-10-05T10:55:39.410Z"
   },
   {
    "duration": 85,
    "start_time": "2022-10-05T10:58:15.550Z"
   },
   {
    "duration": 107,
    "start_time": "2022-10-05T10:58:32.479Z"
   },
   {
    "duration": 212,
    "start_time": "2022-10-05T11:01:01.223Z"
   },
   {
    "duration": 335,
    "start_time": "2022-10-05T11:01:13.160Z"
   },
   {
    "duration": 223,
    "start_time": "2022-10-05T11:01:31.816Z"
   },
   {
    "duration": 14,
    "start_time": "2022-10-05T11:18:16.969Z"
   },
   {
    "duration": 15,
    "start_time": "2022-10-05T11:18:27.659Z"
   },
   {
    "duration": 19,
    "start_time": "2022-10-05T11:18:53.996Z"
   },
   {
    "duration": 13,
    "start_time": "2022-10-05T11:19:07.856Z"
   },
   {
    "duration": 16,
    "start_time": "2022-10-05T11:19:17.522Z"
   },
   {
    "duration": 115,
    "start_time": "2022-10-05T11:19:26.159Z"
   },
   {
    "duration": 214,
    "start_time": "2022-10-05T11:19:30.921Z"
   },
   {
    "duration": 13,
    "start_time": "2022-10-05T11:19:35.377Z"
   },
   {
    "duration": 14,
    "start_time": "2022-10-05T11:19:45.264Z"
   },
   {
    "duration": 22,
    "start_time": "2022-10-05T11:19:57.136Z"
   },
   {
    "duration": 15,
    "start_time": "2022-10-05T11:20:06.758Z"
   },
   {
    "duration": 14,
    "start_time": "2022-10-05T11:25:50.910Z"
   },
   {
    "duration": 15,
    "start_time": "2022-10-05T11:26:04.198Z"
   },
   {
    "duration": 20,
    "start_time": "2022-10-05T11:26:37.048Z"
   },
   {
    "duration": 81,
    "start_time": "2022-10-05T11:26:47.905Z"
   },
   {
    "duration": 14,
    "start_time": "2022-10-05T11:26:53.508Z"
   },
   {
    "duration": 21,
    "start_time": "2022-10-05T11:27:08.667Z"
   },
   {
    "duration": 14,
    "start_time": "2022-10-05T11:29:17.350Z"
   },
   {
    "duration": 14,
    "start_time": "2022-10-05T11:29:36.582Z"
   },
   {
    "duration": 126,
    "start_time": "2022-10-05T11:31:23.623Z"
   },
   {
    "duration": 255,
    "start_time": "2022-10-05T11:31:31.944Z"
   },
   {
    "duration": 273,
    "start_time": "2022-10-05T11:31:44.549Z"
   },
   {
    "duration": 275,
    "start_time": "2022-10-05T11:32:11.637Z"
   },
   {
    "duration": 265,
    "start_time": "2022-10-05T11:32:28.396Z"
   },
   {
    "duration": 9,
    "start_time": "2022-10-05T11:35:04.282Z"
   },
   {
    "duration": 14,
    "start_time": "2022-10-05T11:35:19.213Z"
   },
   {
    "duration": 12,
    "start_time": "2022-10-05T11:35:33.539Z"
   },
   {
    "duration": 17,
    "start_time": "2022-10-05T11:35:43.243Z"
   },
   {
    "duration": 241,
    "start_time": "2022-10-05T11:36:22.138Z"
   },
   {
    "duration": 307,
    "start_time": "2022-10-05T11:37:06.282Z"
   },
   {
    "duration": 185,
    "start_time": "2022-10-05T11:38:50.383Z"
   },
   {
    "duration": 205,
    "start_time": "2022-10-05T11:39:09.299Z"
   },
   {
    "duration": 12,
    "start_time": "2022-10-05T11:43:38.977Z"
   },
   {
    "duration": 131,
    "start_time": "2022-10-05T11:43:52.839Z"
   },
   {
    "duration": 154,
    "start_time": "2022-10-05T11:44:04.820Z"
   },
   {
    "duration": 157,
    "start_time": "2022-10-05T11:44:16.932Z"
   },
   {
    "duration": 17,
    "start_time": "2022-10-05T11:50:31.640Z"
   },
   {
    "duration": 12,
    "start_time": "2022-10-05T11:50:40.465Z"
   },
   {
    "duration": 17,
    "start_time": "2022-10-05T11:50:48.187Z"
   },
   {
    "duration": 183,
    "start_time": "2022-10-05T11:51:51.357Z"
   },
   {
    "duration": 152,
    "start_time": "2022-10-05T11:51:57.759Z"
   },
   {
    "duration": 13,
    "start_time": "2022-10-05T12:22:28.050Z"
   },
   {
    "duration": 14,
    "start_time": "2022-10-05T12:25:58.293Z"
   },
   {
    "duration": 14,
    "start_time": "2022-10-05T12:28:18.580Z"
   },
   {
    "duration": 19,
    "start_time": "2022-10-05T12:28:23.896Z"
   },
   {
    "duration": 48,
    "start_time": "2022-10-05T20:31:44.779Z"
   },
   {
    "duration": 1436,
    "start_time": "2022-10-05T20:31:52.139Z"
   },
   {
    "duration": 95,
    "start_time": "2022-10-05T20:31:53.577Z"
   },
   {
    "duration": 37,
    "start_time": "2022-10-05T20:31:53.674Z"
   },
   {
    "duration": 13,
    "start_time": "2022-10-05T20:31:53.713Z"
   },
   {
    "duration": 30,
    "start_time": "2022-10-05T20:31:53.728Z"
   },
   {
    "duration": 3,
    "start_time": "2022-10-05T20:31:53.760Z"
   },
   {
    "duration": 12,
    "start_time": "2022-10-05T20:31:53.765Z"
   },
   {
    "duration": 17,
    "start_time": "2022-10-05T20:31:53.779Z"
   },
   {
    "duration": 35,
    "start_time": "2022-10-05T20:31:53.797Z"
   },
   {
    "duration": 9,
    "start_time": "2022-10-05T20:31:53.836Z"
   },
   {
    "duration": 14,
    "start_time": "2022-10-05T20:31:53.847Z"
   },
   {
    "duration": 253,
    "start_time": "2022-10-05T20:31:53.863Z"
   },
   {
    "duration": 6,
    "start_time": "2022-10-05T20:31:54.121Z"
   },
   {
    "duration": 15,
    "start_time": "2022-10-05T20:31:54.129Z"
   },
   {
    "duration": 27,
    "start_time": "2022-10-05T20:31:54.146Z"
   },
   {
    "duration": 3,
    "start_time": "2022-10-05T20:31:54.175Z"
   },
   {
    "duration": 10,
    "start_time": "2022-10-05T20:31:54.180Z"
   },
   {
    "duration": 31,
    "start_time": "2022-10-05T20:31:54.192Z"
   },
   {
    "duration": 24,
    "start_time": "2022-10-05T20:31:54.224Z"
   },
   {
    "duration": 5,
    "start_time": "2022-10-05T20:31:54.249Z"
   },
   {
    "duration": 17,
    "start_time": "2022-10-05T20:31:54.256Z"
   },
   {
    "duration": 5,
    "start_time": "2022-10-05T20:31:54.275Z"
   },
   {
    "duration": 45,
    "start_time": "2022-10-05T20:31:54.282Z"
   },
   {
    "duration": 7,
    "start_time": "2022-10-05T20:31:54.329Z"
   },
   {
    "duration": 9,
    "start_time": "2022-10-05T20:31:54.338Z"
   },
   {
    "duration": 18,
    "start_time": "2022-10-05T20:31:54.349Z"
   },
   {
    "duration": 8,
    "start_time": "2022-10-05T20:31:54.368Z"
   },
   {
    "duration": 7,
    "start_time": "2022-10-05T20:31:54.381Z"
   },
   {
    "duration": 37,
    "start_time": "2022-10-05T20:31:54.390Z"
   },
   {
    "duration": 13,
    "start_time": "2022-10-05T20:31:54.429Z"
   },
   {
    "duration": 178,
    "start_time": "2022-10-05T20:31:54.444Z"
   },
   {
    "duration": 292,
    "start_time": "2022-10-05T20:31:54.624Z"
   },
   {
    "duration": 2,
    "start_time": "2022-10-05T20:31:54.920Z"
   },
   {
    "duration": 1051,
    "start_time": "2022-10-05T20:31:54.924Z"
   },
   {
    "duration": 7,
    "start_time": "2022-10-05T20:31:55.976Z"
   },
   {
    "duration": 296,
    "start_time": "2022-10-05T20:31:55.985Z"
   },
   {
    "duration": 3,
    "start_time": "2022-10-05T20:31:56.282Z"
   },
   {
    "duration": 242,
    "start_time": "2022-10-05T20:31:56.287Z"
   },
   {
    "duration": 150,
    "start_time": "2022-10-05T20:31:56.531Z"
   },
   {
    "duration": 152,
    "start_time": "2022-10-05T20:31:56.683Z"
   },
   {
    "duration": 10,
    "start_time": "2022-10-05T20:31:56.837Z"
   },
   {
    "duration": 21,
    "start_time": "2022-10-05T20:31:56.850Z"
   },
   {
    "duration": 191,
    "start_time": "2022-10-05T20:31:56.873Z"
   },
   {
    "duration": 12,
    "start_time": "2022-10-05T20:31:57.066Z"
   },
   {
    "duration": 175,
    "start_time": "2022-10-05T20:31:57.080Z"
   },
   {
    "duration": 13,
    "start_time": "2022-10-05T20:31:57.258Z"
   },
   {
    "duration": 13,
    "start_time": "2022-10-05T20:31:57.273Z"
   },
   {
    "duration": 37,
    "start_time": "2022-10-05T20:31:57.288Z"
   },
   {
    "duration": 11,
    "start_time": "2022-10-05T20:31:57.326Z"
   },
   {
    "duration": 10,
    "start_time": "2022-10-05T20:31:57.339Z"
   },
   {
    "duration": 28,
    "start_time": "2022-10-05T20:31:57.351Z"
   },
   {
    "duration": 245,
    "start_time": "2022-10-05T20:31:57.382Z"
   },
   {
    "duration": 223,
    "start_time": "2022-10-05T20:31:57.629Z"
   },
   {
    "duration": 16,
    "start_time": "2022-10-05T20:31:57.854Z"
   },
   {
    "duration": 316,
    "start_time": "2022-10-05T20:31:57.871Z"
   },
   {
    "duration": 19,
    "start_time": "2022-10-05T20:31:58.189Z"
   },
   {
    "duration": 186,
    "start_time": "2022-10-05T20:31:58.221Z"
   },
   {
    "duration": 23,
    "start_time": "2022-10-05T20:31:58.409Z"
   },
   {
    "duration": 12,
    "start_time": "2022-10-05T20:31:58.434Z"
   },
   {
    "duration": 281,
    "start_time": "2022-10-05T20:31:58.448Z"
   },
   {
    "duration": 21,
    "start_time": "2022-10-05T20:31:58.731Z"
   },
   {
    "duration": 13,
    "start_time": "2022-10-05T20:31:58.754Z"
   },
   {
    "duration": 284,
    "start_time": "2022-10-05T20:31:58.768Z"
   },
   {
    "duration": 27,
    "start_time": "2022-10-05T20:31:59.054Z"
   },
   {
    "duration": 7,
    "start_time": "2022-10-05T20:31:59.084Z"
   },
   {
    "duration": 7,
    "start_time": "2022-10-05T20:38:26.504Z"
   },
   {
    "duration": 111,
    "start_time": "2022-10-05T20:38:38.216Z"
   },
   {
    "duration": 7,
    "start_time": "2022-10-05T20:38:42.500Z"
   },
   {
    "duration": 5,
    "start_time": "2022-10-05T20:40:08.524Z"
   },
   {
    "duration": 25,
    "start_time": "2022-10-05T20:44:41.640Z"
   },
   {
    "duration": 21,
    "start_time": "2022-10-05T20:45:04.631Z"
   },
   {
    "duration": 14,
    "start_time": "2022-10-05T20:45:19.271Z"
   },
   {
    "duration": 11,
    "start_time": "2022-10-05T20:45:49.094Z"
   },
   {
    "duration": 14,
    "start_time": "2022-10-05T20:45:59.503Z"
   },
   {
    "duration": 6,
    "start_time": "2022-10-05T20:58:16.324Z"
   },
   {
    "duration": 25,
    "start_time": "2022-10-05T20:58:24.880Z"
   },
   {
    "duration": 798,
    "start_time": "2022-10-05T20:58:47.057Z"
   },
   {
    "duration": 9,
    "start_time": "2022-10-05T20:58:55.648Z"
   },
   {
    "duration": 1176,
    "start_time": "2022-10-05T20:59:16.563Z"
   },
   {
    "duration": 51,
    "start_time": "2022-10-05T20:59:17.741Z"
   },
   {
    "duration": 35,
    "start_time": "2022-10-05T20:59:17.793Z"
   },
   {
    "duration": 20,
    "start_time": "2022-10-05T20:59:17.830Z"
   },
   {
    "duration": 49,
    "start_time": "2022-10-05T20:59:17.852Z"
   },
   {
    "duration": 4,
    "start_time": "2022-10-05T20:59:17.902Z"
   },
   {
    "duration": 24,
    "start_time": "2022-10-05T20:59:17.907Z"
   },
   {
    "duration": 14,
    "start_time": "2022-10-05T20:59:17.933Z"
   },
   {
    "duration": 13,
    "start_time": "2022-10-05T20:59:17.949Z"
   },
   {
    "duration": 9,
    "start_time": "2022-10-05T20:59:17.965Z"
   },
   {
    "duration": 9,
    "start_time": "2022-10-05T20:59:17.975Z"
   },
   {
    "duration": 214,
    "start_time": "2022-10-05T20:59:17.985Z"
   },
   {
    "duration": 6,
    "start_time": "2022-10-05T20:59:18.201Z"
   },
   {
    "duration": 15,
    "start_time": "2022-10-05T20:59:18.208Z"
   },
   {
    "duration": 23,
    "start_time": "2022-10-05T20:59:18.224Z"
   },
   {
    "duration": 6,
    "start_time": "2022-10-05T20:59:18.249Z"
   },
   {
    "duration": 14,
    "start_time": "2022-10-05T20:59:18.257Z"
   },
   {
    "duration": 48,
    "start_time": "2022-10-05T20:59:18.273Z"
   },
   {
    "duration": 8,
    "start_time": "2022-10-05T20:59:18.323Z"
   },
   {
    "duration": 15,
    "start_time": "2022-10-05T20:59:18.333Z"
   },
   {
    "duration": 5,
    "start_time": "2022-10-05T20:59:18.350Z"
   },
   {
    "duration": 15,
    "start_time": "2022-10-05T20:59:18.357Z"
   },
   {
    "duration": 7,
    "start_time": "2022-10-05T20:59:18.374Z"
   },
   {
    "duration": 41,
    "start_time": "2022-10-05T20:59:18.383Z"
   },
   {
    "duration": 14,
    "start_time": "2022-10-05T20:59:18.426Z"
   },
   {
    "duration": 9,
    "start_time": "2022-10-05T20:59:18.441Z"
   },
   {
    "duration": 7,
    "start_time": "2022-10-05T20:59:18.452Z"
   },
   {
    "duration": 10,
    "start_time": "2022-10-05T20:59:18.463Z"
   },
   {
    "duration": 6,
    "start_time": "2022-10-05T20:59:18.475Z"
   },
   {
    "duration": 192,
    "start_time": "2022-10-05T20:59:18.483Z"
   },
   {
    "duration": 10,
    "start_time": "2022-10-05T20:59:18.677Z"
   },
   {
    "duration": 300,
    "start_time": "2022-10-05T20:59:18.689Z"
   },
   {
    "duration": 3,
    "start_time": "2022-10-05T20:59:18.991Z"
   },
   {
    "duration": 1075,
    "start_time": "2022-10-05T20:59:18.996Z"
   },
   {
    "duration": 7,
    "start_time": "2022-10-05T20:59:20.073Z"
   },
   {
    "duration": 258,
    "start_time": "2022-10-05T20:59:20.083Z"
   },
   {
    "duration": 2,
    "start_time": "2022-10-05T20:59:20.343Z"
   },
   {
    "duration": 294,
    "start_time": "2022-10-05T20:59:20.347Z"
   },
   {
    "duration": 154,
    "start_time": "2022-10-05T20:59:20.643Z"
   },
   {
    "duration": 149,
    "start_time": "2022-10-05T20:59:20.799Z"
   },
   {
    "duration": 10,
    "start_time": "2022-10-05T20:59:20.950Z"
   },
   {
    "duration": 11,
    "start_time": "2022-10-05T20:59:20.961Z"
   },
   {
    "duration": 196,
    "start_time": "2022-10-05T20:59:20.973Z"
   },
   {
    "duration": 10,
    "start_time": "2022-10-05T20:59:21.171Z"
   },
   {
    "duration": 141,
    "start_time": "2022-10-05T20:59:21.183Z"
   },
   {
    "duration": 9,
    "start_time": "2022-10-05T20:59:21.326Z"
   },
   {
    "duration": 9,
    "start_time": "2022-10-05T20:59:21.337Z"
   },
   {
    "duration": 20,
    "start_time": "2022-10-05T20:59:21.348Z"
   },
   {
    "duration": 10,
    "start_time": "2022-10-05T20:59:21.369Z"
   },
   {
    "duration": 13,
    "start_time": "2022-10-05T20:59:21.380Z"
   },
   {
    "duration": 38,
    "start_time": "2022-10-05T20:59:21.395Z"
   },
   {
    "duration": 208,
    "start_time": "2022-10-05T20:59:21.434Z"
   },
   {
    "duration": 209,
    "start_time": "2022-10-05T20:59:21.643Z"
   },
   {
    "duration": 14,
    "start_time": "2022-10-05T20:59:21.854Z"
   },
   {
    "duration": 279,
    "start_time": "2022-10-05T20:59:21.870Z"
   },
   {
    "duration": 13,
    "start_time": "2022-10-05T20:59:22.150Z"
   },
   {
    "duration": 208,
    "start_time": "2022-10-05T20:59:22.165Z"
   },
   {
    "duration": 16,
    "start_time": "2022-10-05T20:59:22.374Z"
   },
   {
    "duration": 30,
    "start_time": "2022-10-05T20:59:22.392Z"
   },
   {
    "duration": 191,
    "start_time": "2022-10-05T20:59:22.424Z"
   },
   {
    "duration": 17,
    "start_time": "2022-10-05T20:59:22.620Z"
   },
   {
    "duration": 14,
    "start_time": "2022-10-05T20:59:22.640Z"
   },
   {
    "duration": 227,
    "start_time": "2022-10-05T20:59:22.656Z"
   },
   {
    "duration": 16,
    "start_time": "2022-10-05T20:59:22.885Z"
   },
   {
    "duration": 24,
    "start_time": "2022-10-05T20:59:22.903Z"
   },
   {
    "duration": 9,
    "start_time": "2022-10-05T21:00:38.721Z"
   },
   {
    "duration": 8,
    "start_time": "2022-10-05T21:00:45.547Z"
   },
   {
    "duration": 1159,
    "start_time": "2022-10-05T21:00:54.488Z"
   },
   {
    "duration": 53,
    "start_time": "2022-10-05T21:00:55.650Z"
   },
   {
    "duration": 38,
    "start_time": "2022-10-05T21:00:55.705Z"
   },
   {
    "duration": 14,
    "start_time": "2022-10-05T21:00:55.745Z"
   },
   {
    "duration": 30,
    "start_time": "2022-10-05T21:00:55.762Z"
   },
   {
    "duration": 3,
    "start_time": "2022-10-05T21:00:55.794Z"
   },
   {
    "duration": 12,
    "start_time": "2022-10-05T21:00:55.821Z"
   },
   {
    "duration": 9,
    "start_time": "2022-10-05T21:00:55.835Z"
   },
   {
    "duration": 16,
    "start_time": "2022-10-05T21:00:55.847Z"
   },
   {
    "duration": 9,
    "start_time": "2022-10-05T21:00:55.865Z"
   },
   {
    "duration": 5,
    "start_time": "2022-10-05T21:00:55.876Z"
   },
   {
    "duration": 243,
    "start_time": "2022-10-05T21:00:55.882Z"
   },
   {
    "duration": 6,
    "start_time": "2022-10-05T21:00:56.127Z"
   },
   {
    "duration": 15,
    "start_time": "2022-10-05T21:00:56.136Z"
   },
   {
    "duration": 24,
    "start_time": "2022-10-05T21:00:56.153Z"
   },
   {
    "duration": 6,
    "start_time": "2022-10-05T21:00:56.179Z"
   },
   {
    "duration": 35,
    "start_time": "2022-10-05T21:00:56.186Z"
   },
   {
    "duration": 24,
    "start_time": "2022-10-05T21:00:56.223Z"
   },
   {
    "duration": 12,
    "start_time": "2022-10-05T21:00:56.248Z"
   },
   {
    "duration": 21,
    "start_time": "2022-10-05T21:00:56.262Z"
   },
   {
    "duration": 5,
    "start_time": "2022-10-05T21:00:56.284Z"
   },
   {
    "duration": 38,
    "start_time": "2022-10-05T21:00:56.291Z"
   },
   {
    "duration": 6,
    "start_time": "2022-10-05T21:00:56.331Z"
   },
   {
    "duration": 21,
    "start_time": "2022-10-05T21:00:56.339Z"
   },
   {
    "duration": 17,
    "start_time": "2022-10-05T21:00:56.362Z"
   },
   {
    "duration": 7,
    "start_time": "2022-10-05T21:00:56.381Z"
   },
   {
    "duration": 12,
    "start_time": "2022-10-05T21:00:56.390Z"
   },
   {
    "duration": 26,
    "start_time": "2022-10-05T21:00:56.403Z"
   },
   {
    "duration": 16,
    "start_time": "2022-10-05T21:00:56.431Z"
   },
   {
    "duration": 207,
    "start_time": "2022-10-05T21:00:56.449Z"
   },
   {
    "duration": 12,
    "start_time": "2022-10-05T21:00:56.659Z"
   },
   {
    "duration": 317,
    "start_time": "2022-10-05T21:00:56.673Z"
   },
   {
    "duration": 3,
    "start_time": "2022-10-05T21:00:56.992Z"
   },
   {
    "duration": 1075,
    "start_time": "2022-10-05T21:00:56.997Z"
   },
   {
    "duration": 8,
    "start_time": "2022-10-05T21:00:58.074Z"
   },
   {
    "duration": 309,
    "start_time": "2022-10-05T21:00:58.084Z"
   },
   {
    "duration": 4,
    "start_time": "2022-10-05T21:00:58.395Z"
   },
   {
    "duration": 221,
    "start_time": "2022-10-05T21:00:58.400Z"
   },
   {
    "duration": 161,
    "start_time": "2022-10-05T21:00:58.622Z"
   },
   {
    "duration": 177,
    "start_time": "2022-10-05T21:00:58.785Z"
   },
   {
    "duration": 13,
    "start_time": "2022-10-05T21:00:58.968Z"
   },
   {
    "duration": 21,
    "start_time": "2022-10-05T21:00:58.983Z"
   },
   {
    "duration": 220,
    "start_time": "2022-10-05T21:00:59.007Z"
   },
   {
    "duration": 11,
    "start_time": "2022-10-05T21:00:59.229Z"
   },
   {
    "duration": 163,
    "start_time": "2022-10-05T21:00:59.242Z"
   },
   {
    "duration": 19,
    "start_time": "2022-10-05T21:00:59.407Z"
   },
   {
    "duration": 11,
    "start_time": "2022-10-05T21:00:59.428Z"
   },
   {
    "duration": 11,
    "start_time": "2022-10-05T21:00:59.440Z"
   },
   {
    "duration": 14,
    "start_time": "2022-10-05T21:00:59.453Z"
   },
   {
    "duration": 11,
    "start_time": "2022-10-05T21:00:59.468Z"
   },
   {
    "duration": 47,
    "start_time": "2022-10-05T21:00:59.481Z"
   },
   {
    "duration": 209,
    "start_time": "2022-10-05T21:00:59.530Z"
   },
   {
    "duration": 225,
    "start_time": "2022-10-05T21:00:59.741Z"
   },
   {
    "duration": 13,
    "start_time": "2022-10-05T21:00:59.968Z"
   },
   {
    "duration": 363,
    "start_time": "2022-10-05T21:00:59.983Z"
   },
   {
    "duration": 15,
    "start_time": "2022-10-05T21:01:00.348Z"
   },
   {
    "duration": 470,
    "start_time": "2022-10-05T21:01:00.364Z"
   },
   {
    "duration": 15,
    "start_time": "2022-10-05T21:01:00.836Z"
   },
   {
    "duration": 75,
    "start_time": "2022-10-05T21:01:00.853Z"
   },
   {
    "duration": 603,
    "start_time": "2022-10-05T21:01:00.930Z"
   },
   {
    "duration": 16,
    "start_time": "2022-10-05T21:01:01.535Z"
   },
   {
    "duration": 79,
    "start_time": "2022-10-05T21:01:01.553Z"
   },
   {
    "duration": 419,
    "start_time": "2022-10-05T21:01:01.635Z"
   },
   {
    "duration": 73,
    "start_time": "2022-10-05T21:01:02.055Z"
   },
   {
    "duration": 13,
    "start_time": "2022-10-05T21:01:02.130Z"
   },
   {
    "duration": 165,
    "start_time": "2022-10-05T21:01:49.934Z"
   },
   {
    "duration": 1228,
    "start_time": "2022-10-05T21:01:56.317Z"
   },
   {
    "duration": 53,
    "start_time": "2022-10-05T21:01:57.546Z"
   },
   {
    "duration": 35,
    "start_time": "2022-10-05T21:01:57.600Z"
   },
   {
    "duration": 14,
    "start_time": "2022-10-05T21:01:57.637Z"
   },
   {
    "duration": 33,
    "start_time": "2022-10-05T21:01:57.652Z"
   },
   {
    "duration": 4,
    "start_time": "2022-10-05T21:01:57.688Z"
   },
   {
    "duration": 34,
    "start_time": "2022-10-05T21:01:57.693Z"
   },
   {
    "duration": 21,
    "start_time": "2022-10-05T21:01:57.729Z"
   },
   {
    "duration": 19,
    "start_time": "2022-10-05T21:01:57.753Z"
   },
   {
    "duration": 13,
    "start_time": "2022-10-05T21:01:57.776Z"
   },
   {
    "duration": 5,
    "start_time": "2022-10-05T21:01:57.790Z"
   },
   {
    "duration": 223,
    "start_time": "2022-10-05T21:01:57.797Z"
   },
   {
    "duration": 6,
    "start_time": "2022-10-05T21:01:58.022Z"
   },
   {
    "duration": 9,
    "start_time": "2022-10-05T21:01:58.030Z"
   },
   {
    "duration": 21,
    "start_time": "2022-10-05T21:01:58.041Z"
   },
   {
    "duration": 7,
    "start_time": "2022-10-05T21:01:58.064Z"
   },
   {
    "duration": 11,
    "start_time": "2022-10-05T21:01:58.073Z"
   },
   {
    "duration": 53,
    "start_time": "2022-10-05T21:01:58.086Z"
   },
   {
    "duration": 6,
    "start_time": "2022-10-05T21:01:58.140Z"
   },
   {
    "duration": 22,
    "start_time": "2022-10-05T21:01:58.148Z"
   },
   {
    "duration": 6,
    "start_time": "2022-10-05T21:01:58.172Z"
   },
   {
    "duration": 22,
    "start_time": "2022-10-05T21:01:58.180Z"
   },
   {
    "duration": 21,
    "start_time": "2022-10-05T21:01:58.204Z"
   },
   {
    "duration": 13,
    "start_time": "2022-10-05T21:01:58.227Z"
   },
   {
    "duration": 19,
    "start_time": "2022-10-05T21:01:58.242Z"
   },
   {
    "duration": 7,
    "start_time": "2022-10-05T21:01:58.263Z"
   },
   {
    "duration": 13,
    "start_time": "2022-10-05T21:01:58.271Z"
   },
   {
    "duration": 33,
    "start_time": "2022-10-05T21:01:58.288Z"
   },
   {
    "duration": 28,
    "start_time": "2022-10-05T21:01:58.323Z"
   },
   {
    "duration": 171,
    "start_time": "2022-10-05T21:01:58.352Z"
   },
   {
    "duration": 10,
    "start_time": "2022-10-05T21:01:58.524Z"
   },
   {
    "duration": 302,
    "start_time": "2022-10-05T21:01:58.536Z"
   },
   {
    "duration": 3,
    "start_time": "2022-10-05T21:01:58.840Z"
   },
   {
    "duration": 1187,
    "start_time": "2022-10-05T21:01:58.845Z"
   },
   {
    "duration": 6,
    "start_time": "2022-10-05T21:02:00.034Z"
   },
   {
    "duration": 379,
    "start_time": "2022-10-05T21:02:00.042Z"
   },
   {
    "duration": 3,
    "start_time": "2022-10-05T21:02:00.423Z"
   },
   {
    "duration": 252,
    "start_time": "2022-10-05T21:02:00.428Z"
   },
   {
    "duration": 149,
    "start_time": "2022-10-05T21:02:00.682Z"
   },
   {
    "duration": 145,
    "start_time": "2022-10-05T21:02:00.833Z"
   },
   {
    "duration": 10,
    "start_time": "2022-10-05T21:02:00.980Z"
   },
   {
    "duration": 30,
    "start_time": "2022-10-05T21:02:00.992Z"
   },
   {
    "duration": 226,
    "start_time": "2022-10-05T21:02:01.023Z"
   },
   {
    "duration": 11,
    "start_time": "2022-10-05T21:02:01.251Z"
   },
   {
    "duration": 173,
    "start_time": "2022-10-05T21:02:01.264Z"
   },
   {
    "duration": 12,
    "start_time": "2022-10-05T21:02:01.439Z"
   },
   {
    "duration": 58,
    "start_time": "2022-10-05T21:02:01.452Z"
   },
   {
    "duration": 50,
    "start_time": "2022-10-05T21:02:01.512Z"
   },
   {
    "duration": 59,
    "start_time": "2022-10-05T21:02:01.564Z"
   },
   {
    "duration": 64,
    "start_time": "2022-10-05T21:02:01.625Z"
   },
   {
    "duration": 41,
    "start_time": "2022-10-05T21:02:01.690Z"
   },
   {
    "duration": 227,
    "start_time": "2022-10-05T21:02:01.733Z"
   },
   {
    "duration": 225,
    "start_time": "2022-10-05T21:02:01.961Z"
   },
   {
    "duration": 13,
    "start_time": "2022-10-05T21:02:02.188Z"
   },
   {
    "duration": 320,
    "start_time": "2022-10-05T21:02:02.203Z"
   },
   {
    "duration": 13,
    "start_time": "2022-10-05T21:02:02.525Z"
   },
   {
    "duration": 384,
    "start_time": "2022-10-05T21:02:02.540Z"
   },
   {
    "duration": 22,
    "start_time": "2022-10-05T21:02:02.926Z"
   },
   {
    "duration": 72,
    "start_time": "2022-10-05T21:02:02.950Z"
   },
   {
    "duration": 541,
    "start_time": "2022-10-05T21:02:03.024Z"
   },
   {
    "duration": 67,
    "start_time": "2022-10-05T21:02:03.567Z"
   },
   {
    "duration": 15,
    "start_time": "2022-10-05T21:02:03.635Z"
   },
   {
    "duration": 407,
    "start_time": "2022-10-05T21:02:03.652Z"
   },
   {
    "duration": 70,
    "start_time": "2022-10-05T21:02:04.061Z"
   },
   {
    "duration": 14,
    "start_time": "2022-10-05T21:02:04.133Z"
   },
   {
    "duration": 251,
    "start_time": "2022-10-05T21:02:40.672Z"
   },
   {
    "duration": 4,
    "start_time": "2022-10-05T21:06:00.092Z"
   },
   {
    "duration": 13,
    "start_time": "2022-10-05T21:06:04.196Z"
   },
   {
    "duration": 144,
    "start_time": "2022-10-05T21:06:11.792Z"
   },
   {
    "duration": 14,
    "start_time": "2022-10-05T21:06:36.439Z"
   },
   {
    "duration": 16,
    "start_time": "2022-10-05T21:07:05.023Z"
   },
   {
    "duration": 13,
    "start_time": "2022-10-05T21:07:12.452Z"
   },
   {
    "duration": 12,
    "start_time": "2022-10-05T21:07:19.433Z"
   },
   {
    "duration": 5,
    "start_time": "2022-10-05T21:07:39.770Z"
   },
   {
    "duration": 15,
    "start_time": "2022-10-05T21:07:49.423Z"
   },
   {
    "duration": 20,
    "start_time": "2022-10-05T21:08:33.332Z"
   },
   {
    "duration": 15,
    "start_time": "2022-10-05T21:09:57.929Z"
   },
   {
    "duration": 16,
    "start_time": "2022-10-05T21:10:01.457Z"
   },
   {
    "duration": 10,
    "start_time": "2022-10-05T21:10:38.922Z"
   },
   {
    "duration": 12,
    "start_time": "2022-10-05T21:11:08.180Z"
   },
   {
    "duration": 8,
    "start_time": "2022-10-05T21:11:17.546Z"
   },
   {
    "duration": 1311,
    "start_time": "2022-10-05T21:11:48.867Z"
   },
   {
    "duration": 1041,
    "start_time": "2022-10-05T21:12:17.915Z"
   },
   {
    "duration": 821,
    "start_time": "2022-10-05T21:12:23.675Z"
   },
   {
    "duration": 6,
    "start_time": "2022-10-05T21:12:35.935Z"
   },
   {
    "duration": 6,
    "start_time": "2022-10-05T21:15:16.411Z"
   },
   {
    "duration": 10,
    "start_time": "2022-10-05T21:15:20.948Z"
   },
   {
    "duration": 10,
    "start_time": "2022-10-05T21:19:51.539Z"
   },
   {
    "duration": 12,
    "start_time": "2022-10-05T21:19:55.150Z"
   },
   {
    "duration": 11,
    "start_time": "2022-10-05T21:19:57.995Z"
   },
   {
    "duration": 14,
    "start_time": "2022-10-05T21:20:07.158Z"
   },
   {
    "duration": 13,
    "start_time": "2022-10-05T21:20:16.637Z"
   },
   {
    "duration": 13,
    "start_time": "2022-10-05T21:20:19.379Z"
   },
   {
    "duration": 6,
    "start_time": "2022-10-05T21:20:39.481Z"
   },
   {
    "duration": 4,
    "start_time": "2022-10-05T21:21:57.175Z"
   },
   {
    "duration": 4,
    "start_time": "2022-10-05T21:22:05.457Z"
   },
   {
    "duration": 5,
    "start_time": "2022-10-05T21:22:39.250Z"
   },
   {
    "duration": 7,
    "start_time": "2022-10-05T21:22:45.520Z"
   },
   {
    "duration": 10,
    "start_time": "2022-10-05T21:23:19.094Z"
   },
   {
    "duration": 5,
    "start_time": "2022-10-05T21:23:23.001Z"
   },
   {
    "duration": 15,
    "start_time": "2022-10-05T21:24:39.802Z"
   },
   {
    "duration": 15,
    "start_time": "2022-10-05T21:25:05.712Z"
   },
   {
    "duration": 17,
    "start_time": "2022-10-05T21:25:35.836Z"
   },
   {
    "duration": 5,
    "start_time": "2022-10-05T21:31:01.061Z"
   },
   {
    "duration": 6,
    "start_time": "2022-10-05T21:31:09.379Z"
   },
   {
    "duration": 9,
    "start_time": "2022-10-05T21:31:14.917Z"
   },
   {
    "duration": 7,
    "start_time": "2022-10-05T21:32:05.595Z"
   },
   {
    "duration": 6,
    "start_time": "2022-10-05T21:33:03.299Z"
   },
   {
    "duration": 15,
    "start_time": "2022-10-05T21:34:29.935Z"
   },
   {
    "duration": 15,
    "start_time": "2022-10-05T21:35:13.191Z"
   },
   {
    "duration": 5,
    "start_time": "2022-10-05T21:35:23.162Z"
   },
   {
    "duration": 5,
    "start_time": "2022-10-05T21:35:29.310Z"
   },
   {
    "duration": 7,
    "start_time": "2022-10-05T21:36:11.616Z"
   },
   {
    "duration": 6,
    "start_time": "2022-10-05T21:37:53.460Z"
   },
   {
    "duration": 5,
    "start_time": "2022-10-05T21:38:31.762Z"
   },
   {
    "duration": 5,
    "start_time": "2022-10-05T21:38:38.129Z"
   },
   {
    "duration": 1450,
    "start_time": "2022-10-05T21:39:39.136Z"
   },
   {
    "duration": 52,
    "start_time": "2022-10-05T21:39:40.588Z"
   },
   {
    "duration": 35,
    "start_time": "2022-10-05T21:39:40.642Z"
   },
   {
    "duration": 15,
    "start_time": "2022-10-05T21:39:40.679Z"
   },
   {
    "duration": 50,
    "start_time": "2022-10-05T21:39:40.696Z"
   },
   {
    "duration": 4,
    "start_time": "2022-10-05T21:39:40.747Z"
   },
   {
    "duration": 17,
    "start_time": "2022-10-05T21:39:40.752Z"
   },
   {
    "duration": 12,
    "start_time": "2022-10-05T21:39:40.771Z"
   },
   {
    "duration": 18,
    "start_time": "2022-10-05T21:39:40.785Z"
   },
   {
    "duration": 9,
    "start_time": "2022-10-05T21:39:40.823Z"
   },
   {
    "duration": 4,
    "start_time": "2022-10-05T21:39:40.834Z"
   },
   {
    "duration": 217,
    "start_time": "2022-10-05T21:39:40.840Z"
   },
   {
    "duration": 5,
    "start_time": "2022-10-05T21:39:41.059Z"
   },
   {
    "duration": 16,
    "start_time": "2022-10-05T21:39:41.066Z"
   },
   {
    "duration": 23,
    "start_time": "2022-10-05T21:39:41.084Z"
   },
   {
    "duration": 17,
    "start_time": "2022-10-05T21:39:41.109Z"
   },
   {
    "duration": 15,
    "start_time": "2022-10-05T21:39:41.127Z"
   },
   {
    "duration": 26,
    "start_time": "2022-10-05T21:39:41.144Z"
   },
   {
    "duration": 11,
    "start_time": "2022-10-05T21:39:41.172Z"
   },
   {
    "duration": 25,
    "start_time": "2022-10-05T21:39:41.185Z"
   },
   {
    "duration": 5,
    "start_time": "2022-10-05T21:39:41.220Z"
   },
   {
    "duration": 20,
    "start_time": "2022-10-05T21:39:41.228Z"
   },
   {
    "duration": 6,
    "start_time": "2022-10-05T21:39:41.250Z"
   },
   {
    "duration": 9,
    "start_time": "2022-10-05T21:39:41.257Z"
   },
   {
    "duration": 22,
    "start_time": "2022-10-05T21:39:41.268Z"
   },
   {
    "duration": 34,
    "start_time": "2022-10-05T21:39:41.292Z"
   },
   {
    "duration": 7,
    "start_time": "2022-10-05T21:39:41.328Z"
   },
   {
    "duration": 14,
    "start_time": "2022-10-05T21:39:41.339Z"
   },
   {
    "duration": 9,
    "start_time": "2022-10-05T21:39:41.355Z"
   },
   {
    "duration": 202,
    "start_time": "2022-10-05T21:39:41.366Z"
   },
   {
    "duration": 10,
    "start_time": "2022-10-05T21:39:41.571Z"
   },
   {
    "duration": 284,
    "start_time": "2022-10-05T21:39:41.583Z"
   },
   {
    "duration": 4,
    "start_time": "2022-10-05T21:39:41.869Z"
   },
   {
    "duration": 1075,
    "start_time": "2022-10-05T21:39:41.874Z"
   },
   {
    "duration": 7,
    "start_time": "2022-10-05T21:39:42.951Z"
   },
   {
    "duration": 217,
    "start_time": "2022-10-05T21:39:42.960Z"
   },
   {
    "duration": 3,
    "start_time": "2022-10-05T21:39:43.179Z"
   },
   {
    "duration": 321,
    "start_time": "2022-10-05T21:39:43.183Z"
   },
   {
    "duration": 152,
    "start_time": "2022-10-05T21:39:43.506Z"
   },
   {
    "duration": 170,
    "start_time": "2022-10-05T21:39:43.661Z"
   },
   {
    "duration": 13,
    "start_time": "2022-10-05T21:39:43.833Z"
   },
   {
    "duration": 17,
    "start_time": "2022-10-05T21:39:43.847Z"
   },
   {
    "duration": 176,
    "start_time": "2022-10-05T21:39:43.867Z"
   },
   {
    "duration": 11,
    "start_time": "2022-10-05T21:39:44.045Z"
   },
   {
    "duration": 149,
    "start_time": "2022-10-05T21:39:44.058Z"
   },
   {
    "duration": 17,
    "start_time": "2022-10-05T21:39:44.209Z"
   },
   {
    "duration": 33,
    "start_time": "2022-10-05T21:39:44.228Z"
   },
   {
    "duration": 17,
    "start_time": "2022-10-05T21:39:44.262Z"
   },
   {
    "duration": 29,
    "start_time": "2022-10-05T21:39:44.281Z"
   },
   {
    "duration": 37,
    "start_time": "2022-10-05T21:39:44.312Z"
   },
   {
    "duration": 25,
    "start_time": "2022-10-05T21:39:44.351Z"
   },
   {
    "duration": 203,
    "start_time": "2022-10-05T21:39:44.378Z"
   },
   {
    "duration": 219,
    "start_time": "2022-10-05T21:39:44.583Z"
   },
   {
    "duration": 20,
    "start_time": "2022-10-05T21:39:44.804Z"
   },
   {
    "duration": 291,
    "start_time": "2022-10-05T21:39:44.826Z"
   },
   {
    "duration": 13,
    "start_time": "2022-10-05T21:39:45.121Z"
   },
   {
    "duration": 203,
    "start_time": "2022-10-05T21:39:45.136Z"
   },
   {
    "duration": 16,
    "start_time": "2022-10-05T21:39:45.342Z"
   },
   {
    "duration": 18,
    "start_time": "2022-10-05T21:39:45.359Z"
   },
   {
    "duration": 189,
    "start_time": "2022-10-05T21:39:45.379Z"
   },
   {
    "duration": 16,
    "start_time": "2022-10-05T21:39:45.569Z"
   },
   {
    "duration": 34,
    "start_time": "2022-10-05T21:39:45.587Z"
   },
   {
    "duration": 191,
    "start_time": "2022-10-05T21:39:45.623Z"
   },
   {
    "duration": 17,
    "start_time": "2022-10-05T21:39:45.820Z"
   },
   {
    "duration": 12,
    "start_time": "2022-10-05T21:39:45.838Z"
   },
   {
    "duration": 22,
    "start_time": "2022-10-05T21:39:45.851Z"
   },
   {
    "duration": 8,
    "start_time": "2022-10-05T21:39:45.874Z"
   },
   {
    "duration": 17,
    "start_time": "2022-10-05T21:39:45.883Z"
   },
   {
    "duration": 5,
    "start_time": "2022-10-05T21:39:45.921Z"
   },
   {
    "duration": 12,
    "start_time": "2022-10-05T21:39:45.928Z"
   },
   {
    "duration": 116,
    "start_time": "2022-10-05T21:39:45.941Z"
   },
   {
    "duration": 7,
    "start_time": "2022-10-05T21:39:46.059Z"
   },
   {
    "duration": 17,
    "start_time": "2022-10-05T21:39:46.068Z"
   },
   {
    "duration": 6,
    "start_time": "2022-10-05T21:39:46.086Z"
   },
   {
    "duration": 7,
    "start_time": "2022-10-05T21:40:06.465Z"
   },
   {
    "duration": 6,
    "start_time": "2022-10-05T21:40:34.037Z"
   },
   {
    "duration": 7,
    "start_time": "2022-10-05T21:43:32.178Z"
   },
   {
    "duration": 6,
    "start_time": "2022-10-05T21:43:39.851Z"
   },
   {
    "duration": 6,
    "start_time": "2022-10-05T21:43:43.152Z"
   },
   {
    "duration": 5,
    "start_time": "2022-10-05T21:43:51.613Z"
   },
   {
    "duration": 6,
    "start_time": "2022-10-05T21:43:54.934Z"
   },
   {
    "duration": 6,
    "start_time": "2022-10-05T21:45:28.611Z"
   },
   {
    "duration": 6,
    "start_time": "2022-10-05T22:22:25.174Z"
   },
   {
    "duration": 7,
    "start_time": "2022-10-05T22:23:08.911Z"
   },
   {
    "duration": 1222,
    "start_time": "2022-10-05T22:45:02.312Z"
   },
   {
    "duration": 54,
    "start_time": "2022-10-05T22:45:03.536Z"
   },
   {
    "duration": 33,
    "start_time": "2022-10-05T22:45:03.592Z"
   },
   {
    "duration": 14,
    "start_time": "2022-10-05T22:45:03.627Z"
   },
   {
    "duration": 30,
    "start_time": "2022-10-05T22:45:03.643Z"
   },
   {
    "duration": 3,
    "start_time": "2022-10-05T22:45:03.674Z"
   },
   {
    "duration": 15,
    "start_time": "2022-10-05T22:45:03.679Z"
   },
   {
    "duration": 34,
    "start_time": "2022-10-05T22:45:03.696Z"
   },
   {
    "duration": 18,
    "start_time": "2022-10-05T22:45:03.732Z"
   },
   {
    "duration": 10,
    "start_time": "2022-10-05T22:45:03.753Z"
   },
   {
    "duration": 7,
    "start_time": "2022-10-05T22:45:03.764Z"
   },
   {
    "duration": 204,
    "start_time": "2022-10-05T22:45:03.773Z"
   },
   {
    "duration": 5,
    "start_time": "2022-10-05T22:45:03.979Z"
   },
   {
    "duration": 8,
    "start_time": "2022-10-05T22:45:03.986Z"
   },
   {
    "duration": 38,
    "start_time": "2022-10-05T22:45:03.995Z"
   },
   {
    "duration": 5,
    "start_time": "2022-10-05T22:45:04.035Z"
   },
   {
    "duration": 11,
    "start_time": "2022-10-05T22:45:04.041Z"
   },
   {
    "duration": 22,
    "start_time": "2022-10-05T22:45:04.054Z"
   },
   {
    "duration": 11,
    "start_time": "2022-10-05T22:45:04.078Z"
   },
   {
    "duration": 34,
    "start_time": "2022-10-05T22:45:04.091Z"
   },
   {
    "duration": 6,
    "start_time": "2022-10-05T22:45:04.127Z"
   },
   {
    "duration": 17,
    "start_time": "2022-10-05T22:45:04.135Z"
   },
   {
    "duration": 7,
    "start_time": "2022-10-05T22:45:04.154Z"
   },
   {
    "duration": 7,
    "start_time": "2022-10-05T22:45:04.163Z"
   },
   {
    "duration": 15,
    "start_time": "2022-10-05T22:45:04.171Z"
   },
   {
    "duration": 39,
    "start_time": "2022-10-05T22:45:04.187Z"
   },
   {
    "duration": 6,
    "start_time": "2022-10-05T22:45:04.228Z"
   },
   {
    "duration": 10,
    "start_time": "2022-10-05T22:45:04.238Z"
   },
   {
    "duration": 10,
    "start_time": "2022-10-05T22:45:04.250Z"
   },
   {
    "duration": 184,
    "start_time": "2022-10-05T22:45:04.261Z"
   },
   {
    "duration": 9,
    "start_time": "2022-10-05T22:45:04.447Z"
   },
   {
    "duration": 260,
    "start_time": "2022-10-05T22:45:04.458Z"
   },
   {
    "duration": 3,
    "start_time": "2022-10-05T22:45:04.720Z"
   },
   {
    "duration": 986,
    "start_time": "2022-10-05T22:45:04.724Z"
   },
   {
    "duration": 11,
    "start_time": "2022-10-05T22:45:05.711Z"
   },
   {
    "duration": 204,
    "start_time": "2022-10-05T22:45:05.724Z"
   },
   {
    "duration": 2,
    "start_time": "2022-10-05T22:45:05.930Z"
   },
   {
    "duration": 301,
    "start_time": "2022-10-05T22:45:05.934Z"
   },
   {
    "duration": 144,
    "start_time": "2022-10-05T22:45:06.237Z"
   },
   {
    "duration": 150,
    "start_time": "2022-10-05T22:45:06.382Z"
   },
   {
    "duration": 10,
    "start_time": "2022-10-05T22:45:06.534Z"
   },
   {
    "duration": 10,
    "start_time": "2022-10-05T22:45:06.545Z"
   },
   {
    "duration": 178,
    "start_time": "2022-10-05T22:45:06.557Z"
   },
   {
    "duration": 20,
    "start_time": "2022-10-05T22:45:06.737Z"
   },
   {
    "duration": 140,
    "start_time": "2022-10-05T22:45:06.759Z"
   },
   {
    "duration": 21,
    "start_time": "2022-10-05T22:45:06.901Z"
   },
   {
    "duration": 11,
    "start_time": "2022-10-05T22:45:06.923Z"
   },
   {
    "duration": 13,
    "start_time": "2022-10-05T22:45:06.936Z"
   },
   {
    "duration": 11,
    "start_time": "2022-10-05T22:45:06.951Z"
   },
   {
    "duration": 11,
    "start_time": "2022-10-05T22:45:06.964Z"
   },
   {
    "duration": 15,
    "start_time": "2022-10-05T22:45:06.976Z"
   },
   {
    "duration": 206,
    "start_time": "2022-10-05T22:45:07.021Z"
   },
   {
    "duration": 202,
    "start_time": "2022-10-05T22:45:07.229Z"
   },
   {
    "duration": 13,
    "start_time": "2022-10-05T22:45:07.433Z"
   },
   {
    "duration": 278,
    "start_time": "2022-10-05T22:45:07.448Z"
   },
   {
    "duration": 17,
    "start_time": "2022-10-05T22:45:07.728Z"
   },
   {
    "duration": 201,
    "start_time": "2022-10-05T22:45:07.746Z"
   },
   {
    "duration": 15,
    "start_time": "2022-10-05T22:45:07.948Z"
   },
   {
    "duration": 12,
    "start_time": "2022-10-05T22:45:07.964Z"
   },
   {
    "duration": 195,
    "start_time": "2022-10-05T22:45:07.978Z"
   },
   {
    "duration": 15,
    "start_time": "2022-10-05T22:45:08.175Z"
   },
   {
    "duration": 16,
    "start_time": "2022-10-05T22:45:08.192Z"
   },
   {
    "duration": 190,
    "start_time": "2022-10-05T22:45:08.221Z"
   },
   {
    "duration": 20,
    "start_time": "2022-10-05T22:45:08.413Z"
   },
   {
    "duration": 8,
    "start_time": "2022-10-05T22:45:08.435Z"
   },
   {
    "duration": 19,
    "start_time": "2022-10-05T22:45:08.444Z"
   },
   {
    "duration": 7,
    "start_time": "2022-10-05T22:45:08.465Z"
   },
   {
    "duration": 16,
    "start_time": "2022-10-05T22:45:08.474Z"
   },
   {
    "duration": 31,
    "start_time": "2022-10-05T22:45:08.492Z"
   },
   {
    "duration": 9,
    "start_time": "2022-10-05T22:45:08.525Z"
   },
   {
    "duration": 113,
    "start_time": "2022-10-05T22:45:08.536Z"
   },
   {
    "duration": 6,
    "start_time": "2022-10-05T22:45:08.651Z"
   },
   {
    "duration": 17,
    "start_time": "2022-10-05T22:45:08.659Z"
   },
   {
    "duration": 5,
    "start_time": "2022-10-05T22:45:08.678Z"
   },
   {
    "duration": 1116,
    "start_time": "2022-10-05T23:48:47.581Z"
   },
   {
    "duration": 50,
    "start_time": "2022-10-05T23:48:48.699Z"
   },
   {
    "duration": 29,
    "start_time": "2022-10-05T23:48:48.751Z"
   },
   {
    "duration": 13,
    "start_time": "2022-10-05T23:48:48.781Z"
   },
   {
    "duration": 29,
    "start_time": "2022-10-05T23:48:48.796Z"
   },
   {
    "duration": 3,
    "start_time": "2022-10-05T23:48:48.826Z"
   },
   {
    "duration": 9,
    "start_time": "2022-10-05T23:48:48.830Z"
   },
   {
    "duration": 9,
    "start_time": "2022-10-05T23:48:48.840Z"
   },
   {
    "duration": 11,
    "start_time": "2022-10-05T23:48:48.850Z"
   },
   {
    "duration": 6,
    "start_time": "2022-10-05T23:48:48.863Z"
   },
   {
    "duration": 3,
    "start_time": "2022-10-05T23:48:48.871Z"
   },
   {
    "duration": 202,
    "start_time": "2022-10-05T23:48:48.876Z"
   },
   {
    "duration": 4,
    "start_time": "2022-10-05T23:48:49.079Z"
   },
   {
    "duration": 5,
    "start_time": "2022-10-05T23:48:49.086Z"
   },
   {
    "duration": 32,
    "start_time": "2022-10-05T23:48:49.093Z"
   },
   {
    "duration": 6,
    "start_time": "2022-10-05T23:48:49.127Z"
   },
   {
    "duration": 7,
    "start_time": "2022-10-05T23:48:49.135Z"
   },
   {
    "duration": 19,
    "start_time": "2022-10-05T23:48:49.144Z"
   },
   {
    "duration": 5,
    "start_time": "2022-10-05T23:48:49.165Z"
   },
   {
    "duration": 43,
    "start_time": "2022-10-05T23:48:49.172Z"
   },
   {
    "duration": 6,
    "start_time": "2022-10-05T23:48:49.217Z"
   },
   {
    "duration": 14,
    "start_time": "2022-10-05T23:48:49.224Z"
   },
   {
    "duration": 6,
    "start_time": "2022-10-05T23:48:49.239Z"
   },
   {
    "duration": 7,
    "start_time": "2022-10-05T23:48:49.247Z"
   },
   {
    "duration": 12,
    "start_time": "2022-10-05T23:48:49.255Z"
   },
   {
    "duration": 46,
    "start_time": "2022-10-05T23:48:49.269Z"
   },
   {
    "duration": 4,
    "start_time": "2022-10-05T23:48:49.316Z"
   },
   {
    "duration": 9,
    "start_time": "2022-10-05T23:48:49.321Z"
   },
   {
    "duration": 6,
    "start_time": "2022-10-05T23:48:49.331Z"
   },
   {
    "duration": 154,
    "start_time": "2022-10-05T23:48:49.339Z"
   },
   {
    "duration": 14,
    "start_time": "2022-10-05T23:48:49.495Z"
   },
   {
    "duration": 220,
    "start_time": "2022-10-05T23:48:49.511Z"
   },
   {
    "duration": 3,
    "start_time": "2022-10-05T23:48:49.732Z"
   },
   {
    "duration": 841,
    "start_time": "2022-10-05T23:48:49.736Z"
   },
   {
    "duration": 6,
    "start_time": "2022-10-05T23:48:50.578Z"
   },
   {
    "duration": 174,
    "start_time": "2022-10-05T23:48:50.586Z"
   },
   {
    "duration": 2,
    "start_time": "2022-10-05T23:48:50.761Z"
   },
   {
    "duration": 252,
    "start_time": "2022-10-05T23:48:50.764Z"
   },
   {
    "duration": 126,
    "start_time": "2022-10-05T23:48:51.017Z"
   },
   {
    "duration": 127,
    "start_time": "2022-10-05T23:48:51.144Z"
   },
   {
    "duration": 10,
    "start_time": "2022-10-05T23:48:51.274Z"
   },
   {
    "duration": 11,
    "start_time": "2022-10-05T23:48:51.285Z"
   },
   {
    "duration": 146,
    "start_time": "2022-10-05T23:48:51.297Z"
   },
   {
    "duration": 9,
    "start_time": "2022-10-05T23:48:51.445Z"
   },
   {
    "duration": 128,
    "start_time": "2022-10-05T23:48:51.456Z"
   },
   {
    "duration": 9,
    "start_time": "2022-10-05T23:48:51.585Z"
   },
   {
    "duration": 19,
    "start_time": "2022-10-05T23:48:51.595Z"
   },
   {
    "duration": 9,
    "start_time": "2022-10-05T23:48:51.615Z"
   },
   {
    "duration": 8,
    "start_time": "2022-10-05T23:48:51.626Z"
   },
   {
    "duration": 8,
    "start_time": "2022-10-05T23:48:51.636Z"
   },
   {
    "duration": 13,
    "start_time": "2022-10-05T23:48:51.645Z"
   },
   {
    "duration": 191,
    "start_time": "2022-10-05T23:48:51.659Z"
   },
   {
    "duration": 172,
    "start_time": "2022-10-05T23:48:51.852Z"
   },
   {
    "duration": 11,
    "start_time": "2022-10-05T23:48:52.026Z"
   },
   {
    "duration": 254,
    "start_time": "2022-10-05T23:48:52.038Z"
   },
   {
    "duration": 17,
    "start_time": "2022-10-05T23:48:52.294Z"
   },
   {
    "duration": 166,
    "start_time": "2022-10-05T23:48:52.312Z"
   },
   {
    "duration": 13,
    "start_time": "2022-10-05T23:48:52.479Z"
   },
   {
    "duration": 22,
    "start_time": "2022-10-05T23:48:52.494Z"
   },
   {
    "duration": 153,
    "start_time": "2022-10-05T23:48:52.518Z"
   },
   {
    "duration": 13,
    "start_time": "2022-10-05T23:48:52.672Z"
   },
   {
    "duration": 25,
    "start_time": "2022-10-05T23:48:52.686Z"
   },
   {
    "duration": 158,
    "start_time": "2022-10-05T23:48:52.713Z"
   },
   {
    "duration": 13,
    "start_time": "2022-10-05T23:48:52.872Z"
   },
   {
    "duration": 7,
    "start_time": "2022-10-05T23:48:52.886Z"
   },
   {
    "duration": 24,
    "start_time": "2022-10-05T23:48:52.894Z"
   },
   {
    "duration": 10,
    "start_time": "2022-10-05T23:48:52.920Z"
   },
   {
    "duration": 14,
    "start_time": "2022-10-05T23:48:52.932Z"
   },
   {
    "duration": 4,
    "start_time": "2022-10-05T23:48:52.947Z"
   },
   {
    "duration": 8,
    "start_time": "2022-10-05T23:48:52.953Z"
   },
   {
    "duration": 102,
    "start_time": "2022-10-05T23:48:52.962Z"
   },
   {
    "duration": 6,
    "start_time": "2022-10-05T23:48:53.066Z"
   },
   {
    "duration": 15,
    "start_time": "2022-10-05T23:48:53.073Z"
   },
   {
    "duration": 19,
    "start_time": "2022-10-05T23:48:53.090Z"
   },
   {
    "duration": 13,
    "start_time": "2022-10-05T23:53:55.623Z"
   },
   {
    "duration": 67,
    "start_time": "2022-10-06T00:01:06.081Z"
   },
   {
    "duration": 120,
    "start_time": "2022-10-06T00:10:35.732Z"
   },
   {
    "duration": 150,
    "start_time": "2022-10-06T00:11:11.594Z"
   },
   {
    "duration": 163,
    "start_time": "2022-10-06T00:11:19.052Z"
   },
   {
    "duration": 9,
    "start_time": "2022-10-06T00:26:01.650Z"
   },
   {
    "duration": 45,
    "start_time": "2022-10-06T11:50:09.284Z"
   },
   {
    "duration": 1245,
    "start_time": "2022-10-06T11:50:16.119Z"
   },
   {
    "duration": 112,
    "start_time": "2022-10-06T11:50:17.366Z"
   },
   {
    "duration": 41,
    "start_time": "2022-10-06T11:50:17.480Z"
   },
   {
    "duration": 14,
    "start_time": "2022-10-06T11:50:17.524Z"
   },
   {
    "duration": 36,
    "start_time": "2022-10-06T11:50:17.539Z"
   },
   {
    "duration": 25,
    "start_time": "2022-10-06T11:50:17.577Z"
   },
   {
    "duration": 4,
    "start_time": "2022-10-06T11:50:17.604Z"
   },
   {
    "duration": 36,
    "start_time": "2022-10-06T11:50:17.611Z"
   },
   {
    "duration": 16,
    "start_time": "2022-10-06T11:50:17.649Z"
   },
   {
    "duration": 17,
    "start_time": "2022-10-06T11:50:17.668Z"
   },
   {
    "duration": 20,
    "start_time": "2022-10-06T11:50:17.687Z"
   },
   {
    "duration": 9,
    "start_time": "2022-10-06T11:50:17.709Z"
   },
   {
    "duration": 14,
    "start_time": "2022-10-06T11:50:17.719Z"
   },
   {
    "duration": 177,
    "start_time": "2022-10-06T11:50:17.735Z"
   },
   {
    "duration": 5,
    "start_time": "2022-10-06T11:50:17.913Z"
   },
   {
    "duration": 11,
    "start_time": "2022-10-06T11:50:17.920Z"
   },
   {
    "duration": 42,
    "start_time": "2022-10-06T11:50:17.933Z"
   },
   {
    "duration": 6,
    "start_time": "2022-10-06T11:50:17.976Z"
   },
   {
    "duration": 14,
    "start_time": "2022-10-06T11:50:17.983Z"
   },
   {
    "duration": 19,
    "start_time": "2022-10-06T11:50:17.998Z"
   },
   {
    "duration": 7,
    "start_time": "2022-10-06T11:50:18.018Z"
   },
   {
    "duration": 15,
    "start_time": "2022-10-06T11:50:18.026Z"
   },
   {
    "duration": 6,
    "start_time": "2022-10-06T11:50:18.043Z"
   },
   {
    "duration": 14,
    "start_time": "2022-10-06T11:50:18.051Z"
   },
   {
    "duration": 9,
    "start_time": "2022-10-06T11:50:18.067Z"
   },
   {
    "duration": 28,
    "start_time": "2022-10-06T11:50:18.077Z"
   },
   {
    "duration": 14,
    "start_time": "2022-10-06T11:50:18.107Z"
   },
   {
    "duration": 8,
    "start_time": "2022-10-06T11:50:18.126Z"
   },
   {
    "duration": 23,
    "start_time": "2022-10-06T11:50:18.135Z"
   },
   {
    "duration": 12,
    "start_time": "2022-10-06T11:50:18.160Z"
   },
   {
    "duration": 69,
    "start_time": "2022-10-06T11:50:18.174Z"
   },
   {
    "duration": 6,
    "start_time": "2022-10-06T11:50:18.244Z"
   },
   {
    "duration": 165,
    "start_time": "2022-10-06T11:50:18.252Z"
   },
   {
    "duration": 8,
    "start_time": "2022-10-06T11:50:18.418Z"
   },
   {
    "duration": 240,
    "start_time": "2022-10-06T11:50:18.428Z"
   },
   {
    "duration": 3,
    "start_time": "2022-10-06T11:50:18.670Z"
   },
   {
    "duration": 955,
    "start_time": "2022-10-06T11:50:18.674Z"
   },
   {
    "duration": 7,
    "start_time": "2022-10-06T11:50:19.631Z"
   },
   {
    "duration": 190,
    "start_time": "2022-10-06T11:50:19.639Z"
   },
   {
    "duration": 3,
    "start_time": "2022-10-06T11:50:19.831Z"
   },
   {
    "duration": 262,
    "start_time": "2022-10-06T11:50:19.835Z"
   },
   {
    "duration": 131,
    "start_time": "2022-10-06T11:50:20.100Z"
   },
   {
    "duration": 170,
    "start_time": "2022-10-06T11:50:20.233Z"
   },
   {
    "duration": 140,
    "start_time": "2022-10-06T11:50:20.404Z"
   },
   {
    "duration": 10,
    "start_time": "2022-10-06T11:50:20.545Z"
   },
   {
    "duration": 12,
    "start_time": "2022-10-06T11:50:20.556Z"
   },
   {
    "duration": 165,
    "start_time": "2022-10-06T11:50:20.569Z"
   },
   {
    "duration": 11,
    "start_time": "2022-10-06T11:50:20.736Z"
   },
   {
    "duration": 124,
    "start_time": "2022-10-06T11:50:20.748Z"
   },
   {
    "duration": 28,
    "start_time": "2022-10-06T11:50:20.873Z"
   },
   {
    "duration": 10,
    "start_time": "2022-10-06T11:50:20.902Z"
   },
   {
    "duration": 10,
    "start_time": "2022-10-06T11:50:20.914Z"
   },
   {
    "duration": 17,
    "start_time": "2022-10-06T11:50:20.925Z"
   },
   {
    "duration": 13,
    "start_time": "2022-10-06T11:50:20.944Z"
   },
   {
    "duration": 16,
    "start_time": "2022-10-06T11:50:20.959Z"
   },
   {
    "duration": 198,
    "start_time": "2022-10-06T11:50:20.976Z"
   },
   {
    "duration": 186,
    "start_time": "2022-10-06T11:50:21.176Z"
   },
   {
    "duration": 12,
    "start_time": "2022-10-06T11:50:21.364Z"
   },
   {
    "duration": 272,
    "start_time": "2022-10-06T11:50:21.377Z"
   },
   {
    "duration": 11,
    "start_time": "2022-10-06T11:50:21.651Z"
   },
   {
    "duration": 200,
    "start_time": "2022-10-06T11:50:21.664Z"
   },
   {
    "duration": 14,
    "start_time": "2022-10-06T11:50:21.866Z"
   },
   {
    "duration": 26,
    "start_time": "2022-10-06T11:50:21.882Z"
   },
   {
    "duration": 165,
    "start_time": "2022-10-06T11:50:21.911Z"
   },
   {
    "duration": 22,
    "start_time": "2022-10-06T11:50:22.078Z"
   },
   {
    "duration": 11,
    "start_time": "2022-10-06T11:50:22.102Z"
   },
   {
    "duration": 243,
    "start_time": "2022-10-06T11:50:22.115Z"
   },
   {
    "duration": 14,
    "start_time": "2022-10-06T11:50:22.360Z"
   },
   {
    "duration": 8,
    "start_time": "2022-10-06T11:50:22.375Z"
   },
   {
    "duration": 4,
    "start_time": "2022-10-06T11:50:22.400Z"
   },
   {
    "duration": 17,
    "start_time": "2022-10-06T11:50:22.406Z"
   },
   {
    "duration": 6,
    "start_time": "2022-10-06T11:50:22.425Z"
   },
   {
    "duration": 18,
    "start_time": "2022-10-06T11:50:22.433Z"
   },
   {
    "duration": 6,
    "start_time": "2022-10-06T11:50:22.452Z"
   },
   {
    "duration": 18,
    "start_time": "2022-10-06T11:50:22.459Z"
   },
   {
    "duration": 34,
    "start_time": "2022-10-06T11:50:22.478Z"
   },
   {
    "duration": 6,
    "start_time": "2022-10-06T11:50:22.514Z"
   },
   {
    "duration": 13,
    "start_time": "2022-10-06T11:50:22.522Z"
   },
   {
    "duration": 5,
    "start_time": "2022-10-06T11:50:22.537Z"
   },
   {
    "duration": 14,
    "start_time": "2022-10-06T11:50:50.199Z"
   },
   {
    "duration": 21,
    "start_time": "2022-10-06T11:51:06.228Z"
   },
   {
    "duration": 4,
    "start_time": "2022-10-06T11:52:09.601Z"
   },
   {
    "duration": 13,
    "start_time": "2022-10-06T11:52:13.646Z"
   },
   {
    "duration": 9,
    "start_time": "2022-10-06T11:53:07.378Z"
   },
   {
    "duration": 17,
    "start_time": "2022-10-06T11:57:11.736Z"
   },
   {
    "duration": 6,
    "start_time": "2022-10-06T12:02:00.820Z"
   },
   {
    "duration": 1046,
    "start_time": "2022-10-06T12:06:31.963Z"
   },
   {
    "duration": 49,
    "start_time": "2022-10-06T12:06:35.012Z"
   },
   {
    "duration": 46,
    "start_time": "2022-10-06T12:06:41.475Z"
   },
   {
    "duration": 3,
    "start_time": "2022-10-06T12:06:49.277Z"
   },
   {
    "duration": 9,
    "start_time": "2022-10-06T12:06:56.221Z"
   },
   {
    "duration": 1035,
    "start_time": "2022-10-06T12:09:12.051Z"
   },
   {
    "duration": 54,
    "start_time": "2022-10-06T12:09:14.370Z"
   },
   {
    "duration": 4,
    "start_time": "2022-10-06T12:09:21.054Z"
   },
   {
    "duration": 6,
    "start_time": "2022-10-06T12:09:50.425Z"
   },
   {
    "duration": 6,
    "start_time": "2022-10-06T12:10:05.043Z"
   },
   {
    "duration": 12,
    "start_time": "2022-10-06T12:10:10.516Z"
   },
   {
    "duration": 7,
    "start_time": "2022-10-06T12:10:22.379Z"
   },
   {
    "duration": 4,
    "start_time": "2022-10-06T12:10:48.501Z"
   },
   {
    "duration": 165,
    "start_time": "2022-10-06T12:10:51.657Z"
   },
   {
    "duration": 5,
    "start_time": "2022-10-06T12:10:57.569Z"
   },
   {
    "duration": 5,
    "start_time": "2022-10-06T12:21:18.469Z"
   },
   {
    "duration": 8,
    "start_time": "2022-10-06T12:21:34.777Z"
   },
   {
    "duration": 115,
    "start_time": "2022-10-06T12:21:44.744Z"
   },
   {
    "duration": 5,
    "start_time": "2022-10-06T12:22:03.945Z"
   },
   {
    "duration": 25,
    "start_time": "2022-10-06T12:23:04.775Z"
   },
   {
    "duration": 8,
    "start_time": "2022-10-06T12:24:32.875Z"
   },
   {
    "duration": 148,
    "start_time": "2022-10-06T12:24:36.749Z"
   },
   {
    "duration": 117,
    "start_time": "2022-10-06T12:24:58.649Z"
   },
   {
    "duration": 70,
    "start_time": "2022-10-06T12:26:12.147Z"
   },
   {
    "duration": 177,
    "start_time": "2022-10-06T12:26:34.447Z"
   },
   {
    "duration": 169,
    "start_time": "2022-10-06T12:27:53.407Z"
   },
   {
    "duration": 144,
    "start_time": "2022-10-06T12:28:21.092Z"
   },
   {
    "duration": 8,
    "start_time": "2022-10-06T12:28:36.773Z"
   },
   {
    "duration": 12,
    "start_time": "2022-10-06T12:28:43.957Z"
   },
   {
    "duration": 1117,
    "start_time": "2022-10-06T12:29:02.635Z"
   },
   {
    "duration": 48,
    "start_time": "2022-10-06T12:29:03.754Z"
   },
   {
    "duration": 30,
    "start_time": "2022-10-06T12:29:03.803Z"
   },
   {
    "duration": 13,
    "start_time": "2022-10-06T12:29:03.835Z"
   },
   {
    "duration": 26,
    "start_time": "2022-10-06T12:29:03.850Z"
   },
   {
    "duration": 33,
    "start_time": "2022-10-06T12:29:03.877Z"
   },
   {
    "duration": 3,
    "start_time": "2022-10-06T12:29:03.911Z"
   },
   {
    "duration": 10,
    "start_time": "2022-10-06T12:29:03.916Z"
   },
   {
    "duration": 20,
    "start_time": "2022-10-06T12:29:03.927Z"
   },
   {
    "duration": 8,
    "start_time": "2022-10-06T12:29:03.949Z"
   },
   {
    "duration": 9,
    "start_time": "2022-10-06T12:29:03.959Z"
   },
   {
    "duration": 32,
    "start_time": "2022-10-06T12:29:03.969Z"
   },
   {
    "duration": 13,
    "start_time": "2022-10-06T12:29:04.002Z"
   },
   {
    "duration": 7,
    "start_time": "2022-10-06T12:29:04.016Z"
   },
   {
    "duration": 7,
    "start_time": "2022-10-06T12:29:04.024Z"
   },
   {
    "duration": 218,
    "start_time": "2022-10-06T12:29:04.032Z"
   },
   {
    "duration": 5,
    "start_time": "2022-10-06T12:29:04.252Z"
   },
   {
    "duration": 6,
    "start_time": "2022-10-06T12:29:04.259Z"
   },
   {
    "duration": 8,
    "start_time": "2022-10-06T12:29:04.266Z"
   },
   {
    "duration": 12,
    "start_time": "2022-10-06T12:29:04.275Z"
   },
   {
    "duration": 14,
    "start_time": "2022-10-06T12:29:04.288Z"
   },
   {
    "duration": 8,
    "start_time": "2022-10-06T12:29:04.304Z"
   },
   {
    "duration": 8,
    "start_time": "2022-10-06T12:29:04.313Z"
   },
   {
    "duration": 6,
    "start_time": "2022-10-06T12:29:04.323Z"
   },
   {
    "duration": 38,
    "start_time": "2022-10-06T12:29:04.331Z"
   },
   {
    "duration": 3,
    "start_time": "2022-10-06T12:29:04.371Z"
   },
   {
    "duration": 25,
    "start_time": "2022-10-06T12:29:04.376Z"
   },
   {
    "duration": 15,
    "start_time": "2022-10-06T12:29:04.407Z"
   },
   {
    "duration": 8,
    "start_time": "2022-10-06T12:29:04.424Z"
   },
   {
    "duration": 17,
    "start_time": "2022-10-06T12:29:04.434Z"
   },
   {
    "duration": 23,
    "start_time": "2022-10-06T12:29:04.452Z"
   },
   {
    "duration": 13,
    "start_time": "2022-10-06T12:29:04.478Z"
   },
   {
    "duration": 12,
    "start_time": "2022-10-06T12:29:04.494Z"
   },
   {
    "duration": 33,
    "start_time": "2022-10-06T12:29:04.508Z"
   },
   {
    "duration": 103,
    "start_time": "2022-10-06T12:29:04.543Z"
   },
   {
    "duration": 8,
    "start_time": "2022-10-06T12:29:04.648Z"
   },
   {
    "duration": 162,
    "start_time": "2022-10-06T12:29:04.658Z"
   },
   {
    "duration": 9,
    "start_time": "2022-10-06T12:29:04.822Z"
   },
   {
    "duration": 229,
    "start_time": "2022-10-06T12:29:04.833Z"
   },
   {
    "duration": 3,
    "start_time": "2022-10-06T12:29:05.063Z"
   },
   {
    "duration": 1576,
    "start_time": "2022-10-06T12:29:05.067Z"
   },
   {
    "duration": 58,
    "start_time": "2022-10-06T12:29:06.644Z"
   },
   {
    "duration": 273,
    "start_time": "2022-10-06T12:29:06.704Z"
   },
   {
    "duration": 2,
    "start_time": "2022-10-06T12:29:06.979Z"
   },
   {
    "duration": 258,
    "start_time": "2022-10-06T12:29:06.988Z"
   },
   {
    "duration": 125,
    "start_time": "2022-10-06T12:29:07.248Z"
   },
   {
    "duration": 170,
    "start_time": "2022-10-06T12:29:07.375Z"
   },
   {
    "duration": 131,
    "start_time": "2022-10-06T12:29:07.546Z"
   },
   {
    "duration": 10,
    "start_time": "2022-10-06T12:29:07.679Z"
   },
   {
    "duration": 17,
    "start_time": "2022-10-06T12:29:07.690Z"
   },
   {
    "duration": 142,
    "start_time": "2022-10-06T12:29:07.708Z"
   },
   {
    "duration": 10,
    "start_time": "2022-10-06T12:29:07.852Z"
   },
   {
    "duration": 139,
    "start_time": "2022-10-06T12:29:07.863Z"
   },
   {
    "duration": 10,
    "start_time": "2022-10-06T12:29:08.003Z"
   },
   {
    "duration": 10,
    "start_time": "2022-10-06T12:29:08.014Z"
   },
   {
    "duration": 12,
    "start_time": "2022-10-06T12:29:08.026Z"
   },
   {
    "duration": 22,
    "start_time": "2022-10-06T12:29:08.040Z"
   },
   {
    "duration": 9,
    "start_time": "2022-10-06T12:29:08.064Z"
   },
   {
    "duration": 30,
    "start_time": "2022-10-06T12:29:08.075Z"
   },
   {
    "duration": 181,
    "start_time": "2022-10-06T12:29:08.106Z"
   },
   {
    "duration": 183,
    "start_time": "2022-10-06T12:29:08.288Z"
   },
   {
    "duration": 12,
    "start_time": "2022-10-06T12:29:08.472Z"
   },
   {
    "duration": 234,
    "start_time": "2022-10-06T12:29:08.486Z"
   },
   {
    "duration": 13,
    "start_time": "2022-10-06T12:29:08.721Z"
   },
   {
    "duration": 199,
    "start_time": "2022-10-06T12:29:08.735Z"
   },
   {
    "duration": 13,
    "start_time": "2022-10-06T12:29:08.935Z"
   },
   {
    "duration": 10,
    "start_time": "2022-10-06T12:29:08.950Z"
   },
   {
    "duration": 163,
    "start_time": "2022-10-06T12:29:08.961Z"
   },
   {
    "duration": 16,
    "start_time": "2022-10-06T12:29:09.126Z"
   },
   {
    "duration": 24,
    "start_time": "2022-10-06T12:29:09.143Z"
   },
   {
    "duration": 315,
    "start_time": "2022-10-06T12:29:09.169Z"
   },
   {
    "duration": 15,
    "start_time": "2022-10-06T12:29:09.486Z"
   },
   {
    "duration": 11,
    "start_time": "2022-10-06T12:29:09.503Z"
   },
   {
    "duration": 8,
    "start_time": "2022-10-06T12:29:09.515Z"
   },
   {
    "duration": 17,
    "start_time": "2022-10-06T12:29:09.524Z"
   },
   {
    "duration": 6,
    "start_time": "2022-10-06T12:29:09.542Z"
   },
   {
    "duration": 13,
    "start_time": "2022-10-06T12:29:09.550Z"
   },
   {
    "duration": 41,
    "start_time": "2022-10-06T12:29:09.565Z"
   },
   {
    "duration": 9,
    "start_time": "2022-10-06T12:29:09.607Z"
   },
   {
    "duration": 16,
    "start_time": "2022-10-06T12:29:09.617Z"
   },
   {
    "duration": 7,
    "start_time": "2022-10-06T12:29:09.634Z"
   },
   {
    "duration": 15,
    "start_time": "2022-10-06T12:29:09.703Z"
   },
   {
    "duration": 6,
    "start_time": "2022-10-06T12:29:09.720Z"
   },
   {
    "duration": 273,
    "start_time": "2022-10-06T12:29:42.056Z"
   },
   {
    "duration": 178,
    "start_time": "2022-10-06T12:29:59.923Z"
   },
   {
    "duration": 222,
    "start_time": "2022-10-06T12:30:10.535Z"
   },
   {
    "duration": 232,
    "start_time": "2022-10-06T12:30:22.952Z"
   },
   {
    "duration": 289,
    "start_time": "2022-10-06T12:30:34.266Z"
   },
   {
    "duration": 6,
    "start_time": "2022-10-06T12:34:03.627Z"
   },
   {
    "duration": 6,
    "start_time": "2022-10-06T12:35:10.805Z"
   },
   {
    "duration": 1373,
    "start_time": "2022-10-06T20:37:25.402Z"
   },
   {
    "duration": 103,
    "start_time": "2022-10-06T20:37:26.777Z"
   },
   {
    "duration": 34,
    "start_time": "2022-10-06T20:37:26.882Z"
   },
   {
    "duration": 17,
    "start_time": "2022-10-06T20:37:26.918Z"
   },
   {
    "duration": 37,
    "start_time": "2022-10-06T20:37:26.937Z"
   },
   {
    "duration": 16,
    "start_time": "2022-10-06T20:37:26.976Z"
   },
   {
    "duration": 14,
    "start_time": "2022-10-06T20:37:26.993Z"
   },
   {
    "duration": 36,
    "start_time": "2022-10-06T20:37:27.009Z"
   },
   {
    "duration": 41,
    "start_time": "2022-10-06T20:37:27.047Z"
   },
   {
    "duration": 32,
    "start_time": "2022-10-06T20:37:27.091Z"
   },
   {
    "duration": 34,
    "start_time": "2022-10-06T20:37:27.125Z"
   },
   {
    "duration": 14,
    "start_time": "2022-10-06T20:37:27.160Z"
   },
   {
    "duration": 29,
    "start_time": "2022-10-06T20:37:27.175Z"
   },
   {
    "duration": 11,
    "start_time": "2022-10-06T20:37:27.205Z"
   },
   {
    "duration": 17,
    "start_time": "2022-10-06T20:37:27.218Z"
   },
   {
    "duration": 232,
    "start_time": "2022-10-06T20:37:27.237Z"
   },
   {
    "duration": 6,
    "start_time": "2022-10-06T20:37:27.470Z"
   },
   {
    "duration": 10,
    "start_time": "2022-10-06T20:37:27.477Z"
   },
   {
    "duration": 13,
    "start_time": "2022-10-06T20:37:27.488Z"
   },
   {
    "duration": 14,
    "start_time": "2022-10-06T20:37:27.503Z"
   },
   {
    "duration": 10,
    "start_time": "2022-10-06T20:37:27.519Z"
   },
   {
    "duration": 39,
    "start_time": "2022-10-06T20:37:27.530Z"
   },
   {
    "duration": 12,
    "start_time": "2022-10-06T20:37:27.570Z"
   },
   {
    "duration": 14,
    "start_time": "2022-10-06T20:37:27.584Z"
   },
   {
    "duration": 29,
    "start_time": "2022-10-06T20:37:27.599Z"
   },
   {
    "duration": 3,
    "start_time": "2022-10-06T20:37:27.630Z"
   },
   {
    "duration": 11,
    "start_time": "2022-10-06T20:37:27.634Z"
   },
   {
    "duration": 5,
    "start_time": "2022-10-06T20:37:27.649Z"
   },
   {
    "duration": 5,
    "start_time": "2022-10-06T20:37:27.655Z"
   },
   {
    "duration": 12,
    "start_time": "2022-10-06T20:37:27.661Z"
   },
   {
    "duration": 14,
    "start_time": "2022-10-06T20:37:27.674Z"
   },
   {
    "duration": 7,
    "start_time": "2022-10-06T20:37:27.690Z"
   },
   {
    "duration": 7,
    "start_time": "2022-10-06T20:37:27.698Z"
   },
   {
    "duration": 21,
    "start_time": "2022-10-06T20:37:27.706Z"
   },
   {
    "duration": 91,
    "start_time": "2022-10-06T20:37:27.728Z"
   },
   {
    "duration": 6,
    "start_time": "2022-10-06T20:37:27.821Z"
   },
   {
    "duration": 185,
    "start_time": "2022-10-06T20:37:27.829Z"
   },
   {
    "duration": 10,
    "start_time": "2022-10-06T20:37:28.015Z"
   },
   {
    "duration": 273,
    "start_time": "2022-10-06T20:37:28.027Z"
   },
   {
    "duration": 3,
    "start_time": "2022-10-06T20:37:28.302Z"
   },
   {
    "duration": 1019,
    "start_time": "2022-10-06T20:37:28.306Z"
   },
   {
    "duration": 8,
    "start_time": "2022-10-06T20:37:29.327Z"
   },
   {
    "duration": 215,
    "start_time": "2022-10-06T20:37:29.336Z"
   },
   {
    "duration": 3,
    "start_time": "2022-10-06T20:37:29.554Z"
   },
   {
    "duration": 304,
    "start_time": "2022-10-06T20:37:29.559Z"
   },
   {
    "duration": 151,
    "start_time": "2022-10-06T20:37:29.865Z"
   },
   {
    "duration": 186,
    "start_time": "2022-10-06T20:37:30.018Z"
   },
   {
    "duration": 159,
    "start_time": "2022-10-06T20:37:30.206Z"
   },
   {
    "duration": 10,
    "start_time": "2022-10-06T20:37:30.367Z"
   },
   {
    "duration": 38,
    "start_time": "2022-10-06T20:37:30.379Z"
   },
   {
    "duration": 206,
    "start_time": "2022-10-06T20:37:30.419Z"
   },
   {
    "duration": 11,
    "start_time": "2022-10-06T20:37:30.628Z"
   },
   {
    "duration": 568,
    "start_time": "2022-10-06T20:37:30.641Z"
   },
   {
    "duration": 69,
    "start_time": "2022-10-06T20:37:31.212Z"
   },
   {
    "duration": 126,
    "start_time": "2022-10-06T20:37:31.283Z"
   },
   {
    "duration": 77,
    "start_time": "2022-10-06T20:37:31.412Z"
   },
   {
    "duration": 57,
    "start_time": "2022-10-06T20:37:31.491Z"
   },
   {
    "duration": 35,
    "start_time": "2022-10-06T20:37:31.550Z"
   },
   {
    "duration": 44,
    "start_time": "2022-10-06T20:37:31.587Z"
   },
   {
    "duration": 240,
    "start_time": "2022-10-06T20:37:31.633Z"
   },
   {
    "duration": 222,
    "start_time": "2022-10-06T20:37:31.875Z"
   },
   {
    "duration": 13,
    "start_time": "2022-10-06T20:37:32.099Z"
   },
   {
    "duration": 314,
    "start_time": "2022-10-06T20:37:32.114Z"
   },
   {
    "duration": 24,
    "start_time": "2022-10-06T20:37:32.430Z"
   },
   {
    "duration": 220,
    "start_time": "2022-10-06T20:37:32.456Z"
   },
   {
    "duration": 19,
    "start_time": "2022-10-06T20:37:32.678Z"
   },
   {
    "duration": 32,
    "start_time": "2022-10-06T20:37:32.699Z"
   },
   {
    "duration": 187,
    "start_time": "2022-10-06T20:37:32.733Z"
   },
   {
    "duration": 16,
    "start_time": "2022-10-06T20:37:32.922Z"
   },
   {
    "duration": 26,
    "start_time": "2022-10-06T20:37:32.940Z"
   },
   {
    "duration": 317,
    "start_time": "2022-10-06T20:37:32.967Z"
   },
   {
    "duration": 15,
    "start_time": "2022-10-06T20:37:33.286Z"
   },
   {
    "duration": 11,
    "start_time": "2022-10-06T20:37:33.303Z"
   },
   {
    "duration": 6,
    "start_time": "2022-10-06T20:37:33.316Z"
   },
   {
    "duration": 39,
    "start_time": "2022-10-06T20:37:33.323Z"
   },
   {
    "duration": 7,
    "start_time": "2022-10-06T20:37:33.364Z"
   },
   {
    "duration": 18,
    "start_time": "2022-10-06T20:37:33.373Z"
   },
   {
    "duration": 6,
    "start_time": "2022-10-06T20:37:33.394Z"
   },
   {
    "duration": 11,
    "start_time": "2022-10-06T20:37:33.402Z"
   },
   {
    "duration": 46,
    "start_time": "2022-10-06T20:37:33.415Z"
   },
   {
    "duration": 8,
    "start_time": "2022-10-06T20:37:33.463Z"
   },
   {
    "duration": 15,
    "start_time": "2022-10-06T20:37:33.477Z"
   },
   {
    "duration": 7,
    "start_time": "2022-10-06T20:37:33.493Z"
   },
   {
    "duration": 1238,
    "start_time": "2022-10-06T20:45:07.848Z"
   },
   {
    "duration": 1048,
    "start_time": "2022-10-06T20:45:25.596Z"
   },
   {
    "duration": 191,
    "start_time": "2022-10-06T20:47:06.035Z"
   },
   {
    "duration": 181,
    "start_time": "2022-10-06T20:47:38.808Z"
   },
   {
    "duration": 286,
    "start_time": "2022-10-06T20:48:04.342Z"
   },
   {
    "duration": 7,
    "start_time": "2022-10-06T20:48:38.344Z"
   },
   {
    "duration": 217,
    "start_time": "2022-10-06T20:48:40.905Z"
   },
   {
    "duration": 7,
    "start_time": "2022-10-06T20:48:49.515Z"
   },
   {
    "duration": 184,
    "start_time": "2022-10-06T20:48:51.928Z"
   },
   {
    "duration": 283,
    "start_time": "2022-10-06T20:51:54.681Z"
   },
   {
    "duration": 155,
    "start_time": "2022-10-06T21:00:00.691Z"
   },
   {
    "duration": 197,
    "start_time": "2022-10-06T21:01:01.475Z"
   },
   {
    "duration": 165,
    "start_time": "2022-10-06T21:01:18.035Z"
   },
   {
    "duration": 147,
    "start_time": "2022-10-06T21:02:07.226Z"
   },
   {
    "duration": 265,
    "start_time": "2022-10-06T21:03:47.051Z"
   },
   {
    "duration": 384,
    "start_time": "2022-10-06T21:04:01.180Z"
   },
   {
    "duration": 248,
    "start_time": "2022-10-06T21:04:06.813Z"
   },
   {
    "duration": 285,
    "start_time": "2022-10-06T21:04:51.382Z"
   },
   {
    "duration": 160,
    "start_time": "2022-10-06T21:05:01.611Z"
   },
   {
    "duration": 141,
    "start_time": "2022-10-06T21:05:13.928Z"
   },
   {
    "duration": 271,
    "start_time": "2022-10-06T21:05:52.945Z"
   },
   {
    "duration": 252,
    "start_time": "2022-10-06T21:06:14.761Z"
   },
   {
    "duration": 359,
    "start_time": "2022-10-06T21:06:23.614Z"
   },
   {
    "duration": 48,
    "start_time": "2022-10-06T21:07:59.001Z"
   },
   {
    "duration": 274,
    "start_time": "2022-10-06T21:08:14.998Z"
   },
   {
    "duration": 275,
    "start_time": "2022-10-06T21:09:36.267Z"
   },
   {
    "duration": 301,
    "start_time": "2022-10-06T21:09:59.574Z"
   },
   {
    "duration": 298,
    "start_time": "2022-10-06T21:10:10.319Z"
   },
   {
    "duration": 1183,
    "start_time": "2022-10-06T21:20:45.814Z"
   },
   {
    "duration": 54,
    "start_time": "2022-10-06T21:20:47.000Z"
   },
   {
    "duration": 35,
    "start_time": "2022-10-06T21:20:47.056Z"
   },
   {
    "duration": 14,
    "start_time": "2022-10-06T21:20:47.093Z"
   },
   {
    "duration": 51,
    "start_time": "2022-10-06T21:20:47.109Z"
   },
   {
    "duration": 19,
    "start_time": "2022-10-06T21:20:47.162Z"
   },
   {
    "duration": 6,
    "start_time": "2022-10-06T21:20:47.183Z"
   },
   {
    "duration": 14,
    "start_time": "2022-10-06T21:20:47.191Z"
   },
   {
    "duration": 17,
    "start_time": "2022-10-06T21:20:47.207Z"
   },
   {
    "duration": 28,
    "start_time": "2022-10-06T21:20:47.227Z"
   },
   {
    "duration": 11,
    "start_time": "2022-10-06T21:20:47.257Z"
   },
   {
    "duration": 5,
    "start_time": "2022-10-06T21:20:47.270Z"
   },
   {
    "duration": 16,
    "start_time": "2022-10-06T21:20:47.276Z"
   },
   {
    "duration": 8,
    "start_time": "2022-10-06T21:20:47.293Z"
   },
   {
    "duration": 7,
    "start_time": "2022-10-06T21:20:47.303Z"
   },
   {
    "duration": 221,
    "start_time": "2022-10-06T21:20:47.312Z"
   },
   {
    "duration": 6,
    "start_time": "2022-10-06T21:20:47.534Z"
   },
   {
    "duration": 2,
    "start_time": "2022-10-06T21:20:47.555Z"
   },
   {
    "duration": 6,
    "start_time": "2022-10-06T21:20:47.559Z"
   },
   {
    "duration": 5,
    "start_time": "2022-10-06T21:20:47.567Z"
   },
   {
    "duration": 12,
    "start_time": "2022-10-06T21:20:47.573Z"
   },
   {
    "duration": 5,
    "start_time": "2022-10-06T21:20:47.587Z"
   },
   {
    "duration": 7,
    "start_time": "2022-10-06T21:20:47.593Z"
   },
   {
    "duration": 9,
    "start_time": "2022-10-06T21:20:47.602Z"
   },
   {
    "duration": 25,
    "start_time": "2022-10-06T21:20:47.613Z"
   },
   {
    "duration": 14,
    "start_time": "2022-10-06T21:20:47.640Z"
   },
   {
    "duration": 11,
    "start_time": "2022-10-06T21:20:47.656Z"
   },
   {
    "duration": 6,
    "start_time": "2022-10-06T21:20:47.672Z"
   },
   {
    "duration": 6,
    "start_time": "2022-10-06T21:20:47.680Z"
   },
   {
    "duration": 13,
    "start_time": "2022-10-06T21:20:47.687Z"
   },
   {
    "duration": 16,
    "start_time": "2022-10-06T21:20:47.701Z"
   },
   {
    "duration": 23,
    "start_time": "2022-10-06T21:20:47.719Z"
   },
   {
    "duration": 5,
    "start_time": "2022-10-06T21:20:47.744Z"
   },
   {
    "duration": 21,
    "start_time": "2022-10-06T21:20:47.751Z"
   },
   {
    "duration": 81,
    "start_time": "2022-10-06T21:20:47.773Z"
   },
   {
    "duration": 5,
    "start_time": "2022-10-06T21:20:47.856Z"
   },
   {
    "duration": 191,
    "start_time": "2022-10-06T21:20:47.863Z"
   },
   {
    "duration": 11,
    "start_time": "2022-10-06T21:20:48.056Z"
   },
   {
    "duration": 266,
    "start_time": "2022-10-06T21:20:48.069Z"
   },
   {
    "duration": 2,
    "start_time": "2022-10-06T21:20:48.337Z"
   },
   {
    "duration": 1047,
    "start_time": "2022-10-06T21:20:48.341Z"
   },
   {
    "duration": 6,
    "start_time": "2022-10-06T21:20:49.390Z"
   },
   {
    "duration": 198,
    "start_time": "2022-10-06T21:20:49.397Z"
   },
   {
    "duration": 250,
    "start_time": "2022-10-06T21:20:49.596Z"
   },
   {
    "duration": 153,
    "start_time": "2022-10-06T21:20:49.854Z"
   },
   {
    "duration": 296,
    "start_time": "2022-10-06T21:20:50.009Z"
   },
   {
    "duration": 251,
    "start_time": "2022-10-06T21:20:50.307Z"
   },
   {
    "duration": 156,
    "start_time": "2022-10-06T21:20:50.560Z"
   },
   {
    "duration": 179,
    "start_time": "2022-10-06T21:20:50.718Z"
   },
   {
    "duration": 150,
    "start_time": "2022-10-06T21:20:50.899Z"
   },
   {
    "duration": 11,
    "start_time": "2022-10-06T21:20:51.053Z"
   },
   {
    "duration": 14,
    "start_time": "2022-10-06T21:20:51.066Z"
   },
   {
    "duration": 179,
    "start_time": "2022-10-06T21:20:51.082Z"
   },
   {
    "duration": 14,
    "start_time": "2022-10-06T21:20:51.263Z"
   },
   {
    "duration": 198,
    "start_time": "2022-10-06T21:20:51.278Z"
   },
   {
    "duration": 13,
    "start_time": "2022-10-06T21:20:51.478Z"
   },
   {
    "duration": 25,
    "start_time": "2022-10-06T21:20:51.493Z"
   },
   {
    "duration": 29,
    "start_time": "2022-10-06T21:20:51.520Z"
   },
   {
    "duration": 31,
    "start_time": "2022-10-06T21:20:51.551Z"
   },
   {
    "duration": 30,
    "start_time": "2022-10-06T21:20:51.584Z"
   },
   {
    "duration": 44,
    "start_time": "2022-10-06T21:20:51.617Z"
   },
   {
    "duration": 628,
    "start_time": "2022-10-06T21:20:51.663Z"
   },
   {
    "duration": 409,
    "start_time": "2022-10-06T21:20:52.293Z"
   },
   {
    "duration": 14,
    "start_time": "2022-10-06T21:20:52.754Z"
   },
   {
    "duration": 587,
    "start_time": "2022-10-06T21:20:52.770Z"
   },
   {
    "duration": 14,
    "start_time": "2022-10-06T21:20:53.359Z"
   },
   {
    "duration": 331,
    "start_time": "2022-10-06T21:20:53.375Z"
   },
   {
    "duration": 17,
    "start_time": "2022-10-06T21:20:53.708Z"
   },
   {
    "duration": 36,
    "start_time": "2022-10-06T21:20:53.727Z"
   },
   {
    "duration": 194,
    "start_time": "2022-10-06T21:20:53.766Z"
   },
   {
    "duration": 17,
    "start_time": "2022-10-06T21:20:53.962Z"
   },
   {
    "duration": 13,
    "start_time": "2022-10-06T21:20:53.980Z"
   },
   {
    "duration": 210,
    "start_time": "2022-10-06T21:20:53.995Z"
   },
   {
    "duration": 15,
    "start_time": "2022-10-06T21:20:54.207Z"
   },
   {
    "duration": 8,
    "start_time": "2022-10-06T21:20:54.224Z"
   },
   {
    "duration": 28,
    "start_time": "2022-10-06T21:20:54.233Z"
   },
   {
    "duration": 20,
    "start_time": "2022-10-06T21:20:54.263Z"
   },
   {
    "duration": 7,
    "start_time": "2022-10-06T21:20:54.284Z"
   },
   {
    "duration": 17,
    "start_time": "2022-10-06T21:20:54.293Z"
   },
   {
    "duration": 6,
    "start_time": "2022-10-06T21:20:54.312Z"
   },
   {
    "duration": 40,
    "start_time": "2022-10-06T21:20:54.321Z"
   },
   {
    "duration": 17,
    "start_time": "2022-10-06T21:20:54.366Z"
   },
   {
    "duration": 8,
    "start_time": "2022-10-06T21:20:54.385Z"
   },
   {
    "duration": 20,
    "start_time": "2022-10-06T21:20:54.395Z"
   },
   {
    "duration": 40,
    "start_time": "2022-10-06T21:20:54.417Z"
   },
   {
    "duration": 403,
    "start_time": "2022-10-06T21:29:51.168Z"
   },
   {
    "duration": 297,
    "start_time": "2022-10-06T21:29:56.793Z"
   },
   {
    "duration": 412,
    "start_time": "2022-10-06T21:30:02.169Z"
   },
   {
    "duration": 161,
    "start_time": "2022-10-06T21:38:05.769Z"
   },
   {
    "duration": 183,
    "start_time": "2022-10-06T21:38:13.067Z"
   },
   {
    "duration": 192,
    "start_time": "2022-10-06T21:38:53.493Z"
   },
   {
    "duration": 179,
    "start_time": "2022-10-06T21:39:06.862Z"
   },
   {
    "duration": 171,
    "start_time": "2022-10-06T21:40:44.197Z"
   },
   {
    "duration": 10,
    "start_time": "2022-10-06T21:41:35.158Z"
   },
   {
    "duration": 10,
    "start_time": "2022-10-06T21:41:37.820Z"
   },
   {
    "duration": 10,
    "start_time": "2022-10-06T21:41:43.712Z"
   },
   {
    "duration": 10,
    "start_time": "2022-10-06T21:46:30.264Z"
   },
   {
    "duration": 3,
    "start_time": "2022-10-06T21:50:11.213Z"
   },
   {
    "duration": 4,
    "start_time": "2022-10-06T21:50:47.670Z"
   },
   {
    "duration": 132,
    "start_time": "2022-10-06T21:51:53.037Z"
   },
   {
    "duration": 703,
    "start_time": "2022-10-06T21:52:13.812Z"
   },
   {
    "duration": 826,
    "start_time": "2022-10-06T21:52:43.170Z"
   },
   {
    "duration": 943,
    "start_time": "2022-10-06T21:52:56.843Z"
   },
   {
    "duration": 820,
    "start_time": "2022-10-06T21:54:25.766Z"
   },
   {
    "duration": 27,
    "start_time": "2022-10-06T21:55:57.151Z"
   },
   {
    "duration": 26,
    "start_time": "2022-10-06T21:56:03.270Z"
   },
   {
    "duration": 29,
    "start_time": "2022-10-06T21:58:34.859Z"
   },
   {
    "duration": 28,
    "start_time": "2022-10-06T21:58:53.220Z"
   },
   {
    "duration": 39,
    "start_time": "2022-10-06T21:58:59.365Z"
   },
   {
    "duration": 52,
    "start_time": "2022-10-06T22:02:25.277Z"
   },
   {
    "duration": 71,
    "start_time": "2022-10-06T22:02:30.938Z"
   },
   {
    "duration": 4,
    "start_time": "2022-10-06T22:02:36.062Z"
   },
   {
    "duration": 4,
    "start_time": "2022-10-06T22:07:38.186Z"
   },
   {
    "duration": 3,
    "start_time": "2022-10-06T22:07:41.992Z"
   },
   {
    "duration": 286,
    "start_time": "2022-10-06T22:07:45.277Z"
   },
   {
    "duration": 5,
    "start_time": "2022-10-06T22:07:49.832Z"
   },
   {
    "duration": 4,
    "start_time": "2022-10-06T22:08:59.143Z"
   },
   {
    "duration": 3,
    "start_time": "2022-10-06T22:09:06.208Z"
   },
   {
    "duration": 105,
    "start_time": "2022-10-06T22:09:11.226Z"
   },
   {
    "duration": 27,
    "start_time": "2022-10-06T22:10:57.709Z"
   },
   {
    "duration": 27,
    "start_time": "2022-10-06T22:11:00.430Z"
   },
   {
    "duration": 30,
    "start_time": "2022-10-06T22:11:12.446Z"
   },
   {
    "duration": 28,
    "start_time": "2022-10-06T22:11:31.301Z"
   },
   {
    "duration": 28,
    "start_time": "2022-10-06T22:11:36.002Z"
   },
   {
    "duration": 31,
    "start_time": "2022-10-06T22:14:00.145Z"
   },
   {
    "duration": 145,
    "start_time": "2022-10-06T22:14:51.380Z"
   },
   {
    "duration": 3,
    "start_time": "2022-10-06T22:14:56.992Z"
   },
   {
    "duration": 4,
    "start_time": "2022-10-06T22:15:54.905Z"
   },
   {
    "duration": 11,
    "start_time": "2022-10-06T22:15:58.173Z"
   },
   {
    "duration": 11,
    "start_time": "2022-10-06T22:16:06.535Z"
   },
   {
    "duration": 14,
    "start_time": "2022-10-06T22:20:05.127Z"
   },
   {
    "duration": 3,
    "start_time": "2022-10-06T22:20:12.848Z"
   },
   {
    "duration": 10,
    "start_time": "2022-10-06T22:20:48.350Z"
   },
   {
    "duration": 3,
    "start_time": "2022-10-06T22:20:51.598Z"
   },
   {
    "duration": 70,
    "start_time": "2022-10-06T22:20:55.491Z"
   },
   {
    "duration": 4,
    "start_time": "2022-10-06T22:21:01.953Z"
   },
   {
    "duration": 3,
    "start_time": "2022-10-06T22:21:06.482Z"
   },
   {
    "duration": 3,
    "start_time": "2022-10-06T22:21:16.778Z"
   },
   {
    "duration": 68,
    "start_time": "2022-10-06T22:21:22.124Z"
   },
   {
    "duration": 14,
    "start_time": "2022-10-06T22:25:49.922Z"
   },
   {
    "duration": 16,
    "start_time": "2022-10-06T22:26:20.638Z"
   },
   {
    "duration": 18,
    "start_time": "2022-10-06T22:26:27.672Z"
   },
   {
    "duration": 16,
    "start_time": "2022-10-06T22:26:33.311Z"
   },
   {
    "duration": 2,
    "start_time": "2022-10-06T22:28:05.833Z"
   },
   {
    "duration": 833,
    "start_time": "2022-10-06T22:28:07.947Z"
   },
   {
    "duration": 817,
    "start_time": "2022-10-06T22:28:14.637Z"
   },
   {
    "duration": 16,
    "start_time": "2022-10-06T22:28:20.170Z"
   },
   {
    "duration": 16,
    "start_time": "2022-10-06T22:29:02.993Z"
   },
   {
    "duration": 204,
    "start_time": "2022-10-06T22:30:23.967Z"
   },
   {
    "duration": 13,
    "start_time": "2022-10-06T22:36:40.046Z"
   },
   {
    "duration": 180,
    "start_time": "2022-10-06T22:36:54.616Z"
   },
   {
    "duration": 14,
    "start_time": "2022-10-06T22:38:09.028Z"
   },
   {
    "duration": 184,
    "start_time": "2022-10-06T22:38:19.286Z"
   },
   {
    "duration": 15,
    "start_time": "2022-10-06T22:39:36.756Z"
   },
   {
    "duration": 13,
    "start_time": "2022-10-06T22:41:20.401Z"
   },
   {
    "duration": 311,
    "start_time": "2022-10-06T22:41:56.983Z"
   },
   {
    "duration": 16,
    "start_time": "2022-10-06T22:42:43.678Z"
   },
   {
    "duration": 14,
    "start_time": "2022-10-06T22:44:16.018Z"
   },
   {
    "duration": 176,
    "start_time": "2022-10-06T22:45:02.314Z"
   },
   {
    "duration": 14,
    "start_time": "2022-10-06T22:46:23.097Z"
   },
   {
    "duration": 53,
    "start_time": "2022-10-07T11:26:52.464Z"
   },
   {
    "duration": 1463,
    "start_time": "2022-10-07T11:26:58.864Z"
   },
   {
    "duration": 101,
    "start_time": "2022-10-07T11:27:00.329Z"
   },
   {
    "duration": 46,
    "start_time": "2022-10-07T11:27:00.432Z"
   },
   {
    "duration": 138,
    "start_time": "2022-10-07T11:27:00.481Z"
   },
   {
    "duration": 66,
    "start_time": "2022-10-07T11:27:00.620Z"
   },
   {
    "duration": 19,
    "start_time": "2022-10-07T11:27:00.689Z"
   },
   {
    "duration": 24,
    "start_time": "2022-10-07T11:27:00.710Z"
   },
   {
    "duration": 57,
    "start_time": "2022-10-07T11:27:00.737Z"
   },
   {
    "duration": 84,
    "start_time": "2022-10-07T11:27:00.796Z"
   },
   {
    "duration": 56,
    "start_time": "2022-10-07T11:27:00.884Z"
   },
   {
    "duration": 46,
    "start_time": "2022-10-07T11:27:00.942Z"
   },
   {
    "duration": 68,
    "start_time": "2022-10-07T11:27:00.990Z"
   },
   {
    "duration": 34,
    "start_time": "2022-10-07T11:27:01.061Z"
   },
   {
    "duration": 141,
    "start_time": "2022-10-07T11:27:01.097Z"
   },
   {
    "duration": 43,
    "start_time": "2022-10-07T11:27:01.241Z"
   },
   {
    "duration": 256,
    "start_time": "2022-10-07T11:27:01.286Z"
   },
   {
    "duration": 12,
    "start_time": "2022-10-07T11:27:01.544Z"
   },
   {
    "duration": 36,
    "start_time": "2022-10-07T11:27:01.558Z"
   },
   {
    "duration": 40,
    "start_time": "2022-10-07T11:27:01.597Z"
   },
   {
    "duration": 40,
    "start_time": "2022-10-07T11:27:01.639Z"
   },
   {
    "duration": 81,
    "start_time": "2022-10-07T11:27:01.682Z"
   },
   {
    "duration": 65,
    "start_time": "2022-10-07T11:27:01.765Z"
   },
   {
    "duration": 38,
    "start_time": "2022-10-07T11:27:01.832Z"
   },
   {
    "duration": 34,
    "start_time": "2022-10-07T11:27:01.872Z"
   },
   {
    "duration": 22,
    "start_time": "2022-10-07T11:27:01.908Z"
   },
   {
    "duration": 19,
    "start_time": "2022-10-07T11:27:01.932Z"
   },
   {
    "duration": 43,
    "start_time": "2022-10-07T11:27:01.953Z"
   },
   {
    "duration": 11,
    "start_time": "2022-10-07T11:27:02.001Z"
   },
   {
    "duration": 11,
    "start_time": "2022-10-07T11:27:02.014Z"
   },
   {
    "duration": 33,
    "start_time": "2022-10-07T11:27:02.027Z"
   },
   {
    "duration": 14,
    "start_time": "2022-10-07T11:27:02.062Z"
   },
   {
    "duration": 22,
    "start_time": "2022-10-07T11:27:02.078Z"
   },
   {
    "duration": 55,
    "start_time": "2022-10-07T11:27:02.102Z"
   },
   {
    "duration": 47,
    "start_time": "2022-10-07T11:27:02.159Z"
   },
   {
    "duration": 191,
    "start_time": "2022-10-07T11:27:02.207Z"
   },
   {
    "duration": 9,
    "start_time": "2022-10-07T11:27:02.456Z"
   },
   {
    "duration": 407,
    "start_time": "2022-10-07T11:27:02.467Z"
   },
   {
    "duration": 10,
    "start_time": "2022-10-07T11:27:02.876Z"
   },
   {
    "duration": 571,
    "start_time": "2022-10-07T11:27:02.887Z"
   },
   {
    "duration": 3,
    "start_time": "2022-10-07T11:27:03.461Z"
   },
   {
    "duration": 1270,
    "start_time": "2022-10-07T11:27:03.466Z"
   },
   {
    "duration": 16,
    "start_time": "2022-10-07T11:27:04.738Z"
   },
   {
    "duration": 198,
    "start_time": "2022-10-07T11:27:04.756Z"
   },
   {
    "duration": 285,
    "start_time": "2022-10-07T11:27:04.955Z"
   },
   {
    "duration": 163,
    "start_time": "2022-10-07T11:27:05.242Z"
   },
   {
    "duration": 353,
    "start_time": "2022-10-07T11:27:05.407Z"
   },
   {
    "duration": 280,
    "start_time": "2022-10-07T11:27:05.762Z"
   },
   {
    "duration": 214,
    "start_time": "2022-10-07T11:27:06.044Z"
   },
   {
    "duration": 198,
    "start_time": "2022-10-07T11:27:06.260Z"
   },
   {
    "duration": 215,
    "start_time": "2022-10-07T11:27:06.460Z"
   },
   {
    "duration": 10,
    "start_time": "2022-10-07T11:27:06.678Z"
   },
   {
    "duration": 14,
    "start_time": "2022-10-07T11:27:06.690Z"
   },
   {
    "duration": 6,
    "start_time": "2022-10-07T11:27:06.706Z"
   },
   {
    "duration": 866,
    "start_time": "2022-10-07T11:27:06.714Z"
   },
   {
    "duration": 979,
    "start_time": "2022-10-07T11:27:07.582Z"
   },
   {
    "duration": 15,
    "start_time": "2022-10-07T11:27:08.563Z"
   },
   {
    "duration": 14,
    "start_time": "2022-10-07T11:27:08.580Z"
   },
   {
    "duration": 16,
    "start_time": "2022-10-07T11:27:08.596Z"
   },
   {
    "duration": 233,
    "start_time": "2022-10-07T11:27:08.614Z"
   },
   {
    "duration": 214,
    "start_time": "2022-10-07T11:27:08.849Z"
   },
   {
    "duration": 14,
    "start_time": "2022-10-07T11:27:09.065Z"
   },
   {
    "duration": 200,
    "start_time": "2022-10-07T11:27:09.082Z"
   },
   {
    "duration": 13,
    "start_time": "2022-10-07T11:27:09.285Z"
   },
   {
    "duration": 207,
    "start_time": "2022-10-07T11:27:09.300Z"
   },
   {
    "duration": 15,
    "start_time": "2022-10-07T11:27:09.509Z"
   },
   {
    "duration": 29,
    "start_time": "2022-10-07T11:27:09.526Z"
   },
   {
    "duration": 202,
    "start_time": "2022-10-07T11:27:09.557Z"
   },
   {
    "duration": 16,
    "start_time": "2022-10-07T11:27:09.761Z"
   },
   {
    "duration": 24,
    "start_time": "2022-10-07T11:27:09.778Z"
   },
   {
    "duration": 208,
    "start_time": "2022-10-07T11:27:09.805Z"
   },
   {
    "duration": 21,
    "start_time": "2022-10-07T11:27:10.016Z"
   },
   {
    "duration": 14,
    "start_time": "2022-10-07T11:27:10.054Z"
   },
   {
    "duration": 17,
    "start_time": "2022-10-07T11:27:10.070Z"
   },
   {
    "duration": 32,
    "start_time": "2022-10-07T11:27:10.089Z"
   },
   {
    "duration": 16,
    "start_time": "2022-10-07T11:27:10.123Z"
   },
   {
    "duration": 32,
    "start_time": "2022-10-07T11:27:10.142Z"
   },
   {
    "duration": 7,
    "start_time": "2022-10-07T11:27:10.175Z"
   },
   {
    "duration": 13,
    "start_time": "2022-10-07T11:27:10.185Z"
   },
   {
    "duration": 36,
    "start_time": "2022-10-07T11:27:10.200Z"
   },
   {
    "duration": 21,
    "start_time": "2022-10-07T11:27:10.238Z"
   },
   {
    "duration": 30,
    "start_time": "2022-10-07T11:27:10.261Z"
   },
   {
    "duration": 10,
    "start_time": "2022-10-07T11:27:10.299Z"
   },
   {
    "duration": 27,
    "start_time": "2022-10-07T11:27:21.397Z"
   },
   {
    "duration": 31,
    "start_time": "2022-10-07T11:27:36.417Z"
   },
   {
    "duration": 3,
    "start_time": "2022-10-07T11:29:38.565Z"
   },
   {
    "duration": 6,
    "start_time": "2022-10-07T11:32:07.479Z"
   },
   {
    "duration": 4,
    "start_time": "2022-10-07T11:32:15.842Z"
   },
   {
    "duration": 308,
    "start_time": "2022-10-07T11:32:20.648Z"
   },
   {
    "duration": 5,
    "start_time": "2022-10-07T11:32:43.642Z"
   },
   {
    "duration": 164,
    "start_time": "2022-10-07T11:32:47.289Z"
   },
   {
    "duration": 186,
    "start_time": "2022-10-07T11:33:09.009Z"
   },
   {
    "duration": 173,
    "start_time": "2022-10-07T11:33:11.928Z"
   },
   {
    "duration": 1330,
    "start_time": "2022-10-07T11:33:19.971Z"
   },
   {
    "duration": 57,
    "start_time": "2022-10-07T11:33:21.303Z"
   },
   {
    "duration": 44,
    "start_time": "2022-10-07T11:33:21.361Z"
   },
   {
    "duration": 16,
    "start_time": "2022-10-07T11:33:21.408Z"
   },
   {
    "duration": 67,
    "start_time": "2022-10-07T11:33:21.426Z"
   },
   {
    "duration": 27,
    "start_time": "2022-10-07T11:33:21.495Z"
   },
   {
    "duration": 32,
    "start_time": "2022-10-07T11:33:21.525Z"
   },
   {
    "duration": 19,
    "start_time": "2022-10-07T11:33:21.560Z"
   },
   {
    "duration": 35,
    "start_time": "2022-10-07T11:33:21.582Z"
   },
   {
    "duration": 26,
    "start_time": "2022-10-07T11:33:21.621Z"
   },
   {
    "duration": 22,
    "start_time": "2022-10-07T11:33:21.651Z"
   },
   {
    "duration": 18,
    "start_time": "2022-10-07T11:33:21.676Z"
   },
   {
    "duration": 28,
    "start_time": "2022-10-07T11:33:21.696Z"
   },
   {
    "duration": 14,
    "start_time": "2022-10-07T11:33:21.727Z"
   },
   {
    "duration": 16,
    "start_time": "2022-10-07T11:33:21.744Z"
   },
   {
    "duration": 232,
    "start_time": "2022-10-07T11:33:21.763Z"
   },
   {
    "duration": 4,
    "start_time": "2022-10-07T11:33:21.997Z"
   },
   {
    "duration": 12,
    "start_time": "2022-10-07T11:33:22.003Z"
   },
   {
    "duration": 9,
    "start_time": "2022-10-07T11:33:22.017Z"
   },
   {
    "duration": 6,
    "start_time": "2022-10-07T11:33:22.028Z"
   },
   {
    "duration": 6,
    "start_time": "2022-10-07T11:33:22.036Z"
   },
   {
    "duration": 11,
    "start_time": "2022-10-07T11:33:22.043Z"
   },
   {
    "duration": 14,
    "start_time": "2022-10-07T11:33:22.056Z"
   },
   {
    "duration": 29,
    "start_time": "2022-10-07T11:33:22.072Z"
   },
   {
    "duration": 11,
    "start_time": "2022-10-07T11:33:22.102Z"
   },
   {
    "duration": 39,
    "start_time": "2022-10-07T11:33:22.115Z"
   },
   {
    "duration": 10,
    "start_time": "2022-10-07T11:33:22.157Z"
   },
   {
    "duration": 8,
    "start_time": "2022-10-07T11:33:22.172Z"
   },
   {
    "duration": 30,
    "start_time": "2022-10-07T11:33:22.182Z"
   },
   {
    "duration": 126,
    "start_time": "2022-10-07T11:33:22.215Z"
   },
   {
    "duration": 7,
    "start_time": "2022-10-07T11:33:22.353Z"
   },
   {
    "duration": 195,
    "start_time": "2022-10-07T11:33:22.362Z"
   },
   {
    "duration": 10,
    "start_time": "2022-10-07T11:33:22.559Z"
   },
   {
    "duration": 279,
    "start_time": "2022-10-07T11:33:22.571Z"
   },
   {
    "duration": 5,
    "start_time": "2022-10-07T11:33:22.854Z"
   },
   {
    "duration": 1176,
    "start_time": "2022-10-07T11:33:22.860Z"
   },
   {
    "duration": 7,
    "start_time": "2022-10-07T11:33:24.038Z"
   },
   {
    "duration": 196,
    "start_time": "2022-10-07T11:33:24.054Z"
   },
   {
    "duration": 263,
    "start_time": "2022-10-07T11:33:24.255Z"
   },
   {
    "duration": 171,
    "start_time": "2022-10-07T11:33:24.520Z"
   },
   {
    "duration": 329,
    "start_time": "2022-10-07T11:33:24.694Z"
   },
   {
    "duration": 280,
    "start_time": "2022-10-07T11:33:25.025Z"
   },
   {
    "duration": 212,
    "start_time": "2022-10-07T11:33:25.307Z"
   },
   {
    "duration": 200,
    "start_time": "2022-10-07T11:33:25.522Z"
   },
   {
    "duration": 204,
    "start_time": "2022-10-07T11:33:25.724Z"
   },
   {
    "duration": 10,
    "start_time": "2022-10-07T11:33:25.930Z"
   },
   {
    "duration": 17,
    "start_time": "2022-10-07T11:33:25.942Z"
   },
   {
    "duration": 9,
    "start_time": "2022-10-07T11:33:25.961Z"
   },
   {
    "duration": 875,
    "start_time": "2022-10-07T11:33:25.972Z"
   },
   {
    "duration": 1735,
    "start_time": "2022-10-07T11:33:26.849Z"
   },
   {
    "duration": 78,
    "start_time": "2022-10-07T11:33:28.586Z"
   },
   {
    "duration": 17,
    "start_time": "2022-10-07T11:33:28.666Z"
   },
   {
    "duration": 71,
    "start_time": "2022-10-07T11:33:28.685Z"
   },
   {
    "duration": 415,
    "start_time": "2022-10-07T11:33:28.757Z"
   },
   {
    "duration": 223,
    "start_time": "2022-10-07T11:33:29.174Z"
   },
   {
    "duration": 15,
    "start_time": "2022-10-07T11:33:29.399Z"
   },
   {
    "duration": 198,
    "start_time": "2022-10-07T11:33:29.416Z"
   },
   {
    "duration": 13,
    "start_time": "2022-10-07T11:33:29.616Z"
   },
   {
    "duration": 206,
    "start_time": "2022-10-07T11:33:29.631Z"
   },
   {
    "duration": 26,
    "start_time": "2022-10-07T11:33:29.840Z"
   },
   {
    "duration": 38,
    "start_time": "2022-10-07T11:33:29.868Z"
   },
   {
    "duration": 201,
    "start_time": "2022-10-07T11:33:29.908Z"
   },
   {
    "duration": 16,
    "start_time": "2022-10-07T11:33:30.111Z"
   },
   {
    "duration": 31,
    "start_time": "2022-10-07T11:33:30.129Z"
   },
   {
    "duration": 224,
    "start_time": "2022-10-07T11:33:30.162Z"
   },
   {
    "duration": 15,
    "start_time": "2022-10-07T11:33:30.388Z"
   },
   {
    "duration": 26,
    "start_time": "2022-10-07T11:33:30.405Z"
   },
   {
    "duration": 23,
    "start_time": "2022-10-07T11:33:30.433Z"
   },
   {
    "duration": 87,
    "start_time": "2022-10-07T11:33:30.458Z"
   },
   {
    "duration": 35,
    "start_time": "2022-10-07T11:33:30.547Z"
   },
   {
    "duration": 61,
    "start_time": "2022-10-07T11:33:30.584Z"
   },
   {
    "duration": 24,
    "start_time": "2022-10-07T11:33:30.647Z"
   },
   {
    "duration": 45,
    "start_time": "2022-10-07T11:33:30.673Z"
   },
   {
    "duration": 81,
    "start_time": "2022-10-07T11:33:30.720Z"
   },
   {
    "duration": 23,
    "start_time": "2022-10-07T11:33:30.803Z"
   },
   {
    "duration": 35,
    "start_time": "2022-10-07T11:33:30.828Z"
   },
   {
    "duration": 18,
    "start_time": "2022-10-07T11:33:30.864Z"
   },
   {
    "duration": 12,
    "start_time": "2022-10-07T11:34:03.864Z"
   },
   {
    "duration": 222,
    "start_time": "2022-10-07T11:35:26.018Z"
   },
   {
    "duration": 856,
    "start_time": "2022-10-07T11:36:44.684Z"
   },
   {
    "duration": 4,
    "start_time": "2022-10-07T11:38:07.888Z"
   },
   {
    "duration": 1041,
    "start_time": "2022-10-07T11:38:11.881Z"
   },
   {
    "duration": 883,
    "start_time": "2022-10-07T11:44:56.107Z"
   },
   {
    "duration": 895,
    "start_time": "2022-10-07T11:45:07.498Z"
   },
   {
    "duration": 20,
    "start_time": "2022-10-07T11:45:53.031Z"
   },
   {
    "duration": 1242,
    "start_time": "2022-10-07T11:46:45.897Z"
   },
   {
    "duration": 64,
    "start_time": "2022-10-07T11:46:47.142Z"
   },
   {
    "duration": 48,
    "start_time": "2022-10-07T11:46:47.208Z"
   },
   {
    "duration": 17,
    "start_time": "2022-10-07T11:46:47.258Z"
   },
   {
    "duration": 50,
    "start_time": "2022-10-07T11:46:47.278Z"
   },
   {
    "duration": 41,
    "start_time": "2022-10-07T11:46:47.330Z"
   },
   {
    "duration": 6,
    "start_time": "2022-10-07T11:46:47.373Z"
   },
   {
    "duration": 24,
    "start_time": "2022-10-07T11:46:47.381Z"
   },
   {
    "duration": 24,
    "start_time": "2022-10-07T11:46:47.408Z"
   },
   {
    "duration": 8,
    "start_time": "2022-10-07T11:46:47.453Z"
   },
   {
    "duration": 21,
    "start_time": "2022-10-07T11:46:47.462Z"
   },
   {
    "duration": 8,
    "start_time": "2022-10-07T11:46:47.485Z"
   },
   {
    "duration": 21,
    "start_time": "2022-10-07T11:46:47.495Z"
   },
   {
    "duration": 38,
    "start_time": "2022-10-07T11:46:47.518Z"
   },
   {
    "duration": 6,
    "start_time": "2022-10-07T11:46:47.558Z"
   },
   {
    "duration": 216,
    "start_time": "2022-10-07T11:46:47.565Z"
   },
   {
    "duration": 3,
    "start_time": "2022-10-07T11:46:47.783Z"
   },
   {
    "duration": 8,
    "start_time": "2022-10-07T11:46:47.787Z"
   },
   {
    "duration": 23,
    "start_time": "2022-10-07T11:46:47.797Z"
   },
   {
    "duration": 29,
    "start_time": "2022-10-07T11:46:47.823Z"
   },
   {
    "duration": 26,
    "start_time": "2022-10-07T11:46:47.854Z"
   },
   {
    "duration": 19,
    "start_time": "2022-10-07T11:46:47.882Z"
   },
   {
    "duration": 22,
    "start_time": "2022-10-07T11:46:47.902Z"
   },
   {
    "duration": 38,
    "start_time": "2022-10-07T11:46:47.926Z"
   },
   {
    "duration": 22,
    "start_time": "2022-10-07T11:46:47.966Z"
   },
   {
    "duration": 17,
    "start_time": "2022-10-07T11:46:47.990Z"
   },
   {
    "duration": 15,
    "start_time": "2022-10-07T11:46:48.009Z"
   },
   {
    "duration": 20,
    "start_time": "2022-10-07T11:46:48.029Z"
   },
   {
    "duration": 27,
    "start_time": "2022-10-07T11:46:48.051Z"
   },
   {
    "duration": 96,
    "start_time": "2022-10-07T11:46:48.080Z"
   },
   {
    "duration": 8,
    "start_time": "2022-10-07T11:46:48.178Z"
   },
   {
    "duration": 190,
    "start_time": "2022-10-07T11:46:48.188Z"
   },
   {
    "duration": 12,
    "start_time": "2022-10-07T11:46:48.380Z"
   },
   {
    "duration": 299,
    "start_time": "2022-10-07T11:46:48.394Z"
   },
   {
    "duration": 3,
    "start_time": "2022-10-07T11:46:48.695Z"
   },
   {
    "duration": 1139,
    "start_time": "2022-10-07T11:46:48.700Z"
   },
   {
    "duration": 15,
    "start_time": "2022-10-07T11:46:49.841Z"
   },
   {
    "duration": 226,
    "start_time": "2022-10-07T11:46:49.858Z"
   },
   {
    "duration": 277,
    "start_time": "2022-10-07T11:46:50.086Z"
   },
   {
    "duration": 183,
    "start_time": "2022-10-07T11:46:50.364Z"
   },
   {
    "duration": 330,
    "start_time": "2022-10-07T11:46:50.549Z"
   },
   {
    "duration": 288,
    "start_time": "2022-10-07T11:46:50.880Z"
   },
   {
    "duration": 205,
    "start_time": "2022-10-07T11:46:51.170Z"
   },
   {
    "duration": 272,
    "start_time": "2022-10-07T11:46:51.376Z"
   },
   {
    "duration": 210,
    "start_time": "2022-10-07T11:46:51.650Z"
   },
   {
    "duration": 11,
    "start_time": "2022-10-07T11:46:51.862Z"
   },
   {
    "duration": 16,
    "start_time": "2022-10-07T11:46:51.875Z"
   },
   {
    "duration": 7,
    "start_time": "2022-10-07T11:46:51.893Z"
   },
   {
    "duration": 1066,
    "start_time": "2022-10-07T11:46:51.902Z"
   },
   {
    "duration": 913,
    "start_time": "2022-10-07T11:46:52.971Z"
   },
   {
    "duration": 16,
    "start_time": "2022-10-07T11:46:53.886Z"
   },
   {
    "duration": 21,
    "start_time": "2022-10-07T11:46:53.904Z"
   },
   {
    "duration": 40,
    "start_time": "2022-10-07T11:46:53.927Z"
   },
   {
    "duration": 227,
    "start_time": "2022-10-07T11:46:53.969Z"
   },
   {
    "duration": 219,
    "start_time": "2022-10-07T11:46:54.198Z"
   },
   {
    "duration": 13,
    "start_time": "2022-10-07T11:46:54.418Z"
   },
   {
    "duration": 211,
    "start_time": "2022-10-07T11:46:54.433Z"
   },
   {
    "duration": 23,
    "start_time": "2022-10-07T11:46:54.646Z"
   },
   {
    "duration": 199,
    "start_time": "2022-10-07T11:46:54.672Z"
   },
   {
    "duration": 20,
    "start_time": "2022-10-07T11:46:54.873Z"
   },
   {
    "duration": 25,
    "start_time": "2022-10-07T11:46:54.895Z"
   },
   {
    "duration": 224,
    "start_time": "2022-10-07T11:46:54.922Z"
   },
   {
    "duration": 15,
    "start_time": "2022-10-07T11:46:55.155Z"
   },
   {
    "duration": 30,
    "start_time": "2022-10-07T11:46:55.171Z"
   },
   {
    "duration": 190,
    "start_time": "2022-10-07T11:46:55.203Z"
   },
   {
    "duration": 16,
    "start_time": "2022-10-07T11:46:55.395Z"
   },
   {
    "duration": 22,
    "start_time": "2022-10-07T11:46:55.412Z"
   },
   {
    "duration": 20,
    "start_time": "2022-10-07T11:46:55.436Z"
   },
   {
    "duration": 26,
    "start_time": "2022-10-07T11:46:55.458Z"
   },
   {
    "duration": 8,
    "start_time": "2022-10-07T11:46:55.485Z"
   },
   {
    "duration": 65,
    "start_time": "2022-10-07T11:46:55.494Z"
   },
   {
    "duration": 7,
    "start_time": "2022-10-07T11:46:55.561Z"
   },
   {
    "duration": 12,
    "start_time": "2022-10-07T11:46:55.570Z"
   },
   {
    "duration": 75,
    "start_time": "2022-10-07T11:46:55.584Z"
   },
   {
    "duration": 14,
    "start_time": "2022-10-07T11:46:55.661Z"
   },
   {
    "duration": 26,
    "start_time": "2022-10-07T11:46:55.680Z"
   },
   {
    "duration": 7,
    "start_time": "2022-10-07T11:46:55.753Z"
   },
   {
    "duration": 247,
    "start_time": "2022-10-07T11:47:50.369Z"
   },
   {
    "duration": 318,
    "start_time": "2022-10-07T11:48:28.105Z"
   },
   {
    "duration": 69,
    "start_time": "2022-10-07T11:51:56.861Z"
   },
   {
    "duration": 352,
    "start_time": "2022-10-07T11:52:03.199Z"
   },
   {
    "duration": 305,
    "start_time": "2022-10-07T11:52:13.270Z"
   },
   {
    "duration": 358,
    "start_time": "2022-10-07T11:52:20.134Z"
   },
   {
    "duration": 373,
    "start_time": "2022-10-07T11:52:27.971Z"
   },
   {
    "duration": 5,
    "start_time": "2022-10-07T12:08:34.752Z"
   },
   {
    "duration": 8,
    "start_time": "2022-10-07T12:08:59.270Z"
   },
   {
    "duration": 16,
    "start_time": "2022-10-07T12:09:09.003Z"
   },
   {
    "duration": 8,
    "start_time": "2022-10-07T12:09:30.574Z"
   },
   {
    "duration": 21,
    "start_time": "2022-10-07T12:09:38.632Z"
   },
   {
    "duration": 7,
    "start_time": "2022-10-07T12:09:43.827Z"
   },
   {
    "duration": 10,
    "start_time": "2022-10-07T12:10:46.026Z"
   },
   {
    "duration": 16,
    "start_time": "2022-10-07T12:10:57.980Z"
   },
   {
    "duration": 7,
    "start_time": "2022-10-07T12:11:14.392Z"
   },
   {
    "duration": 17,
    "start_time": "2022-10-07T12:11:23.524Z"
   },
   {
    "duration": 7,
    "start_time": "2022-10-07T12:11:58.985Z"
   },
   {
    "duration": 8,
    "start_time": "2022-10-07T12:12:37.241Z"
   },
   {
    "duration": 1451,
    "start_time": "2022-10-07T19:47:25.948Z"
   },
   {
    "duration": 215,
    "start_time": "2022-10-07T19:47:27.401Z"
   },
   {
    "duration": 36,
    "start_time": "2022-10-07T19:47:27.618Z"
   },
   {
    "duration": 16,
    "start_time": "2022-10-07T19:47:27.656Z"
   },
   {
    "duration": 39,
    "start_time": "2022-10-07T19:47:27.675Z"
   },
   {
    "duration": 20,
    "start_time": "2022-10-07T19:47:27.716Z"
   },
   {
    "duration": 3,
    "start_time": "2022-10-07T19:47:27.738Z"
   },
   {
    "duration": 17,
    "start_time": "2022-10-07T19:47:27.743Z"
   },
   {
    "duration": 36,
    "start_time": "2022-10-07T19:47:27.761Z"
   },
   {
    "duration": 9,
    "start_time": "2022-10-07T19:47:27.802Z"
   },
   {
    "duration": 13,
    "start_time": "2022-10-07T19:47:27.812Z"
   },
   {
    "duration": 14,
    "start_time": "2022-10-07T19:47:27.827Z"
   },
   {
    "duration": 25,
    "start_time": "2022-10-07T19:47:27.843Z"
   },
   {
    "duration": 29,
    "start_time": "2022-10-07T19:47:27.871Z"
   },
   {
    "duration": 12,
    "start_time": "2022-10-07T19:47:27.902Z"
   },
   {
    "duration": 212,
    "start_time": "2022-10-07T19:47:27.916Z"
   },
   {
    "duration": 3,
    "start_time": "2022-10-07T19:47:28.129Z"
   },
   {
    "duration": 7,
    "start_time": "2022-10-07T19:47:28.133Z"
   },
   {
    "duration": 6,
    "start_time": "2022-10-07T19:47:28.142Z"
   },
   {
    "duration": 11,
    "start_time": "2022-10-07T19:47:28.149Z"
   },
   {
    "duration": 6,
    "start_time": "2022-10-07T19:47:28.162Z"
   },
   {
    "duration": 6,
    "start_time": "2022-10-07T19:47:28.169Z"
   },
   {
    "duration": 21,
    "start_time": "2022-10-07T19:47:28.176Z"
   },
   {
    "duration": 32,
    "start_time": "2022-10-07T19:47:28.200Z"
   },
   {
    "duration": 12,
    "start_time": "2022-10-07T19:47:28.234Z"
   },
   {
    "duration": 15,
    "start_time": "2022-10-07T19:47:28.248Z"
   },
   {
    "duration": 28,
    "start_time": "2022-10-07T19:47:28.265Z"
   },
   {
    "duration": 7,
    "start_time": "2022-10-07T19:47:28.306Z"
   },
   {
    "duration": 29,
    "start_time": "2022-10-07T19:47:28.316Z"
   },
   {
    "duration": 101,
    "start_time": "2022-10-07T19:47:28.347Z"
   },
   {
    "duration": 7,
    "start_time": "2022-10-07T19:47:28.449Z"
   },
   {
    "duration": 204,
    "start_time": "2022-10-07T19:47:28.457Z"
   },
   {
    "duration": 10,
    "start_time": "2022-10-07T19:47:28.663Z"
   },
   {
    "duration": 284,
    "start_time": "2022-10-07T19:47:28.675Z"
   },
   {
    "duration": 3,
    "start_time": "2022-10-07T19:47:28.962Z"
   },
   {
    "duration": 1148,
    "start_time": "2022-10-07T19:47:28.967Z"
   },
   {
    "duration": 8,
    "start_time": "2022-10-07T19:47:30.117Z"
   },
   {
    "duration": 211,
    "start_time": "2022-10-07T19:47:30.127Z"
   },
   {
    "duration": 266,
    "start_time": "2022-10-07T19:47:30.340Z"
   },
   {
    "duration": 198,
    "start_time": "2022-10-07T19:47:30.608Z"
   },
   {
    "duration": 349,
    "start_time": "2022-10-07T19:47:30.812Z"
   },
   {
    "duration": 298,
    "start_time": "2022-10-07T19:47:31.162Z"
   },
   {
    "duration": 210,
    "start_time": "2022-10-07T19:47:31.462Z"
   },
   {
    "duration": 267,
    "start_time": "2022-10-07T19:47:31.674Z"
   },
   {
    "duration": 246,
    "start_time": "2022-10-07T19:47:31.943Z"
   },
   {
    "duration": 16,
    "start_time": "2022-10-07T19:47:32.196Z"
   },
   {
    "duration": 16,
    "start_time": "2022-10-07T19:47:32.214Z"
   },
   {
    "duration": 4,
    "start_time": "2022-10-07T19:47:32.233Z"
   },
   {
    "duration": 1105,
    "start_time": "2022-10-07T19:47:32.239Z"
   },
   {
    "duration": 935,
    "start_time": "2022-10-07T19:47:33.346Z"
   },
   {
    "duration": 17,
    "start_time": "2022-10-07T19:47:34.290Z"
   },
   {
    "duration": 21,
    "start_time": "2022-10-07T19:47:34.309Z"
   },
   {
    "duration": 17,
    "start_time": "2022-10-07T19:47:34.332Z"
   },
   {
    "duration": 228,
    "start_time": "2022-10-07T19:47:34.351Z"
   },
   {
    "duration": 231,
    "start_time": "2022-10-07T19:47:34.581Z"
   },
   {
    "duration": 214,
    "start_time": "2022-10-07T19:47:34.813Z"
   },
   {
    "duration": 291,
    "start_time": "2022-10-07T19:47:35.029Z"
   },
   {
    "duration": 13,
    "start_time": "2022-10-07T19:47:35.322Z"
   },
   {
    "duration": 216,
    "start_time": "2022-10-07T19:47:35.337Z"
   },
   {
    "duration": 13,
    "start_time": "2022-10-07T19:47:35.554Z"
   },
   {
    "duration": 209,
    "start_time": "2022-10-07T19:47:35.569Z"
   },
   {
    "duration": 26,
    "start_time": "2022-10-07T19:47:35.780Z"
   },
   {
    "duration": 15,
    "start_time": "2022-10-07T19:47:35.808Z"
   },
   {
    "duration": 323,
    "start_time": "2022-10-07T19:47:35.825Z"
   },
   {
    "duration": 21,
    "start_time": "2022-10-07T19:47:36.150Z"
   },
   {
    "duration": 34,
    "start_time": "2022-10-07T19:47:36.173Z"
   },
   {
    "duration": 203,
    "start_time": "2022-10-07T19:47:36.209Z"
   },
   {
    "duration": 15,
    "start_time": "2022-10-07T19:47:36.414Z"
   },
   {
    "duration": 11,
    "start_time": "2022-10-07T19:47:36.431Z"
   },
   {
    "duration": 7,
    "start_time": "2022-10-07T19:47:36.444Z"
   },
   {
    "duration": 50,
    "start_time": "2022-10-07T19:47:36.453Z"
   },
   {
    "duration": 9,
    "start_time": "2022-10-07T19:47:36.505Z"
   },
   {
    "duration": 18,
    "start_time": "2022-10-07T19:47:36.517Z"
   },
   {
    "duration": 6,
    "start_time": "2022-10-07T19:47:36.536Z"
   },
   {
    "duration": 8,
    "start_time": "2022-10-07T19:47:36.544Z"
   },
   {
    "duration": 40,
    "start_time": "2022-10-07T19:47:36.554Z"
   },
   {
    "duration": 7,
    "start_time": "2022-10-07T19:47:36.596Z"
   },
   {
    "duration": 19,
    "start_time": "2022-10-07T19:47:36.607Z"
   },
   {
    "duration": 10,
    "start_time": "2022-10-07T19:47:36.627Z"
   },
   {
    "duration": 4,
    "start_time": "2022-10-07T19:56:59.412Z"
   },
   {
    "duration": 8,
    "start_time": "2022-10-07T19:57:06.979Z"
   },
   {
    "duration": 80,
    "start_time": "2022-10-07T20:04:22.434Z"
   },
   {
    "duration": 100,
    "start_time": "2022-10-07T20:07:45.775Z"
   },
   {
    "duration": 989,
    "start_time": "2022-10-07T20:07:52.280Z"
   },
   {
    "duration": 105,
    "start_time": "2022-10-07T20:10:43.002Z"
   },
   {
    "duration": 94,
    "start_time": "2022-10-07T20:11:10.975Z"
   },
   {
    "duration": 82,
    "start_time": "2022-10-07T20:11:31.213Z"
   },
   {
    "duration": 91,
    "start_time": "2022-10-07T20:11:46.386Z"
   },
   {
    "duration": 80,
    "start_time": "2022-10-07T20:12:06.456Z"
   },
   {
    "duration": 92,
    "start_time": "2022-10-07T20:12:13.110Z"
   },
   {
    "duration": 1040,
    "start_time": "2022-10-07T20:12:23.559Z"
   },
   {
    "duration": 1001,
    "start_time": "2022-10-07T20:13:12.157Z"
   },
   {
    "duration": 1337,
    "start_time": "2022-10-07T20:14:10.955Z"
   },
   {
    "duration": 69,
    "start_time": "2022-10-07T20:14:12.295Z"
   },
   {
    "duration": 45,
    "start_time": "2022-10-07T20:14:12.366Z"
   },
   {
    "duration": 16,
    "start_time": "2022-10-07T20:14:12.413Z"
   },
   {
    "duration": 33,
    "start_time": "2022-10-07T20:14:12.432Z"
   },
   {
    "duration": 41,
    "start_time": "2022-10-07T20:14:12.466Z"
   },
   {
    "duration": 11,
    "start_time": "2022-10-07T20:14:12.509Z"
   },
   {
    "duration": 12,
    "start_time": "2022-10-07T20:14:12.523Z"
   },
   {
    "duration": 24,
    "start_time": "2022-10-07T20:14:12.537Z"
   },
   {
    "duration": 9,
    "start_time": "2022-10-07T20:14:12.562Z"
   },
   {
    "duration": 35,
    "start_time": "2022-10-07T20:14:12.573Z"
   },
   {
    "duration": 8,
    "start_time": "2022-10-07T20:14:12.610Z"
   },
   {
    "duration": 19,
    "start_time": "2022-10-07T20:14:12.620Z"
   },
   {
    "duration": 10,
    "start_time": "2022-10-07T20:14:12.642Z"
   },
   {
    "duration": 5,
    "start_time": "2022-10-07T20:14:12.655Z"
   },
   {
    "duration": 262,
    "start_time": "2022-10-07T20:14:12.661Z"
   },
   {
    "duration": 3,
    "start_time": "2022-10-07T20:14:12.924Z"
   },
   {
    "duration": 8,
    "start_time": "2022-10-07T20:14:12.929Z"
   },
   {
    "duration": 5,
    "start_time": "2022-10-07T20:14:12.939Z"
   },
   {
    "duration": 12,
    "start_time": "2022-10-07T20:14:12.946Z"
   },
   {
    "duration": 5,
    "start_time": "2022-10-07T20:14:12.960Z"
   },
   {
    "duration": 24,
    "start_time": "2022-10-07T20:14:12.967Z"
   },
   {
    "duration": 8,
    "start_time": "2022-10-07T20:14:12.994Z"
   },
   {
    "duration": 39,
    "start_time": "2022-10-07T20:14:13.008Z"
   },
   {
    "duration": 11,
    "start_time": "2022-10-07T20:14:13.049Z"
   },
   {
    "duration": 9,
    "start_time": "2022-10-07T20:14:13.062Z"
   },
   {
    "duration": 26,
    "start_time": "2022-10-07T20:14:13.072Z"
   },
   {
    "duration": 25,
    "start_time": "2022-10-07T20:14:13.101Z"
   },
   {
    "duration": 6,
    "start_time": "2022-10-07T20:14:13.128Z"
   },
   {
    "duration": 22,
    "start_time": "2022-10-07T20:14:13.136Z"
   },
   {
    "duration": 115,
    "start_time": "2022-10-07T20:14:13.161Z"
   },
   {
    "duration": 21,
    "start_time": "2022-10-07T20:14:13.279Z"
   },
   {
    "duration": 214,
    "start_time": "2022-10-07T20:14:13.302Z"
   },
   {
    "duration": 11,
    "start_time": "2022-10-07T20:14:13.518Z"
   },
   {
    "duration": 329,
    "start_time": "2022-10-07T20:14:13.531Z"
   },
   {
    "duration": 3,
    "start_time": "2022-10-07T20:14:13.861Z"
   },
   {
    "duration": 1186,
    "start_time": "2022-10-07T20:14:13.867Z"
   },
   {
    "duration": 6,
    "start_time": "2022-10-07T20:14:15.056Z"
   },
   {
    "duration": 218,
    "start_time": "2022-10-07T20:14:15.064Z"
   },
   {
    "duration": 284,
    "start_time": "2022-10-07T20:14:15.284Z"
   },
   {
    "duration": 168,
    "start_time": "2022-10-07T20:14:15.573Z"
   },
   {
    "duration": 351,
    "start_time": "2022-10-07T20:14:15.742Z"
   },
   {
    "duration": 318,
    "start_time": "2022-10-07T20:14:16.099Z"
   },
   {
    "duration": 220,
    "start_time": "2022-10-07T20:14:16.419Z"
   },
   {
    "duration": 246,
    "start_time": "2022-10-07T20:14:16.641Z"
   },
   {
    "duration": 219,
    "start_time": "2022-10-07T20:14:16.889Z"
   },
   {
    "duration": 11,
    "start_time": "2022-10-07T20:14:17.111Z"
   },
   {
    "duration": 15,
    "start_time": "2022-10-07T20:14:17.124Z"
   },
   {
    "duration": 962,
    "start_time": "2022-10-07T20:14:17.141Z"
   },
   {
    "duration": 5,
    "start_time": "2022-10-07T20:14:18.108Z"
   },
   {
    "duration": 1138,
    "start_time": "2022-10-07T20:14:18.114Z"
   },
   {
    "duration": 1049,
    "start_time": "2022-10-07T20:14:19.254Z"
   },
   {
    "duration": 18,
    "start_time": "2022-10-07T20:14:20.305Z"
   },
   {
    "duration": 16,
    "start_time": "2022-10-07T20:14:20.325Z"
   },
   {
    "duration": 50,
    "start_time": "2022-10-07T20:14:20.343Z"
   },
   {
    "duration": 239,
    "start_time": "2022-10-07T20:14:20.399Z"
   },
   {
    "duration": 259,
    "start_time": "2022-10-07T20:14:20.640Z"
   },
   {
    "duration": 226,
    "start_time": "2022-10-07T20:14:20.901Z"
   },
   {
    "duration": 314,
    "start_time": "2022-10-07T20:14:21.129Z"
   },
   {
    "duration": 13,
    "start_time": "2022-10-07T20:14:21.445Z"
   },
   {
    "duration": 324,
    "start_time": "2022-10-07T20:14:21.461Z"
   },
   {
    "duration": 25,
    "start_time": "2022-10-07T20:14:21.787Z"
   },
   {
    "duration": 302,
    "start_time": "2022-10-07T20:14:21.814Z"
   },
   {
    "duration": 24,
    "start_time": "2022-10-07T20:14:22.118Z"
   },
   {
    "duration": 29,
    "start_time": "2022-10-07T20:14:22.144Z"
   },
   {
    "duration": 261,
    "start_time": "2022-10-07T20:14:22.175Z"
   },
   {
    "duration": 16,
    "start_time": "2022-10-07T20:14:22.438Z"
   },
   {
    "duration": 20,
    "start_time": "2022-10-07T20:14:22.457Z"
   },
   {
    "duration": 220,
    "start_time": "2022-10-07T20:14:22.495Z"
   },
   {
    "duration": 20,
    "start_time": "2022-10-07T20:14:22.718Z"
   },
   {
    "duration": 17,
    "start_time": "2022-10-07T20:14:22.740Z"
   },
   {
    "duration": 40,
    "start_time": "2022-10-07T20:14:22.759Z"
   },
   {
    "duration": 20,
    "start_time": "2022-10-07T20:14:22.801Z"
   },
   {
    "duration": 10,
    "start_time": "2022-10-07T20:14:22.823Z"
   },
   {
    "duration": 24,
    "start_time": "2022-10-07T20:14:22.834Z"
   },
   {
    "duration": 6,
    "start_time": "2022-10-07T20:14:22.860Z"
   },
   {
    "duration": 27,
    "start_time": "2022-10-07T20:14:22.868Z"
   },
   {
    "duration": 36,
    "start_time": "2022-10-07T20:14:22.897Z"
   },
   {
    "duration": 6,
    "start_time": "2022-10-07T20:14:22.936Z"
   },
   {
    "duration": 26,
    "start_time": "2022-10-07T20:14:22.944Z"
   },
   {
    "duration": 10,
    "start_time": "2022-10-07T20:14:22.972Z"
   },
   {
    "duration": 968,
    "start_time": "2022-10-07T20:15:24.767Z"
   },
   {
    "duration": 194,
    "start_time": "2022-10-07T20:16:00.310Z"
   },
   {
    "duration": 1092,
    "start_time": "2022-10-07T20:16:38.061Z"
   },
   {
    "duration": 957,
    "start_time": "2022-10-07T20:18:55.253Z"
   },
   {
    "duration": 923,
    "start_time": "2022-10-07T20:19:23.507Z"
   },
   {
    "duration": 52,
    "start_time": "2022-10-07T20:40:10.525Z"
   },
   {
    "duration": 46,
    "start_time": "2022-10-07T20:40:34.910Z"
   },
   {
    "duration": 49,
    "start_time": "2022-10-07T20:41:16.123Z"
   },
   {
    "duration": 1506,
    "start_time": "2022-10-07T20:41:52.661Z"
   },
   {
    "duration": 1345,
    "start_time": "2022-10-07T20:42:12.724Z"
   },
   {
    "duration": 1005,
    "start_time": "2022-10-07T20:42:38.163Z"
   },
   {
    "duration": 667,
    "start_time": "2022-10-07T21:01:09.757Z"
   },
   {
    "duration": 1059,
    "start_time": "2022-10-11T21:26:14.518Z"
   },
   {
    "duration": 179,
    "start_time": "2022-10-11T21:26:15.579Z"
   },
   {
    "duration": 29,
    "start_time": "2022-10-11T21:26:15.760Z"
   },
   {
    "duration": 12,
    "start_time": "2022-10-11T21:26:15.792Z"
   },
   {
    "duration": 26,
    "start_time": "2022-10-11T21:26:15.806Z"
   },
   {
    "duration": 15,
    "start_time": "2022-10-11T21:26:15.834Z"
   },
   {
    "duration": 3,
    "start_time": "2022-10-11T21:26:15.850Z"
   },
   {
    "duration": 13,
    "start_time": "2022-10-11T21:26:15.855Z"
   },
   {
    "duration": 36,
    "start_time": "2022-10-11T21:26:15.870Z"
   },
   {
    "duration": 6,
    "start_time": "2022-10-11T21:26:15.909Z"
   },
   {
    "duration": 11,
    "start_time": "2022-10-11T21:26:15.917Z"
   },
   {
    "duration": 5,
    "start_time": "2022-10-11T21:26:15.930Z"
   },
   {
    "duration": 14,
    "start_time": "2022-10-11T21:26:15.937Z"
   },
   {
    "duration": 8,
    "start_time": "2022-10-11T21:26:15.952Z"
   },
   {
    "duration": 5,
    "start_time": "2022-10-11T21:26:15.961Z"
   },
   {
    "duration": 195,
    "start_time": "2022-10-11T21:26:15.967Z"
   },
   {
    "duration": 2,
    "start_time": "2022-10-11T21:26:16.164Z"
   },
   {
    "duration": 5,
    "start_time": "2022-10-11T21:26:16.167Z"
   },
   {
    "duration": 16,
    "start_time": "2022-10-11T21:26:16.174Z"
   },
   {
    "duration": 20,
    "start_time": "2022-10-11T21:26:16.191Z"
   },
   {
    "duration": 8,
    "start_time": "2022-10-11T21:26:16.212Z"
   },
   {
    "duration": 27,
    "start_time": "2022-10-11T21:26:16.221Z"
   },
   {
    "duration": 13,
    "start_time": "2022-10-11T21:26:16.250Z"
   },
   {
    "duration": 27,
    "start_time": "2022-10-11T21:26:16.265Z"
   },
   {
    "duration": 9,
    "start_time": "2022-10-11T21:26:16.294Z"
   },
   {
    "duration": 3,
    "start_time": "2022-10-11T21:26:16.304Z"
   },
   {
    "duration": 16,
    "start_time": "2022-10-11T21:26:16.309Z"
   },
   {
    "duration": 7,
    "start_time": "2022-10-11T21:26:16.329Z"
   },
   {
    "duration": 8,
    "start_time": "2022-10-11T21:26:16.338Z"
   },
   {
    "duration": 18,
    "start_time": "2022-10-11T21:26:16.347Z"
   },
   {
    "duration": 83,
    "start_time": "2022-10-11T21:26:16.366Z"
   },
   {
    "duration": 5,
    "start_time": "2022-10-11T21:26:16.451Z"
   },
   {
    "duration": 151,
    "start_time": "2022-10-11T21:26:16.458Z"
   },
   {
    "duration": 8,
    "start_time": "2022-10-11T21:26:16.611Z"
   },
   {
    "duration": 224,
    "start_time": "2022-10-11T21:26:16.621Z"
   },
   {
    "duration": 3,
    "start_time": "2022-10-11T21:26:16.846Z"
   },
   {
    "duration": 937,
    "start_time": "2022-10-11T21:26:16.850Z"
   },
   {
    "duration": 5,
    "start_time": "2022-10-11T21:26:17.789Z"
   },
   {
    "duration": 168,
    "start_time": "2022-10-11T21:26:17.795Z"
   },
   {
    "duration": 227,
    "start_time": "2022-10-11T21:26:17.965Z"
   },
   {
    "duration": 140,
    "start_time": "2022-10-11T21:26:18.194Z"
   },
   {
    "duration": 273,
    "start_time": "2022-10-11T21:26:18.336Z"
   },
   {
    "duration": 235,
    "start_time": "2022-10-11T21:26:18.610Z"
   },
   {
    "duration": 165,
    "start_time": "2022-10-11T21:26:18.847Z"
   },
   {
    "duration": 180,
    "start_time": "2022-10-11T21:26:19.014Z"
   },
   {
    "duration": 162,
    "start_time": "2022-10-11T21:26:19.196Z"
   },
   {
    "duration": 107,
    "start_time": "2022-10-11T21:26:19.359Z"
   },
   {
    "duration": 0,
    "start_time": "2022-10-11T21:26:19.468Z"
   },
   {
    "duration": 0,
    "start_time": "2022-10-11T21:26:19.469Z"
   },
   {
    "duration": 0,
    "start_time": "2022-10-11T21:26:19.470Z"
   },
   {
    "duration": 0,
    "start_time": "2022-10-11T21:26:19.471Z"
   },
   {
    "duration": 0,
    "start_time": "2022-10-11T21:26:19.472Z"
   },
   {
    "duration": 0,
    "start_time": "2022-10-11T21:26:19.473Z"
   },
   {
    "duration": 0,
    "start_time": "2022-10-11T21:26:19.474Z"
   },
   {
    "duration": 0,
    "start_time": "2022-10-11T21:26:19.475Z"
   },
   {
    "duration": 0,
    "start_time": "2022-10-11T21:26:19.475Z"
   },
   {
    "duration": 0,
    "start_time": "2022-10-11T21:26:19.476Z"
   },
   {
    "duration": 0,
    "start_time": "2022-10-11T21:26:19.477Z"
   },
   {
    "duration": 0,
    "start_time": "2022-10-11T21:26:19.478Z"
   },
   {
    "duration": 0,
    "start_time": "2022-10-11T21:26:19.479Z"
   },
   {
    "duration": 0,
    "start_time": "2022-10-11T21:26:19.480Z"
   },
   {
    "duration": 0,
    "start_time": "2022-10-11T21:26:19.481Z"
   },
   {
    "duration": 0,
    "start_time": "2022-10-11T21:26:19.482Z"
   },
   {
    "duration": 0,
    "start_time": "2022-10-11T21:26:19.482Z"
   },
   {
    "duration": 0,
    "start_time": "2022-10-11T21:26:19.483Z"
   },
   {
    "duration": 0,
    "start_time": "2022-10-11T21:26:19.484Z"
   },
   {
    "duration": 0,
    "start_time": "2022-10-11T21:26:19.485Z"
   },
   {
    "duration": 0,
    "start_time": "2022-10-11T21:26:19.486Z"
   },
   {
    "duration": 0,
    "start_time": "2022-10-11T21:26:19.487Z"
   },
   {
    "duration": 0,
    "start_time": "2022-10-11T21:26:19.488Z"
   },
   {
    "duration": 0,
    "start_time": "2022-10-11T21:26:19.489Z"
   },
   {
    "duration": 0,
    "start_time": "2022-10-11T21:26:19.490Z"
   },
   {
    "duration": 1,
    "start_time": "2022-10-11T21:26:19.490Z"
   },
   {
    "duration": 0,
    "start_time": "2022-10-11T21:26:19.492Z"
   },
   {
    "duration": 0,
    "start_time": "2022-10-11T21:26:19.492Z"
   },
   {
    "duration": 0,
    "start_time": "2022-10-11T21:26:19.493Z"
   },
   {
    "duration": 0,
    "start_time": "2022-10-11T21:26:19.494Z"
   },
   {
    "duration": 0,
    "start_time": "2022-10-11T21:26:19.495Z"
   },
   {
    "duration": 0,
    "start_time": "2022-10-11T21:26:19.496Z"
   },
   {
    "duration": 0,
    "start_time": "2022-10-11T21:26:19.497Z"
   },
   {
    "duration": 0,
    "start_time": "2022-10-11T21:26:19.498Z"
   },
   {
    "duration": 0,
    "start_time": "2022-10-11T21:26:19.499Z"
   },
   {
    "duration": 0,
    "start_time": "2022-10-11T21:26:19.500Z"
   },
   {
    "duration": 102,
    "start_time": "2022-10-11T21:26:38.287Z"
   },
   {
    "duration": 3,
    "start_time": "2022-10-11T21:27:12.155Z"
   },
   {
    "duration": 826,
    "start_time": "2022-10-11T21:27:14.209Z"
   },
   {
    "duration": 27,
    "start_time": "2022-10-11T21:27:24.864Z"
   },
   {
    "duration": 132,
    "start_time": "2022-10-11T21:27:41.387Z"
   },
   {
    "duration": 139,
    "start_time": "2022-10-11T21:28:00.282Z"
   },
   {
    "duration": 19,
    "start_time": "2022-10-11T21:29:01.617Z"
   },
   {
    "duration": 18,
    "start_time": "2022-10-11T21:29:04.886Z"
   },
   {
    "duration": 13,
    "start_time": "2022-10-11T21:29:43.198Z"
   },
   {
    "duration": 165,
    "start_time": "2022-10-11T21:29:48.488Z"
   },
   {
    "duration": 471,
    "start_time": "2022-10-11T21:30:16.874Z"
   },
   {
    "duration": 210,
    "start_time": "2022-10-11T21:32:07.285Z"
   },
   {
    "duration": 9,
    "start_time": "2022-10-11T21:33:55.762Z"
   },
   {
    "duration": 7,
    "start_time": "2022-10-11T21:34:25.889Z"
   },
   {
    "duration": 13,
    "start_time": "2022-10-11T21:34:26.934Z"
   },
   {
    "duration": 6,
    "start_time": "2022-10-11T21:34:27.724Z"
   },
   {
    "duration": 13,
    "start_time": "2022-10-11T21:34:30.460Z"
   },
   {
    "duration": 5,
    "start_time": "2022-10-11T21:34:31.204Z"
   },
   {
    "duration": 5,
    "start_time": "2022-10-11T21:35:14.941Z"
   },
   {
    "duration": 13,
    "start_time": "2022-10-11T21:35:15.625Z"
   },
   {
    "duration": 7,
    "start_time": "2022-10-11T21:35:16.240Z"
   },
   {
    "duration": 15,
    "start_time": "2022-10-11T21:35:19.037Z"
   },
   {
    "duration": 6,
    "start_time": "2022-10-11T21:35:24.459Z"
   }
  ],
  "kernelspec": {
   "display_name": "Python 3 (ipykernel)",
   "language": "python",
   "name": "python3"
  },
  "language_info": {
   "codemirror_mode": {
    "name": "ipython",
    "version": 3
   },
   "file_extension": ".py",
   "mimetype": "text/x-python",
   "name": "python",
   "nbconvert_exporter": "python",
   "pygments_lexer": "ipython3",
   "version": "3.9.12"
  },
  "toc": {
   "base_numbering": 1,
   "nav_menu": {},
   "number_sections": true,
   "sideBar": true,
   "skip_h1_title": true,
   "title_cell": "Table of Contents",
   "title_sidebar": "Contents",
   "toc_cell": false,
   "toc_position": {
    "height": "calc(100% - 180px)",
    "left": "10px",
    "top": "150px",
    "width": "213.528px"
   },
   "toc_section_display": true,
   "toc_window_display": true
  }
 },
 "nbformat": 4,
 "nbformat_minor": 2
}
